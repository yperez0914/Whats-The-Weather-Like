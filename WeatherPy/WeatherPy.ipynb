{
 "cells": [
  {
   "cell_type": "markdown",
   "metadata": {},
   "source": [
    "# WeatherPy\n",
    "----\n",
    "\n",
    "#### Note\n",
    "* Instructions have been included for each segment. You do not have to follow them exactly, but they are included to help you think through the steps."
   ]
  },
  {
   "cell_type": "code",
   "execution_count": 1,
   "metadata": {
    "scrolled": true
   },
   "outputs": [],
   "source": [
    "# Dependencies and Setup\n",
    "import matplotlib.pyplot as plt\n",
    "import pandas as pd\n",
    "import numpy as np\n",
    "import requests\n",
    "import time\n",
    "import scipy.stats as stats\n",
    "import datetime as dt\n",
    "from scipy.stats import linregress\n",
    "import json\n",
    "from ratelimit import limits\n",
    "# Import API key\n",
    "from config import api_key\n",
    "# Incorporated citipy to determine city based on latitude and longitude\n",
    "from citipy import citipy\n",
    "\n",
    "# Output File (CSV)\n",
    "\n",
    "output_data_file = (r\"C:\\Users\\yenia\\Desktop\\JHU_Bootcamp\\Homework\\Whats-The-Weather-Like\\WeatherPy\\Data\\cities.csv\")\n",
    "# Range of latitudes and longitudes\n",
    "lat_range = (-90, 90)\n",
    "lng_range = (-180, 180)\n",
    "\n",
    "\n",
    "#limit calls per minute\n",
    "url = \"http://api.openweathermap.org/data/2.5/weather?\"\n",
    "one_minute = 60\n",
    "\n",
    "@limits(calls=60, period=one_minute)\n",
    "def call_api(url):\n",
    "    response = requests.get(query_url)\n",
    "\n",
    "    if response.status_code != 200:\n",
    "        raise Exception('API response: {}'.format(response.status_code))\n",
    "    return response"
   ]
  },
  {
   "cell_type": "markdown",
   "metadata": {},
   "source": [
    "## Generate Cities List"
   ]
  },
  {
   "cell_type": "code",
   "execution_count": 2,
   "metadata": {},
   "outputs": [
    {
     "data": {
      "text/plain": [
       "614"
      ]
     },
     "execution_count": 2,
     "metadata": {},
     "output_type": "execute_result"
    }
   ],
   "source": [
    "# List for holding lat_lngs and cities\n",
    "lat_lngs = []\n",
    "cities = []\n",
    "\n",
    "# Create a set of random lat and lng combinations\n",
    "lats = np.random.uniform(lat_range[0], lat_range[1], size=1500)\n",
    "lngs = np.random.uniform(lng_range[0], lng_range[1], size=1500)\n",
    "lat_lngs = zip(lats, lngs)\n",
    "\n",
    "# Identify nearest city for each lat, lng combination\n",
    "for lat_lng in lat_lngs:\n",
    "    city = citipy.nearest_city(lat_lng[0], lat_lng[1]).city_name\n",
    "    \n",
    "    # If the city is unique, then add it to a our cities list\n",
    "    if city not in cities:\n",
    "        cities.append(city)\n",
    "\n",
    "# Print the city count to confirm sufficient count\n",
    "len(cities)"
   ]
  },
  {
   "cell_type": "code",
   "execution_count": null,
   "metadata": {},
   "outputs": [],
   "source": []
  },
  {
   "cell_type": "markdown",
   "metadata": {},
   "source": [
    "### Perform API Calls\n",
    "* Perform a weather check on each city using a series of successive API calls.\n",
    "* Include a print log of each city as it'sbeing processed (with the city number and city name).\n"
   ]
  },
  {
   "cell_type": "code",
   "execution_count": 3,
   "metadata": {},
   "outputs": [
    {
     "name": "stdout",
     "output_type": "stream",
     "text": [
      "{\n",
      "    \"coord\": {\n",
      "        \"lon\": -95.36,\n",
      "        \"lat\": 29.76\n",
      "    },\n",
      "    \"weather\": [\n",
      "        {\n",
      "            \"id\": 802,\n",
      "            \"main\": \"Clouds\",\n",
      "            \"description\": \"scattered clouds\",\n",
      "            \"icon\": \"03d\"\n",
      "        }\n",
      "    ],\n",
      "    \"base\": \"stations\",\n",
      "    \"main\": {\n",
      "        \"temp\": 286.07,\n",
      "        \"feels_like\": 283.53,\n",
      "        \"temp_min\": 285.15,\n",
      "        \"temp_max\": 286.48,\n",
      "        \"pressure\": 1022,\n",
      "        \"humidity\": 58\n",
      "    },\n",
      "    \"visibility\": 10000,\n",
      "    \"wind\": {\n",
      "        \"speed\": 1.98,\n",
      "        \"deg\": 47\n",
      "    },\n",
      "    \"clouds\": {\n",
      "        \"all\": 40\n",
      "    },\n",
      "    \"dt\": 1607204685,\n",
      "    \"sys\": {\n",
      "        \"type\": 1,\n",
      "        \"id\": 4850,\n",
      "        \"country\": \"US\",\n",
      "        \"sunrise\": 1607173375,\n",
      "        \"sunset\": 1607210524\n",
      "    },\n",
      "    \"timezone\": -21600,\n",
      "    \"id\": 4699066,\n",
      "    \"name\": \"Houston\",\n",
      "    \"cod\": 200\n",
      "}\n",
      "{'coord': {'lon': -95.36, 'lat': 29.76}, 'weather': [{'id': 802, 'main': 'Clouds', 'description': 'scattered clouds', 'icon': '03d'}], 'base': 'stations', 'main': {'temp': 286.07, 'feels_like': 283.53, 'temp_min': 285.15, 'temp_max': 286.48, 'pressure': 1022, 'humidity': 58}, 'visibility': 10000, 'wind': {'speed': 1.98, 'deg': 47}, 'clouds': {'all': 40}, 'dt': 1607204685, 'sys': {'type': 1, 'id': 4850, 'country': 'US', 'sunrise': 1607173375, 'sunset': 1607210524}, 'timezone': -21600, 'id': 4699066, 'name': 'Houston', 'cod': 200}\n",
      "4699066 Houston\n"
     ]
    }
   ],
   "source": [
    "#Exploratory test \n",
    "test =  [\"Houston\"]\n",
    "results = []\n",
    "for city in test:\n",
    "    query_url = f\"{url}appid={api_key}&q={city}\"\n",
    "    response = requests.get(query_url)\n",
    "    response_json = response.json()\n",
    "print (json.dumps(response_json, indent = 4))   \n",
    "print(response_json)\n",
    "#test retrieval of data using test city\n",
    "weather_id=response_json[\"weather\"][0][\"id\"]\n",
    "city_id = response_json[\"id\"]\n",
    "city_name_test = response_json[\"name\"]\n",
    "print(city_id,city_name_test)"
   ]
  },
  {
   "cell_type": "code",
   "execution_count": 4,
   "metadata": {},
   "outputs": [
    {
     "name": "stdout",
     "output_type": "stream",
     "text": [
      "4032243 Vaini\n",
      "3423146 Ilulissat\n",
      "5122534 Jamestown\n",
      "1853483 Oyama\n",
      "2630299 Hofn\n",
      "2015306 Tiksi\n",
      "3833367 Ushuaia\n",
      "Not found.\n",
      "6201424 Mataura\n",
      "Not found.\n",
      "3372707 Ribeira Grande\n",
      "2206939 Bluff\n",
      "6355222 Yulara\n",
      "3372472 Vila Franca do Campo\n",
      "3874787 Punta Arenas\n",
      "4020109 Atuona\n",
      "3418910 Upernavik\n",
      "2075265 Busselton\n",
      "5848280 Kapaa\n",
      "2562619 Saint Lawrence\n",
      "3420768 Qasigiannguit\n",
      "2206874 Waipawa\n",
      "2121385 Severo-Kuril'sk\n",
      "2027244 Bagdarin\n",
      "3927995 Tambo\n",
      "2074865 Carnarvon\n",
      "2171099 Codrington\n",
      "2208248 Kaitangata\n",
      "3932145 Pisco\n",
      "2155415 New Norfolk\n",
      "3466165 Cidreira\n",
      "3146487 Raudeberg\n",
      "1857968 Kuwana\n",
      "2112802 Hasaki\n",
      "157247 Kintinku\n",
      "4030556 Rikitea\n",
      "5364271 Laguna\n",
      "Not found.\n",
      "3870282 Talcahuano\n",
      "1015776 Bredasdorp\n",
      "3115824 Muros\n",
      "6185377 Yellowknife\n",
      "5880054 Barrow\n",
      "3137469 Sørland\n",
      "2194098 Ahipara\n",
      "602913 Skellefteå\n",
      "2270385 Camacha\n",
      "2173125 Burnie\n",
      "5106841 Albany\n",
      "3393692 Itarema\n",
      "4202810 Jesup\n",
      "2156643 Mount Gambier\n",
      "Not found.\n",
      "Not found.\n",
      "5379439 Ontario\n",
      "893549 Chipinge\n",
      "933995 Souillac\n",
      "2111884 Miyako\n",
      "5847411 Kahului\n",
      "585220 Qusar\n",
      "4759556 Forest\n",
      "6167817 Torbay\n",
      "2126123 Chokurdakh\n",
      "3883457 Lebu\n",
      "2435124 Bitkine\n",
      "1254046 Tura\n",
      "6089245 Norman Wells\n",
      "3451138 Rio Grande\n",
      "Not found.\n",
      "5978133 Hudson Bay\n",
      "935215 Saint-Philippe\n",
      "3985710 Cabo San Lucas\n",
      "5146062 Ashland\n",
      "104515 Makkah al Mukarramah\n",
      "1651810 Airai\n",
      "5380437 Pacific Grove\n",
      "86049 Jalu\n",
      "2110227 Butaritari\n",
      "2635199 Ullapool\n",
      "5855927 Hilo\n",
      "2122090 Pevek\n",
      "3356832 Henties Bay\n",
      "3831208 Qaanaaq\n",
      "2120591 Tilichiki\n",
      "2264557 Ponta do Sol\n",
      "3366880 Hermanus\n",
      "727801 Rakitovo\n",
      "Not found.\n",
      "3108317 Tarancón\n",
      "2163355 Hobart\n",
      "1282256 Hithadhoo\n",
      "3572189 High Rock\n",
      "673921 Mangalia\n",
      "2645826 Kendal\n",
      "2537881 Safi\n",
      "3372783 Ponta Delgada\n",
      "1855612 Nara\n",
      "Not found.\n",
      "3466980 Caravelas\n",
      "3424607 Tasiilaq\n",
      "2071860 Esperance\n",
      "3939761 Hualmay\n",
      "1713191 Garchitorena\n",
      "Not found.\n",
      "2180815 Tuatapere\n",
      "1819729 Hong Kong\n",
      "5067114 Douglas\n",
      "1524606 Derzhavīnsk\n",
      "5367788 Lompoc\n",
      "5742974 North Bend\n",
      "6165406 Thompson\n",
      "2242001 Caxito\n",
      "2063042 Port Hedland\n",
      "964432 Port Alfred\n",
      "5866583 Saint Paul Harbor\n",
      "1502389 Koshurnikovo\n",
      "1168700 Ormara\n",
      "3650721 Tena\n",
      "6951112 Somerset West\n",
      "1489661 Tevriz\n",
      "1059507 Marovoay\n",
      "Not found.\n",
      "934649 Cap Malheureux\n",
      "1267390 Kavaratti\n",
      "3466704 Castro\n",
      "Not found.\n",
      "3893726 Constitución\n",
      "3369157 Cape Town\n",
      "2063036 Port Lincoln\n",
      "1166827 Rohri\n",
      "2614553 Rønne\n",
      "2122783 Katangli\n",
      "634093 Tornio\n",
      "3141667 Roald\n",
      "3901501 Villazón\n",
      "964420 Port Elizabeth\n",
      "2017215 Sangar\n",
      "3471451 Arraial do Cabo\n",
      "778707 Mehamn\n",
      "1623251 Trenggalek\n",
      "1705441 Lubao\n",
      "2963295 Killybegs\n",
      "Not found.\n",
      "3899695 Ancud\n",
      "364071 Wad Rāwah\n",
      "Not found.\n",
      "1563281 Tuy Hoa\n",
      "2173911 Broken Hill\n",
      "3372964 Lagoa\n",
      "1056899 Sambava\n",
      "380348 Abū Zabad\n",
      "Not found.\n",
      "2092164 Lorengau\n",
      "Not found.\n",
      "889215 Kariba\n",
      "Not found.\n",
      "2022572 Khatanga\n",
      "3893629 Coquimbo\n",
      "863061 Usinsk\n",
      "3897334 Calbuco\n",
      "211647 Lodja\n",
      "2527087 Tiznit Province\n",
      "Not found.\n",
      "1295765 Sittwe\n",
      "1507390 Dikson\n",
      "Not found.\n",
      "3445026 Vila Velha\n",
      "1501377 Kungurtug\n",
      "6111862 Port Hardy\n",
      "1633419 Padang\n",
      "3403344 Canindé de São Francisco\n",
      "Not found.\n",
      "2191562 Dunedin\n",
      "4513583 Hamilton\n",
      "3533462 Acapulco de Juárez\n",
      "3836873 San Miguel de Tucumán\n",
      "1067565 Beloha\n",
      "1162738 Jhang\n",
      "4231997 Avera\n",
      "215976 Ilebo\n",
      "4174715 Tallahassee\n",
      "5563839 Fortuna\n",
      "Not found.\n",
      "5110365 Broome\n",
      "Not found.\n",
      "3421765 Nanortalik\n",
      "2068110 Kununurra\n",
      "5380420 Pacifica\n",
      "2077895 Alice Springs\n",
      "5557293 Sitka\n",
      "3693584 Pimentel\n",
      "1507116 Dudinka\n",
      "3372760 Praia da Vitória\n",
      "935214 Saint-Pierre\n",
      "2643044 Margate\n",
      "3451234 Rio Claro\n",
      "1732385 Aborlan\n",
      "Not found.\n",
      "3348313 Huambo\n",
      "Not found.\n",
      "2019488 Namtsy\n",
      "3443061 Chui\n",
      "1605102 Wang Saphung\n",
      "2137773 Vao\n",
      "1797117 Rongcheng\n",
      "2136825 Isangel\n",
      "164947 Salamiyah\n",
      "3652764 Puerto Ayora\n",
      "2335953 Jos\n",
      "1252810 Yairipok\n",
      "1209562 Bera\n",
      "1788852 Xining\n",
      "1006984 East London\n",
      "1498161 Muzhi\n",
      "757692 Świdnik\n",
      "2511716 Roquetas de Mar\n",
      "986717 Kruisfontein\n",
      "3390700 Regeneração\n",
      "3665202 Aripuanã\n",
      "5815135 Washington\n",
      "6255012 Flinders\n",
      "3899539 Antofagasta\n",
      "5870133 Nome\n",
      "3387204 Soure\n",
      "3430863 Mar del Plata\n",
      "1273246 Deogarh\n",
      "1516048 Khovd\n",
      "4686163 Dickinson\n",
      "943032 Volksrust\n",
      "1586443 Ca Mau\n",
      "2377450 Nouakchott\n",
      "Not found.\n",
      "6170031 Tuktoyaktuk\n",
      "1783621 Zunyi\n",
      "1226260 Trincomalee\n",
      "3382160 Cayenne\n",
      "4834162 Fairfield\n",
      "2396518 Port-Gentil\n",
      "Not found.\n",
      "2219235 Ubari\n",
      "2449893 Tessalit\n",
      "5855051 ‘Ewa Beach\n",
      "2476660 Tigzirt\n",
      "556268 Ostrovnoy\n",
      "3353383 Rundu\n",
      "501847 Rochegda\n",
      "1627877 Sembakung\n",
      "1715015 Dicabisagan\n",
      "1626542 Sorong\n",
      "2654970 Brae\n",
      "Not found.\n",
      "5690532 Minot\n",
      "72181 Marzuq\n",
      "Not found.\n",
      "2017155 Saskylakh\n",
      "3424901 Aasiaat\n",
      "2030065 Mandalgovi\n",
      "4937557 Gardner\n",
      "2119283 Zyryanka\n",
      "4726521 San Patricio\n",
      "2090021 Namatanai\n",
      "2317397 Bandundu Province\n",
      "1259385 Port Blair\n",
      "1307741 Myitkyina\n",
      "Not found.\n",
      "4034551 Faanui\n",
      "2178753 Kirakira\n",
      "3354077 Opuwo\n",
      "3839479 Rafaela\n",
      "3393106 Paragominas\n",
      "Not found.\n",
      "3421719 Narsaq\n",
      "2294915 Takoradze\n",
      "3374210 São Filipe\n",
      "2187060 Maungaturoto\n",
      "2729907 Longyearbyen\n",
      "Not found.\n",
      "1508501 Chadan\n",
      "4791259 Virginia Beach\n",
      "4031574 Provideniya\n",
      "1649150 Bengkulu\n",
      "174726 Saravan\n",
      "2525041 Cefalù\n",
      "1039536 Maxixe\n",
      "1735106 George Town\n",
      "934322 Mahébourg\n",
      "1528121 Karakol\n",
      "6096551 Pangnirtung\n",
      "Not found.\n",
      "Not found.\n",
      "1159384 Tāybād\n",
      "1504382 Kargasok\n",
      "1184008 Bagarji\n",
      "2409914 Bonthe\n",
      "2112309 Katsuura\n",
      "4706057 Lewisville\n",
      "1064275 Ihosy\n",
      "2126682 Bilibino\n",
      "3465764 Conceição das Alagoas\n",
      "3837213 San Juan\n",
      "3458662 Leme\n",
      "3733861 Curillo\n",
      "5746545 Portland\n",
      "3439208 Capiíbary\n",
      "1278969 Along\n",
      "2024848 Drovyanaya\n",
      "2070998 Geraldton\n",
      "7647007 Bariloche\n",
      "2514651 Los Llanos de Aridane\n",
      "Not found.\n",
      "2101169 Aitape\n",
      "3388847 São Félix do Xingu\n",
      "5861897 Fairbanks\n",
      "2181625 Te Anau\n",
      "4736028 Terrell\n",
      "1640972 Katobu\n",
      "1217007 Koson\n",
      "1488903 Turukhansk\n",
      "2256895 Mossendjo\n",
      "1507801 Chistogorskiy\n",
      "Not found.\n",
      "687065 Blahodatne\n",
      "5882953 Aklavik\n",
      "6157536 Stony Plain\n",
      "1572151 Nha Trang\n",
      "4035715 Avarua\n",
      "7671223 Kloulklubed\n",
      "Not found.\n",
      "553766 Kamenka\n",
      "53372 Oodweyne\n",
      "Not found.\n",
      "2123814 Leningradskiy\n",
      "Not found.\n",
      "161974 Bereket\n",
      "Not found.\n",
      "6690296 Saint-Joseph\n",
      "363619 Yei\n",
      "115781 Shahr-e Bābak\n",
      "470905 Vuktyl\n",
      "1626493 Srandakan\n",
      "4323873 Estelle\n",
      "5975004 High Level\n",
      "3984997 San Quintín\n",
      "Not found.\n",
      "6144312 Sept-Îles\n",
      "2381972 Adrar\n",
      "201865 Nzega\n",
      "Not found.\n",
      "3141747 Risør\n",
      "2037494 Erdaojiang\n",
      "2025630 Chara\n",
      "1214488 Meulaboh\n",
      "3663693 Jutaí\n",
      "5697939 North Platte\n",
      "6620339 Karratha\n",
      "2980080 Saint-François\n",
      "1850523 Tateyama\n",
      "2022317 Dormidontovka\n",
      "2168305 Dubbo\n",
      "2144528 Warrnambool\n",
      "Not found.\n",
      "3837702 San Fernando del Valle de Catamarca\n",
      "3430545 Morón\n",
      "1491230 Sovetskiy\n",
      "1524296 Esil\n",
      "64814 Bandarbeyla\n",
      "2108502 Honiara\n",
      "2022317 Khor\n",
      "520798 Nizhniy Baskunchak\n",
      "5546220 Saint George\n",
      "1276358 Bhaderwah\n",
      "1256206 Sindi\n",
      "2738381 Lata\n",
      "2206894 Hokitika\n",
      "3347019 Mossamedes\n",
      "3397967 Itaituba\n",
      "5905393 Bonavista\n",
      "2281120 Tabou\n",
      "3374083 Bathsheba\n",
      "934479 Grand Gaube\n",
      "2121324 Shebunino\n",
      "2109701 Auki\n",
      "Not found.\n",
      "1812728 Dingzhou\n",
      "145724 Lucapa\n",
      "4944903 Nantucket\n",
      "692531 Stetseva\n",
      "2274275 Robertsport\n",
      "1808370 Hengyang\n",
      "1718234 Caruray\n",
      "Not found.\n",
      "1280037 Shache\n",
      "1785036 Zhangye\n",
      "2027316 Ayan\n",
      "2212775 Sabha\n",
      "1269158 Jaswantnagar\n",
      "1495626 Pangody\n",
      "Not found.\n",
      "1650434 Bambanglipuro\n",
      "1637001 Biak\n",
      "1637001 Luwuk\n",
      "3095795 Kołobrzeg\n",
      "3933104 Pangoa\n",
      "5017822 Bemidji\n",
      "2236967 Soyo\n",
      "1272140 Dwārka\n",
      "Not found.\n",
      "2654710 Brighton\n",
      "546105 Nikolskoye\n",
      "286245 Sur\n",
      "2015913 Suntar\n",
      "3379316 Lethem\n",
      "3587498 Acajutla\n",
      "777019 Vardø\n",
      "2028164 Deputatsky\n",
      "3467512 Canguçu\n",
      "2094342 Kavieng\n",
      "5282297 Bethel\n",
      "2276492 Harper\n",
      "1489853 Tazovsky\n",
      "Not found.\n",
      "5364022 La Palma\n",
      "3925467 Yura\n",
      "1258537 Rānāpur\n",
      "4569073 Aiken\n",
      "1308937 Mogok\n",
      "5983720 Iqaluit\n",
      "2078025 Adelaide\n",
      "2158767 Mareeba\n",
      "3361934 Saldanha\n",
      "2129868 Iwanai\n",
      "98182 Baghdad\n",
      "5069297 Grand Island\n",
      "3904906 Santa Cruz de la Sierra\n",
      "3347353 Menongue\n",
      "1486321 Yar-Sale\n",
      "2248477 Mbour\n",
      "108410 Riyadh\n",
      "3573374 The Valley\n",
      "2127060 Arman'\n",
      "1170395 Mingora\n",
      "3870243 Taltal\n",
      "2245170 Podor\n",
      "729509 Laki\n",
      "Not found.\n",
      "Not found.\n",
      "3665315 Anori\n",
      "3355672 Lüderitz\n",
      "371745 Kutum\n",
      "494925 Shemordan\n",
      "1282898 Pokhara\n",
      "3421319 Nuuk\n",
      "Not found.\n",
      "Not found.\n",
      "3450083 Santa Maria\n",
      "Not found.\n",
      "2026160 Borogontsy\n",
      "1526038 Atbasar\n",
      "2015179 Tommot\n",
      "2013942 Ust'-Karsk\n",
      "212902 Kindu\n",
      "1805733 Jinchang\n",
      "789996 Istok\n",
      "2395182 Bembèrèkè\n",
      "1738050 Marabu\n",
      "5096699 Clifton\n",
      "5780026 Provo\n",
      "1856392 Muroto-misakicho\n",
      "2629833 Husavik\n",
      "2214432 Nālūt\n",
      "4047434 Russell\n",
      "1498283 Mugur-Aksy\n",
      "1273909 Churāchāndpur\n",
      "4031637 Lavrentiya\n",
      "3096765 Kamień Pomorski\n",
      "2128975 Nemuro\n",
      "541116 Kresttsy\n",
      "1625908 Sungai Raya\n",
      "2446796 Bilma\n",
      "255030 Plátanos\n",
      "359792 Aswān\n",
      "5229794 Mitchell\n",
      "1687894 Santa Rosa\n",
      "5924351 Clyde River\n",
      "4031742 Egvekinot\n",
      "1106677 Bambous Virieux\n",
      "2633373 Yeovil\n",
      "2033135 Zhengjiatun\n",
      "4012593 Creel\n",
      "2122389 Ossora\n",
      "3473267 Abaeté\n",
      "5895424 Bay Roberts\n",
      "2119626 Yagodnoye\n",
      "Not found.\n",
      "5072006 Lincoln\n",
      "1293625 Dawei\n"
     ]
    },
    {
     "name": "stdout",
     "output_type": "stream",
     "text": [
      "118063 Sabzawār\n",
      "2460954 Araouane\n",
      "2013279 Vostok\n",
      "3346821 Ondjiva\n",
      "Not found.\n",
      "1082243 Ambilobe\n",
      "3841490 Pergamino\n",
      "2357163 Nouna\n",
      "1028434 Quelimane\n",
      "Not found.\n",
      "2123278 Mil'kovo\n",
      "2239862 Malanje\n",
      "3412093 Vestmannaeyjar\n",
      "2189343 Kaeo\n",
      "1720223 Callaguip\n",
      "2455517 Kayes\n",
      "1254709 Tezu\n",
      "591632 Kärdla\n",
      "4019054 Ajijic\n",
      "3664321 Eirunepé\n",
      "1591474 Bac Lieu\n",
      "2278158 Buchanan\n",
      "3692020 Saquena\n",
      "314830 Gaziantep\n",
      "3435261 Concordia\n",
      "1580240 Hue\n",
      "3414079 Olafsvik\n",
      "Not found.\n",
      "6180285 Whitecourt\n",
      "2449066 Tombouctou\n",
      "5836898 Rock Springs\n",
      "3936456 Lima\n",
      "53654 Mogadishu\n",
      "3405215 Bonfim\n",
      "1805833 Jiexiu\n",
      "1510689 Baykit\n",
      "4036284 Alofi\n",
      "3127460 Burgos\n",
      "Not found.\n",
      "1513491 Yangi Marg`ilon\n",
      "153412 Mlandizi\n",
      "2172880 Byron Bay\n",
      "Not found.\n",
      "3653967 Muisne\n",
      "2019004 Novaya Igirma\n",
      "2542997 Marrakesh\n",
      "116996 Sari\n",
      "362973 Abnūb\n",
      "3107775 Torrelavega\n",
      "3919998 Cobija\n",
      "4193042 Effingham County\n",
      "1855540 Naze\n",
      "3946820 Barranca\n",
      "Not found.\n",
      "1252795 Yanam\n",
      "5478673 Meadow Lake\n",
      "3855065 General Roca\n",
      "526504 Milyutinskaya\n",
      "4021858 Guerrero Negro\n",
      "Not found.\n",
      "5044290 Saint Anthony\n",
      "133595 Gerāsh\n",
      "5134295 Rome\n",
      "1737486 Bintulu\n",
      "3495137 Pedernales\n",
      "3664956 Boca do Acre\n",
      "2185763 Okato\n",
      "2636790 Stornoway\n",
      "1505453 Ishim\n",
      "1121143 Zabul Province\n",
      "Not found.\n",
      "1139085 Jurm\n",
      "475469 Verkhnetulomskiy\n",
      "5354943 Half Moon Bay\n",
      "124665 Mashhad\n",
      "3691582 Talara\n",
      "741304 Niksar\n",
      "6160362 Swan River\n",
      "3428068 San Vicente\n",
      "214389 Kaniama\n",
      "2126199 Cherskiy\n",
      "2063039 Port Keats\n",
      "2026786 Berezovyy\n",
      "3404817 Breves\n",
      "2013459 Verkh-Usugli\n",
      "3489440 Morant Bay\n",
      "Not found.\n",
      "3661756 Uarini\n",
      "3469058 Brasília\n",
      "2169535 Dalby\n",
      "Not found.\n",
      "2126710 Beringovskiy\n",
      "3374333 Praia\n",
      "4946620 Palmer\n",
      "5004005 Norton Shores\n",
      "3377301 Mabaruma\n",
      "4033375 Tevaitoa\n",
      "3516685 Seybaplaya\n",
      "1244926 Hambantota\n",
      "724156 Medzilaborce\n",
      "1514792 Gazojak\n",
      "4273299 Hutchinson\n",
      "1499053 Megion\n",
      "2121025 Srednekolymsk\n",
      "1852357 Shimoda\n",
      "2720501 Borås\n",
      "336526 Gīdolē\n",
      "2027044 Batagay\n",
      "1847947 Shingū\n",
      "1648636 Bitung\n",
      "575521 Bogorodskoye\n",
      "1651591 Amahai\n",
      "2514301 Mahon\n",
      "2522325 Agüimes\n",
      "3628423 San Felipe\n",
      "1337619 Ugoofaaru\n",
      "1513087 Nurota\n",
      "2174444 Bowen\n"
     ]
    }
   ],
   "source": [
    "\n",
    "#\n",
    "url = \"http://api.openweathermap.org/data/2.5/weather?\"\n",
    "city_name = []\n",
    "lat =[]\n",
    "lng = []\n",
    "max_temp = []\n",
    "humidity = []\n",
    "cloudiness = []\n",
    "wind_speed = []\n",
    "country =[]\n",
    "date = []\n",
    "# Loop through each city\n",
    "for city in cities:\n",
    "    query_url = f\"{url}appid={api_key}&q={city}\"\n",
    "    \n",
    "    try: \n",
    "        loop_response = requests.get(query_url).json()\n",
    "        city_name.append(loop_response[\"name\"])\n",
    "        lat.append(loop_response[\"coord\"][\"lat\"])\n",
    "        lng.append(loop_response[\"coord\"][\"lon\"])\n",
    "        max_temp.append(loop_response[\"main\"][\"temp_max\"])\n",
    "        humidity.append(loop_response[\"main\"][\"humidity\"])\n",
    "        cloudiness.append(loop_response[\"clouds\"][\"all\"])\n",
    "        wind_speed.append(loop_response[\"wind\"][\"speed\"])\n",
    "        country.append(loop_response[\"sys\"][\"country\"])\n",
    "        date.append(loop_response[\"dt\"])                    \n",
    "        print(loop_response[\"id\"],loop_response[\"name\"])\n",
    "    except:\n",
    "        print(\"Not found.\")\n",
    "        pass"
   ]
  },
  {
   "cell_type": "code",
   "execution_count": 5,
   "metadata": {
    "scrolled": false
   },
   "outputs": [
    {
     "name": "stdout",
     "output_type": "stream",
     "text": [
      "['Vaini', 'Ilulissat', 'Jamestown', 'Oyama', 'Hofn', 'Tiksi', 'Ushuaia', 'Mataura', 'Ribeira Grande', 'Bluff', 'Yulara', 'Vila Franca do Campo', 'Punta Arenas', 'Atuona', 'Upernavik', 'Busselton', 'Kapaa', 'Saint Lawrence', 'Qasigiannguit', 'Waipawa', \"Severo-Kuril'sk\", 'Bagdarin', 'Tambo', 'Carnarvon', 'Codrington', 'Kaitangata', 'Pisco', 'New Norfolk', 'Cidreira', 'Raudeberg', 'Kuwana', 'Hasaki', 'Kintinku', 'Rikitea', 'Laguna', 'Talcahuano', 'Bredasdorp', 'Muros', 'Yellowknife', 'Barrow', 'Sørland', 'Ahipara', 'Skellefteå', 'Camacha', 'Burnie', 'Albany', 'Itarema', 'Jesup', 'Mount Gambier', 'Ontario', 'Chipinge', 'Souillac', 'Miyako', 'Kahului', 'Qusar', 'Forest', 'Torbay', 'Chokurdakh', 'Lebu', 'Bitkine', 'Tura', 'Norman Wells', 'Rio Grande', 'Hudson Bay', 'Saint-Philippe', 'Cabo San Lucas', 'Ashland', 'Makkah al Mukarramah', 'Airai', 'Pacific Grove', 'Jalu', 'Butaritari', 'Ullapool', 'Hilo', 'Pevek', 'Henties Bay', 'Qaanaaq', 'Tilichiki', 'Ponta do Sol', 'Hermanus', 'Rakitovo', 'Tarancón', 'Hobart', 'Hithadhoo', 'High Rock', 'Mangalia', 'Kendal', 'Safi', 'Ponta Delgada', 'Nara', 'Caravelas', 'Tasiilaq', 'Esperance', 'Hualmay', 'Garchitorena', 'Tuatapere', 'Hong Kong', 'Douglas', 'Derzhavīnsk', 'Lompoc', 'North Bend', 'Thompson', 'Caxito', 'Port Hedland', 'Port Alfred', 'Saint Paul Harbor', 'Koshurnikovo', 'Ormara', 'Tena', 'Somerset West', 'Tevriz', 'Marovoay', 'Cap Malheureux', 'Kavaratti', 'Castro', 'Constitución', 'Cape Town', 'Port Lincoln', 'Rohri', 'Rønne', 'Katangli', 'Tornio', 'Roald', 'Villazón', 'Port Elizabeth', 'Sangar', 'Arraial do Cabo', 'Mehamn', 'Trenggalek', 'Lubao', 'Killybegs', 'Ancud', 'Wad Rāwah', 'Tuy Hoa', 'Broken Hill', 'Lagoa', 'Sambava', 'Abū Zabad', 'Lorengau', 'Kariba', 'Khatanga', 'Coquimbo', 'Usinsk', 'Calbuco', 'Lodja', 'Tiznit Province', 'Sittwe', 'Dikson', 'Vila Velha', 'Kungurtug', 'Port Hardy', 'Padang', 'Canindé de São Francisco', 'Dunedin', 'Hamilton', 'Acapulco de Juárez', 'San Miguel de Tucumán', 'Beloha', 'Jhang', 'Avera', 'Ilebo', 'Tallahassee', 'Fortuna', 'Broome', 'Nanortalik', 'Kununurra', 'Pacifica', 'Alice Springs', 'Sitka', 'Pimentel', 'Dudinka', 'Praia da Vitória', 'Saint-Pierre', 'Margate', 'Rio Claro', 'Aborlan', 'Huambo', 'Namtsy', 'Chui', 'Wang Saphung', 'Vao', 'Rongcheng', 'Isangel', 'Salamiyah', 'Puerto Ayora', 'Jos', 'Yairipok', 'Bera', 'Xining', 'East London', 'Muzhi', 'Świdnik', 'Roquetas de Mar', 'Kruisfontein', 'Regeneração', 'Aripuanã', 'Washington', 'Flinders', 'Antofagasta', 'Nome', 'Soure', 'Mar del Plata', 'Deogarh', 'Khovd', 'Dickinson', 'Volksrust', 'Ca Mau', 'Nouakchott', 'Tuktoyaktuk', 'Zunyi', 'Trincomalee', 'Cayenne', 'Fairfield', 'Port-Gentil', 'Ubari', 'Tessalit', '‘Ewa Beach', 'Tigzirt', 'Ostrovnoy', 'Rundu', 'Rochegda', 'Sembakung', 'Dicabisagan', 'Sorong', 'Brae', 'Minot', 'Marzuq', 'Saskylakh', 'Aasiaat', 'Mandalgovi', 'Gardner', 'Zyryanka', 'San Patricio', 'Namatanai', 'Bandundu Province', 'Port Blair', 'Myitkyina', 'Faanui', 'Kirakira', 'Opuwo', 'Rafaela', 'Paragominas', 'Narsaq', 'Takoradze', 'São Filipe', 'Maungaturoto', 'Longyearbyen', 'Chadan', 'Virginia Beach', 'Provideniya', 'Bengkulu', 'Saravan', 'Cefalù', 'Maxixe', 'George Town', 'Mahébourg', 'Karakol', 'Pangnirtung', 'Tāybād', 'Kargasok', 'Bagarji', 'Bonthe', 'Katsuura', 'Lewisville', 'Ihosy', 'Bilibino', 'Conceição das Alagoas', 'San Juan', 'Leme', 'Curillo', 'Portland', 'Capiíbary', 'Along', 'Drovyanaya', 'Geraldton', 'Bariloche', 'Los Llanos de Aridane', 'Aitape', 'São Félix do Xingu', 'Fairbanks', 'Te Anau', 'Terrell', 'Katobu', 'Koson', 'Turukhansk', 'Mossendjo', 'Chistogorskiy', 'Blahodatne', 'Aklavik', 'Stony Plain', 'Nha Trang', 'Avarua', 'Kloulklubed', 'Kamenka', 'Oodweyne', 'Leningradskiy', 'Bereket', 'Saint-Joseph', 'Yei', 'Shahr-e Bābak', 'Vuktyl', 'Srandakan', 'Estelle', 'High Level', 'San Quintín', 'Sept-Îles', 'Adrar', 'Nzega', 'Risør', 'Erdaojiang', 'Chara', 'Meulaboh', 'Jutaí', 'North Platte', 'Karratha', 'Saint-François', 'Tateyama', 'Dormidontovka', 'Dubbo', 'Warrnambool', 'San Fernando del Valle de Catamarca', 'Morón', 'Sovetskiy', 'Esil', 'Bandarbeyla', 'Honiara', 'Khor', 'Nizhniy Baskunchak', 'Saint George', 'Bhaderwah', 'Sindi', 'Lata', 'Hokitika', 'Mossamedes', 'Itaituba', 'Bonavista', 'Tabou', 'Bathsheba', 'Grand Gaube', 'Shebunino', 'Auki', 'Dingzhou', 'Lucapa', 'Nantucket', 'Stetseva', 'Robertsport', 'Hengyang', 'Caruray', 'Shache', 'Zhangye', 'Ayan', 'Sabha', 'Jaswantnagar', 'Pangody', 'Bambanglipuro', 'Biak', 'Luwuk', 'Kołobrzeg', 'Pangoa', 'Bemidji', 'Soyo', 'Dwārka', 'Brighton', 'Nikolskoye', 'Sur', 'Suntar', 'Lethem', 'Acajutla', 'Vardø', 'Deputatsky', 'Canguçu', 'Kavieng', 'Bethel', 'Harper', 'Tazovsky', 'La Palma', 'Yura', 'Rānāpur', 'Aiken', 'Mogok', 'Iqaluit', 'Adelaide', 'Mareeba', 'Saldanha', 'Iwanai', 'Baghdad', 'Grand Island', 'Santa Cruz de la Sierra', 'Menongue', 'Yar-Sale', 'Mbour', 'Riyadh', 'The Valley', \"Arman'\", 'Mingora', 'Taltal', 'Podor', 'Laki', 'Anori', 'Lüderitz', 'Kutum', 'Shemordan', 'Pokhara', 'Nuuk', 'Santa Maria', 'Borogontsy', 'Atbasar', 'Tommot', \"Ust'-Karsk\", 'Kindu', 'Jinchang', 'Istok', 'Bembèrèkè', 'Marabu', 'Clifton', 'Provo', 'Muroto-misakicho', 'Husavik', 'Nālūt', 'Russell', 'Mugur-Aksy', 'Churāchāndpur', 'Lavrentiya', 'Kamień Pomorski', 'Nemuro', 'Kresttsy', 'Sungai Raya', 'Bilma', 'Plátanos', 'Aswān', 'Mitchell', 'Santa Rosa', 'Clyde River', 'Egvekinot', 'Bambous Virieux', 'Yeovil', 'Zhengjiatun', 'Creel', 'Ossora', 'Abaeté', 'Bay Roberts', 'Yagodnoye', 'Lincoln', 'Dawei', 'Sabzawār', 'Araouane', 'Vostok', 'Ondjiva', 'Ambilobe', 'Pergamino', 'Nouna', 'Quelimane', \"Mil'kovo\", 'Malanje', 'Vestmannaeyjar', 'Kaeo', 'Callaguip', 'Kayes', 'Tezu', 'Kärdla', 'Ajijic', 'Eirunepé', 'Bac Lieu', 'Buchanan', 'Saquena', 'Gaziantep', 'Concordia', 'Hue', 'Olafsvik', 'Whitecourt', 'Tombouctou', 'Rock Springs', 'Lima', 'Mogadishu', 'Bonfim', 'Jiexiu', 'Baykit', 'Alofi', 'Burgos', 'Yangi Marg`ilon', 'Mlandizi', 'Byron Bay', 'Muisne', 'Novaya Igirma', 'Marrakesh', 'Sari', 'Abnūb', 'Torrelavega', 'Cobija', 'Effingham County', 'Naze', 'Barranca', 'Yanam', 'Meadow Lake', 'General Roca', 'Milyutinskaya', 'Guerrero Negro', 'Saint Anthony', 'Gerāsh', 'Rome', 'Bintulu', 'Pedernales', 'Boca do Acre', 'Okato', 'Stornoway', 'Ishim', 'Zabul Province', 'Jurm', 'Verkhnetulomskiy', 'Half Moon Bay', 'Mashhad', 'Talara', 'Niksar', 'Swan River', 'San Vicente', 'Kaniama', 'Cherskiy', 'Port Keats', 'Berezovyy', 'Breves', 'Verkh-Usugli', 'Morant Bay', 'Uarini', 'Brasília', 'Dalby', 'Beringovskiy', 'Praia', 'Palmer', 'Norton Shores', 'Mabaruma', 'Tevaitoa', 'Seybaplaya', 'Hambantota', 'Medzilaborce', 'Gazojak', 'Hutchinson', 'Megion', 'Srednekolymsk', 'Shimoda', 'Borås', 'Gīdolē', 'Batagay', 'Shingū', 'Bitung', 'Bogorodskoye', 'Amahai', 'Mahon', 'Agüimes', 'San Felipe', 'Ugoofaaru', 'Nurota', 'Bowen']\n"
     ]
    }
   ],
   "source": [
    "#Check to make sure names were appended\n",
    "print(city_name)"
   ]
  },
  {
   "cell_type": "code",
   "execution_count": 6,
   "metadata": {
    "scrolled": true
   },
   "outputs": [
    {
     "name": "stdout",
     "output_type": "stream",
     "text": [
      "[1607205172, 1607205106, 1607205103, 1607205172, 1607205172, 1607205103, 1607205107, 1607205106, 1607205107, 1607205104, 1607205173, 1607205173, 1607205106, 1607205103, 1607205173, 1607205106, 1607205103, 1607205173, 1607205173, 1607205173, 1607205173, 1607205173, 1607205173, 1607205103, 1607205173, 1607205173, 1607205174, 1607205174, 1607205174, 1607205174, 1607205174, 1607205174, 1607205174, 1607205106, 1607205174, 1607205174, 1607205105, 1607205174, 1607205045, 1607205106, 1607205174, 1607205174, 1607205174, 1607205174, 1607205175, 1607205105, 1607205175, 1607205175, 1607205104, 1607205175, 1607205175, 1607205175, 1607205175, 1607205175, 1607205175, 1607205175, 1607205104, 1607205104, 1607205106, 1607205175, 1607205176, 1607205107, 1607205176, 1607205176, 1607205176, 1607205100, 1607205176, 1607205003, 1607205176, 1607205176, 1607205176, 1607205104, 1607205176, 1607204822, 1607205106, 1607205104, 1607205106, 1607205176, 1607205104, 1607205106, 1607205177, 1607205177, 1607204833, 1607205177, 1607205177, 1607205098, 1607205177, 1607205177, 1607205177, 1607205177, 1607205177, 1607205105, 1607205177, 1607205177, 1607205177, 1607205177, 1607205043, 1607205178, 1607205178, 1607205105, 1607205160, 1607205070, 1607205178, 1607204979, 1607205105, 1607205178, 1607205178, 1607205178, 1607205178, 1607205178, 1607205178, 1607205178, 1607205178, 1607205178, 1607205045, 1607205179, 1607204550, 1607205179, 1607205179, 1607205179, 1607205179, 1607205179, 1607205179, 1607205179, 1607205179, 1607205179, 1607205108, 1607205179, 1607205179, 1607205180, 1607205180, 1607205104, 1607205180, 1607205180, 1607205180, 1607205106, 1607205180, 1607205180, 1607205180, 1607205180, 1607205103, 1607205063, 1607205180, 1607204923, 1607205181, 1607204897, 1607205181, 1607205181, 1607204899, 1607205181, 1607205181, 1607205181, 1607205181, 1607205181, 1607205163, 1607205167, 1607205016, 1607205181, 1607205181, 1607205181, 1607205182, 1607204671, 1607205182, 1607205104, 1607205103, 1607205182, 1607205182, 1607205182, 1607205182, 1607205182, 1607205182, 1607205182, 1607205182, 1607205135, 1607205030, 1607205182, 1607205183, 1607205183, 1607205105, 1607205183, 1607205183, 1607205183, 1607205183, 1607205183, 1607205105, 1607205183, 1607205183, 1607205183, 1607205183, 1607205183, 1607205183, 1607205183, 1607205184, 1607205184, 1607205184, 1607205184, 1607205184, 1607205184, 1607205184, 1607205118, 1607205184, 1607205104, 1607205184, 1607205174, 1607205184, 1607205184, 1607205184, 1607205184, 1607205184, 1607205184, 1607205184, 1607205106, 1607204910, 1607205185, 1607205185, 1607205185, 1607205184, 1607205185, 1607205185, 1607205185, 1607205185, 1607205185, 1607205185, 1607205185, 1607205185, 1607204928, 1607205185, 1607205186, 1607205186, 1607205186, 1607205186, 1607205186, 1607205186, 1607205186, 1607205186, 1607205186, 1607205186, 1607205186, 1607205186, 1607205186, 1607205186, 1607205101, 1607205105, 1607205187, 1607205187, 1607205187, 1607205187, 1607205187, 1607205033, 1607205187, 1607205187, 1607205187, 1607205187, 1607205187, 1607205103, 1607205187, 1607205187, 1607205187, 1607205187, 1607204888, 1607205188, 1607205188, 1607205188, 1607205188, 1607205188, 1607205188, 1607205188, 1607205001, 1607205188, 1607205188, 1607204910, 1607205188, 1607205188, 1607205188, 1607205189, 1607205189, 1607205189, 1607205189, 1607205189, 1607205007, 1607205189, 1607205189, 1607205189, 1607205189, 1607205189, 1607205189, 1607205189, 1607205189, 1607205190, 1607205190, 1607205190, 1607205103, 1607205190, 1607205190, 1607205190, 1607205190, 1607205190, 1607205190, 1607205190, 1607205190, 1607205190, 1607205191, 1607205191, 1607205191, 1607205191, 1607205003, 1607205191, 1607205191, 1607205191, 1607205191, 1607205191, 1607205191, 1607205191, 1607205191, 1607205191, 1607205192, 1607205192, 1607205192, 1607205192, 1607205192, 1607205044, 1607205192, 1607205192, 1607205192, 1607205192, 1607205192, 1607205192, 1607205192, 1607205192, 1607205192, 1607205192, 1607205193, 1607205193, 1607205193, 1607205193, 1607205193, 1607205193, 1607205193, 1607205193, 1607205193, 1607205193, 1607205193, 1607205193, 1607205193, 1607205193, 1607205193, 1607205193, 1607205194, 1607205194, 1607205194, 1607205194, 1607204904, 1607205194, 1607205194, 1607205194, 1607205194, 1607205194, 1607205194, 1607205194, 1607204972, 1607205195, 1607205195, 1607205060, 1607205195, 1607205195, 1607205195, 1607205195, 1607205195, 1607205195, 1607205195, 1607205195, 1607205195, 1607205195, 1607205195, 1607205195, 1607205196, 1607205196, 1607205196, 1607205102, 1607205196, 1607205004, 1607204902, 1607205196, 1607205196, 1607205196, 1607204921, 1607205196, 1607205032, 1607205196, 1607205196, 1607205196, 1607205197, 1607204980, 1607205197, 1607205197, 1607205197, 1607205197, 1607205197, 1607204926, 1607205197, 1607205197, 1607205197, 1607205197, 1607205197, 1607205078, 1607205198, 1607205198, 1607205198, 1607205198, 1607205198, 1607205198, 1607205198, 1607205198, 1607204975, 1607205012, 1607205198, 1607205198, 1607205198, 1607205198, 1607205198, 1607205199, 1607205199, 1607205199, 1607205199, 1607204914, 1607205199, 1607205199, 1607205199, 1607205199, 1607205106, 1607205199, 1607205199, 1607205103, 1607205199, 1607205199, 1607205080, 1607205200, 1607205200, 1607205200, 1607205200, 1607205200, 1607205200, 1607205084, 1607205200, 1607205200, 1607205200, 1607205200, 1607205200, 1607205200, 1607205100, 1607205201, 1607205201, 1607205201, 1607205201, 1607205201, 1607205201, 1607205201, 1607205201, 1607205201, 1607205201, 1607205201, 1607205201, 1607205201, 1607204955, 1607205202, 1607204969, 1607205056, 1607205202, 1607205202, 1607205202, 1607205202, 1607205202, 1607204487, 1607205202, 1607205202, 1607205202, 1607205202, 1607205202, 1607205010, 1607205202, 1607205202, 1607204892, 1607205203, 1607205203, 1607205203, 1607205203, 1607205203, 1607205203, 1607205203, 1607205203, 1607205203, 1607205203, 1607205203, 1607205203, 1607205203, 1607205203, 1607205103, 1607205102, 1607205078, 1607204953, 1607205204, 1607205204, 1607205204, 1607205204, 1607205204, 1607205204, 1607205204, 1607205204, 1607205204, 1607205204, 1607205204, 1607205004, 1607205204, 1607205205, 1607205205, 1607205205, 1607205205, 1607205205, 1607205205, 1607205205, 1607205205, 1607205205, 1607205205, 1607204979, 1607205205, 1607205205, 1607205046, 1607205205, 1607205022, 1607205205, 1607205206, 1607205206, 1607205206, 1607205206, 1607205206, 1607205206, 1607205206, 1607205206, 1607205206, 1607205206, 1607205206, 1607205206, 1607205206, 1607205206, 1607205206, 1607205206, 1607205207, 1607205207, 1607205207, 1607205207, 1607205207, 1607205207]\n"
     ]
    }
   ],
   "source": [
    "#Check to make sure dates were appended since last list\n",
    "print(date)"
   ]
  },
  {
   "cell_type": "code",
   "execution_count": 7,
   "metadata": {
    "scrolled": true
   },
   "outputs": [
    {
     "name": "stdout",
     "output_type": "stream",
     "text": [
      "{'coord': {'lon': 148.23, 'lat': -20.02}, 'weather': [{'id': 803, 'main': 'Clouds', 'description': 'broken clouds', 'icon': '04d'}], 'base': 'stations', 'main': {'temp': 298.15, 'feels_like': 301.41, 'temp_min': 298.15, 'temp_max': 298.15, 'pressure': 1012, 'humidity': 73}, 'visibility': 10000, 'wind': {'speed': 0.5, 'deg': 210}, 'clouds': {'all': 79}, 'dt': 1607205207, 'sys': {'type': 1, 'id': 9503, 'country': 'AU', 'sunrise': 1607195980, 'sunset': 1607243811}, 'timezone': 36000, 'id': 2174444, 'name': 'Bowen', 'cod': 200}\n"
     ]
    }
   ],
   "source": [
    "#Check loop response\n",
    "print(loop_response)"
   ]
  },
  {
   "cell_type": "markdown",
   "metadata": {},
   "source": [
    "### Convert Raw Data to DataFrame\n",
    "* Export the city data into a .csv.\n",
    "* Display the DataFrame"
   ]
  },
  {
   "cell_type": "code",
   "execution_count": 8,
   "metadata": {
    "scrolled": true
   },
   "outputs": [
    {
     "data": {
      "text/html": [
       "<div>\n",
       "<style scoped>\n",
       "    .dataframe tbody tr th:only-of-type {\n",
       "        vertical-align: middle;\n",
       "    }\n",
       "\n",
       "    .dataframe tbody tr th {\n",
       "        vertical-align: top;\n",
       "    }\n",
       "\n",
       "    .dataframe thead th {\n",
       "        text-align: right;\n",
       "    }\n",
       "</style>\n",
       "<table border=\"1\" class=\"dataframe\">\n",
       "  <thead>\n",
       "    <tr style=\"text-align: right;\">\n",
       "      <th></th>\n",
       "      <th>City</th>\n",
       "      <th>Lat</th>\n",
       "      <th>Lng</th>\n",
       "      <th>Max Temp</th>\n",
       "      <th>Humidity</th>\n",
       "      <th>Cloudiness</th>\n",
       "      <th>Wind Speed</th>\n",
       "      <th>Country</th>\n",
       "      <th>Date</th>\n",
       "    </tr>\n",
       "  </thead>\n",
       "  <tbody>\n",
       "    <tr>\n",
       "      <th>0</th>\n",
       "      <td>Vaini</td>\n",
       "      <td>-21.20</td>\n",
       "      <td>-175.20</td>\n",
       "      <td>299.15</td>\n",
       "      <td>83</td>\n",
       "      <td>75</td>\n",
       "      <td>4.60</td>\n",
       "      <td>TO</td>\n",
       "      <td>1607205172</td>\n",
       "    </tr>\n",
       "    <tr>\n",
       "      <th>1</th>\n",
       "      <td>Ilulissat</td>\n",
       "      <td>69.22</td>\n",
       "      <td>-51.10</td>\n",
       "      <td>273.15</td>\n",
       "      <td>96</td>\n",
       "      <td>75</td>\n",
       "      <td>5.10</td>\n",
       "      <td>GL</td>\n",
       "      <td>1607205106</td>\n",
       "    </tr>\n",
       "    <tr>\n",
       "      <th>2</th>\n",
       "      <td>Jamestown</td>\n",
       "      <td>42.10</td>\n",
       "      <td>-79.24</td>\n",
       "      <td>273.71</td>\n",
       "      <td>92</td>\n",
       "      <td>90</td>\n",
       "      <td>3.10</td>\n",
       "      <td>US</td>\n",
       "      <td>1607205103</td>\n",
       "    </tr>\n",
       "    <tr>\n",
       "      <th>3</th>\n",
       "      <td>Oyama</td>\n",
       "      <td>36.30</td>\n",
       "      <td>139.80</td>\n",
       "      <td>279.82</td>\n",
       "      <td>100</td>\n",
       "      <td>20</td>\n",
       "      <td>1.50</td>\n",
       "      <td>JP</td>\n",
       "      <td>1607205172</td>\n",
       "    </tr>\n",
       "    <tr>\n",
       "      <th>4</th>\n",
       "      <td>Hofn</td>\n",
       "      <td>64.25</td>\n",
       "      <td>-15.21</td>\n",
       "      <td>270.18</td>\n",
       "      <td>89</td>\n",
       "      <td>46</td>\n",
       "      <td>4.86</td>\n",
       "      <td>IS</td>\n",
       "      <td>1607205172</td>\n",
       "    </tr>\n",
       "  </tbody>\n",
       "</table>\n",
       "</div>"
      ],
      "text/plain": [
       "        City    Lat     Lng  Max Temp  Humidity  Cloudiness  Wind Speed  \\\n",
       "0      Vaini -21.20 -175.20    299.15        83          75        4.60   \n",
       "1  Ilulissat  69.22  -51.10    273.15        96          75        5.10   \n",
       "2  Jamestown  42.10  -79.24    273.71        92          90        3.10   \n",
       "3      Oyama  36.30  139.80    279.82       100          20        1.50   \n",
       "4       Hofn  64.25  -15.21    270.18        89          46        4.86   \n",
       "\n",
       "  Country        Date  \n",
       "0      TO  1607205172  \n",
       "1      GL  1607205106  \n",
       "2      US  1607205103  \n",
       "3      JP  1607205172  \n",
       "4      IS  1607205172  "
      ]
     },
     "execution_count": 8,
     "metadata": {},
     "output_type": "execute_result"
    }
   ],
   "source": [
    "city_dict = {\n",
    "    \"City\": city_name,\n",
    "    \"Lat\": lat,\n",
    "    \"Lng\": lng,\n",
    "    \"Max Temp\": max_temp,\n",
    "    \"Humidity\": humidity,\n",
    "    \"Cloudiness\": cloudiness,\n",
    "    \"Wind Speed\": wind_speed,\n",
    "    \"Country\": country,\n",
    "    \"Date\": date\n",
    "    \n",
    "}\n",
    "weather_df = pd.DataFrame(city_dict)\n",
    "weather_df.to_csv(r\"C:\\Users\\yenia\\Desktop\\JHU_Bootcamp\\Homework\\Whats-The-Weather-Like\\WeatherPy\\Data\\cities.csv\", index = False)\n",
    "weather_df.head()"
   ]
  },
  {
   "cell_type": "code",
   "execution_count": 9,
   "metadata": {},
   "outputs": [
    {
     "data": {
      "text/html": [
       "<div>\n",
       "<style scoped>\n",
       "    .dataframe tbody tr th:only-of-type {\n",
       "        vertical-align: middle;\n",
       "    }\n",
       "\n",
       "    .dataframe tbody tr th {\n",
       "        vertical-align: top;\n",
       "    }\n",
       "\n",
       "    .dataframe thead th {\n",
       "        text-align: right;\n",
       "    }\n",
       "</style>\n",
       "<table border=\"1\" class=\"dataframe\">\n",
       "  <thead>\n",
       "    <tr style=\"text-align: right;\">\n",
       "      <th></th>\n",
       "      <th>Lat</th>\n",
       "      <th>Lng</th>\n",
       "      <th>Max Temp</th>\n",
       "      <th>Humidity</th>\n",
       "      <th>Cloudiness</th>\n",
       "      <th>Wind Speed</th>\n",
       "      <th>Date</th>\n",
       "    </tr>\n",
       "  </thead>\n",
       "  <tbody>\n",
       "    <tr>\n",
       "      <th>count</th>\n",
       "      <td>552.000000</td>\n",
       "      <td>552.000000</td>\n",
       "      <td>552.000000</td>\n",
       "      <td>552.000000</td>\n",
       "      <td>552.000000</td>\n",
       "      <td>552.000000</td>\n",
       "      <td>5.520000e+02</td>\n",
       "    </tr>\n",
       "    <tr>\n",
       "      <th>mean</th>\n",
       "      <td>19.757174</td>\n",
       "      <td>20.572536</td>\n",
       "      <td>284.344728</td>\n",
       "      <td>73.865942</td>\n",
       "      <td>50.817029</td>\n",
       "      <td>3.502047</td>\n",
       "      <td>1.607205e+09</td>\n",
       "    </tr>\n",
       "    <tr>\n",
       "      <th>std</th>\n",
       "      <td>33.245965</td>\n",
       "      <td>90.220278</td>\n",
       "      <td>14.776074</td>\n",
       "      <td>20.241109</td>\n",
       "      <td>39.325080</td>\n",
       "      <td>2.358296</td>\n",
       "      <td>7.870947e+01</td>\n",
       "    </tr>\n",
       "    <tr>\n",
       "      <th>min</th>\n",
       "      <td>-54.800000</td>\n",
       "      <td>-179.170000</td>\n",
       "      <td>238.600000</td>\n",
       "      <td>4.000000</td>\n",
       "      <td>0.000000</td>\n",
       "      <td>0.140000</td>\n",
       "      <td>1.607204e+09</td>\n",
       "    </tr>\n",
       "    <tr>\n",
       "      <th>25%</th>\n",
       "      <td>-7.975000</td>\n",
       "      <td>-60.105000</td>\n",
       "      <td>275.765000</td>\n",
       "      <td>64.000000</td>\n",
       "      <td>5.750000</td>\n",
       "      <td>1.607500</td>\n",
       "      <td>1.607205e+09</td>\n",
       "    </tr>\n",
       "    <tr>\n",
       "      <th>50%</th>\n",
       "      <td>26.605000</td>\n",
       "      <td>22.725000</td>\n",
       "      <td>288.150000</td>\n",
       "      <td>78.000000</td>\n",
       "      <td>52.000000</td>\n",
       "      <td>3.000000</td>\n",
       "      <td>1.607205e+09</td>\n",
       "    </tr>\n",
       "    <tr>\n",
       "      <th>75%</th>\n",
       "      <td>46.445000</td>\n",
       "      <td>100.375000</td>\n",
       "      <td>296.925000</td>\n",
       "      <td>88.250000</td>\n",
       "      <td>90.000000</td>\n",
       "      <td>5.100000</td>\n",
       "      <td>1.607205e+09</td>\n",
       "    </tr>\n",
       "    <tr>\n",
       "      <th>max</th>\n",
       "      <td>78.220000</td>\n",
       "      <td>179.320000</td>\n",
       "      <td>306.150000</td>\n",
       "      <td>100.000000</td>\n",
       "      <td>100.000000</td>\n",
       "      <td>13.820000</td>\n",
       "      <td>1.607205e+09</td>\n",
       "    </tr>\n",
       "  </tbody>\n",
       "</table>\n",
       "</div>"
      ],
      "text/plain": [
       "              Lat         Lng    Max Temp    Humidity  Cloudiness  Wind Speed  \\\n",
       "count  552.000000  552.000000  552.000000  552.000000  552.000000  552.000000   \n",
       "mean    19.757174   20.572536  284.344728   73.865942   50.817029    3.502047   \n",
       "std     33.245965   90.220278   14.776074   20.241109   39.325080    2.358296   \n",
       "min    -54.800000 -179.170000  238.600000    4.000000    0.000000    0.140000   \n",
       "25%     -7.975000  -60.105000  275.765000   64.000000    5.750000    1.607500   \n",
       "50%     26.605000   22.725000  288.150000   78.000000   52.000000    3.000000   \n",
       "75%     46.445000  100.375000  296.925000   88.250000   90.000000    5.100000   \n",
       "max     78.220000  179.320000  306.150000  100.000000  100.000000   13.820000   \n",
       "\n",
       "               Date  \n",
       "count  5.520000e+02  \n",
       "mean   1.607205e+09  \n",
       "std    7.870947e+01  \n",
       "min    1.607204e+09  \n",
       "25%    1.607205e+09  \n",
       "50%    1.607205e+09  \n",
       "75%    1.607205e+09  \n",
       "max    1.607205e+09  "
      ]
     },
     "execution_count": 9,
     "metadata": {},
     "output_type": "execute_result"
    }
   ],
   "source": [
    "weather_df.describe()"
   ]
  },
  {
   "cell_type": "code",
   "execution_count": 10,
   "metadata": {},
   "outputs": [
    {
     "data": {
      "text/plain": [
       "552"
      ]
     },
     "execution_count": 10,
     "metadata": {},
     "output_type": "execute_result"
    }
   ],
   "source": [
    "len(weather_df)"
   ]
  },
  {
   "cell_type": "markdown",
   "metadata": {},
   "source": [
    "## Inspect the data and remove the cities where the humidity > 100%.\n",
    "----\n",
    "Skip this step if there are no cities that have humidity > 100%. "
   ]
  },
  {
   "cell_type": "markdown",
   "metadata": {},
   "source": [
    "Skipping step since max humidity = 100 (commented out process I would take if I did have humidity >100, using drop method)"
   ]
  },
  {
   "cell_type": "code",
   "execution_count": 11,
   "metadata": {},
   "outputs": [],
   "source": [
    "#  Get the indices of cities that have humidity over 100%.\n",
    "#high_humidity = weather_df.loc[weather_df[\"Humidity\"] > 100]\n",
    "#high_humidity"
   ]
  },
  {
   "cell_type": "code",
   "execution_count": 12,
   "metadata": {
    "scrolled": true
   },
   "outputs": [],
   "source": [
    "# Make a new DataFrame equal to the city data to drop all humidity outliers by index.\n",
    "# Passing \"inplace=False\" will make a copy of the city_data DataFrame, which we call \"clean_city_data\".\n",
    "#clean_city_data = weather_df.drop(index = , inplace =False)\n",
    "#clean_city_data"
   ]
  },
  {
   "cell_type": "code",
   "execution_count": 13,
   "metadata": {
    "scrolled": true
   },
   "outputs": [
    {
     "data": {
      "text/html": [
       "<div>\n",
       "<style scoped>\n",
       "    .dataframe tbody tr th:only-of-type {\n",
       "        vertical-align: middle;\n",
       "    }\n",
       "\n",
       "    .dataframe tbody tr th {\n",
       "        vertical-align: top;\n",
       "    }\n",
       "\n",
       "    .dataframe thead th {\n",
       "        text-align: right;\n",
       "    }\n",
       "</style>\n",
       "<table border=\"1\" class=\"dataframe\">\n",
       "  <thead>\n",
       "    <tr style=\"text-align: right;\">\n",
       "      <th></th>\n",
       "      <th>City</th>\n",
       "      <th>Lat</th>\n",
       "      <th>Lng</th>\n",
       "      <th>Max Temp</th>\n",
       "      <th>Humidity</th>\n",
       "      <th>Cloudiness</th>\n",
       "      <th>Wind Speed</th>\n",
       "      <th>Country</th>\n",
       "      <th>Date</th>\n",
       "    </tr>\n",
       "  </thead>\n",
       "  <tbody>\n",
       "    <tr>\n",
       "      <th>0</th>\n",
       "      <td>Vaini</td>\n",
       "      <td>-21.20</td>\n",
       "      <td>-175.20</td>\n",
       "      <td>299.15</td>\n",
       "      <td>83</td>\n",
       "      <td>75</td>\n",
       "      <td>4.60</td>\n",
       "      <td>TO</td>\n",
       "      <td>1607205172</td>\n",
       "    </tr>\n",
       "    <tr>\n",
       "      <th>1</th>\n",
       "      <td>Ilulissat</td>\n",
       "      <td>69.22</td>\n",
       "      <td>-51.10</td>\n",
       "      <td>273.15</td>\n",
       "      <td>96</td>\n",
       "      <td>75</td>\n",
       "      <td>5.10</td>\n",
       "      <td>GL</td>\n",
       "      <td>1607205106</td>\n",
       "    </tr>\n",
       "    <tr>\n",
       "      <th>2</th>\n",
       "      <td>Jamestown</td>\n",
       "      <td>42.10</td>\n",
       "      <td>-79.24</td>\n",
       "      <td>273.71</td>\n",
       "      <td>92</td>\n",
       "      <td>90</td>\n",
       "      <td>3.10</td>\n",
       "      <td>US</td>\n",
       "      <td>1607205103</td>\n",
       "    </tr>\n",
       "    <tr>\n",
       "      <th>3</th>\n",
       "      <td>Oyama</td>\n",
       "      <td>36.30</td>\n",
       "      <td>139.80</td>\n",
       "      <td>279.82</td>\n",
       "      <td>100</td>\n",
       "      <td>20</td>\n",
       "      <td>1.50</td>\n",
       "      <td>JP</td>\n",
       "      <td>1607205172</td>\n",
       "    </tr>\n",
       "    <tr>\n",
       "      <th>4</th>\n",
       "      <td>Hofn</td>\n",
       "      <td>64.25</td>\n",
       "      <td>-15.21</td>\n",
       "      <td>270.18</td>\n",
       "      <td>89</td>\n",
       "      <td>46</td>\n",
       "      <td>4.86</td>\n",
       "      <td>IS</td>\n",
       "      <td>1607205172</td>\n",
       "    </tr>\n",
       "    <tr>\n",
       "      <th>...</th>\n",
       "      <td>...</td>\n",
       "      <td>...</td>\n",
       "      <td>...</td>\n",
       "      <td>...</td>\n",
       "      <td>...</td>\n",
       "      <td>...</td>\n",
       "      <td>...</td>\n",
       "      <td>...</td>\n",
       "      <td>...</td>\n",
       "    </tr>\n",
       "    <tr>\n",
       "      <th>547</th>\n",
       "      <td>Agüimes</td>\n",
       "      <td>27.91</td>\n",
       "      <td>-15.45</td>\n",
       "      <td>290.37</td>\n",
       "      <td>87</td>\n",
       "      <td>40</td>\n",
       "      <td>6.20</td>\n",
       "      <td>ES</td>\n",
       "      <td>1607205207</td>\n",
       "    </tr>\n",
       "    <tr>\n",
       "      <th>548</th>\n",
       "      <td>San Felipe</td>\n",
       "      <td>10.34</td>\n",
       "      <td>-68.74</td>\n",
       "      <td>296.72</td>\n",
       "      <td>90</td>\n",
       "      <td>54</td>\n",
       "      <td>1.97</td>\n",
       "      <td>VE</td>\n",
       "      <td>1607205207</td>\n",
       "    </tr>\n",
       "    <tr>\n",
       "      <th>549</th>\n",
       "      <td>Ugoofaaru</td>\n",
       "      <td>5.67</td>\n",
       "      <td>73.00</td>\n",
       "      <td>300.94</td>\n",
       "      <td>77</td>\n",
       "      <td>100</td>\n",
       "      <td>5.69</td>\n",
       "      <td>MV</td>\n",
       "      <td>1607205207</td>\n",
       "    </tr>\n",
       "    <tr>\n",
       "      <th>550</th>\n",
       "      <td>Nurota</td>\n",
       "      <td>40.56</td>\n",
       "      <td>65.69</td>\n",
       "      <td>262.15</td>\n",
       "      <td>66</td>\n",
       "      <td>0</td>\n",
       "      <td>1.00</td>\n",
       "      <td>UZ</td>\n",
       "      <td>1607205207</td>\n",
       "    </tr>\n",
       "    <tr>\n",
       "      <th>551</th>\n",
       "      <td>Bowen</td>\n",
       "      <td>-20.02</td>\n",
       "      <td>148.23</td>\n",
       "      <td>298.15</td>\n",
       "      <td>73</td>\n",
       "      <td>79</td>\n",
       "      <td>0.50</td>\n",
       "      <td>AU</td>\n",
       "      <td>1607205207</td>\n",
       "    </tr>\n",
       "  </tbody>\n",
       "</table>\n",
       "<p>552 rows × 9 columns</p>\n",
       "</div>"
      ],
      "text/plain": [
       "           City    Lat     Lng  Max Temp  Humidity  Cloudiness  Wind Speed  \\\n",
       "0         Vaini -21.20 -175.20    299.15        83          75        4.60   \n",
       "1     Ilulissat  69.22  -51.10    273.15        96          75        5.10   \n",
       "2     Jamestown  42.10  -79.24    273.71        92          90        3.10   \n",
       "3         Oyama  36.30  139.80    279.82       100          20        1.50   \n",
       "4          Hofn  64.25  -15.21    270.18        89          46        4.86   \n",
       "..          ...    ...     ...       ...       ...         ...         ...   \n",
       "547     Agüimes  27.91  -15.45    290.37        87          40        6.20   \n",
       "548  San Felipe  10.34  -68.74    296.72        90          54        1.97   \n",
       "549   Ugoofaaru   5.67   73.00    300.94        77         100        5.69   \n",
       "550      Nurota  40.56   65.69    262.15        66           0        1.00   \n",
       "551       Bowen -20.02  148.23    298.15        73          79        0.50   \n",
       "\n",
       "    Country        Date  \n",
       "0        TO  1607205172  \n",
       "1        GL  1607205106  \n",
       "2        US  1607205103  \n",
       "3        JP  1607205172  \n",
       "4        IS  1607205172  \n",
       "..      ...         ...  \n",
       "547      ES  1607205207  \n",
       "548      VE  1607205207  \n",
       "549      MV  1607205207  \n",
       "550      UZ  1607205207  \n",
       "551      AU  1607205207  \n",
       "\n",
       "[552 rows x 9 columns]"
      ]
     },
     "execution_count": 13,
     "metadata": {},
     "output_type": "execute_result"
    }
   ],
   "source": [
    "#Creating clean city data using loc to make sure\n",
    "under_100 = weather_df.loc[weather_df[\"Humidity\"]<= 100]\n",
    "clean_city_data = under_100\n",
    "clean_city_data"
   ]
  },
  {
   "cell_type": "markdown",
   "metadata": {},
   "source": [
    "## Plotting the Data\n",
    "* Use proper labeling of the plots using plot titles (including date of analysis) and axes labels.\n",
    "* Save the plotted figures as .pngs."
   ]
  },
  {
   "cell_type": "markdown",
   "metadata": {},
   "source": [
    "## Latitude vs. Temperature Plot"
   ]
  },
  {
   "cell_type": "code",
   "execution_count": 14,
   "metadata": {
    "scrolled": true
   },
   "outputs": [
    {
     "data": {
      "image/png": "[encoded data removed]",
      "text/plain": [
       "<Figure size 432x288 with 1 Axes>"
      ]
     },
     "metadata": {
      "needs_background": "light"
     },
     "output_type": "display_data"
    }
   ],
   "source": [
    "latitude = clean_city_data[\"Lat\"]\n",
    "max_temp = clean_city_data[\"Max Temp\"]\n",
    "curr_date = dt.datetime.today().strftime(\"%m/%d/%Y\")\n",
    "plt.scatter(latitude, max_temp, edgecolors = \"black\")\n",
    "plt.xlabel(\"Latitude\")\n",
    "plt.ylabel(\"Max Temperature (F)\")\n",
    "plt.title(f\"City Latitude vs. Max Temperature {curr_date}\")\n",
    "plt.grid(True)\n",
    "plt.savefig(\"City Latidude vs Max Temperature.png\")\n",
    "plt.show()"
   ]
  },
  {
   "cell_type": "markdown",
   "metadata": {},
   "source": [
    "## Latitude vs. Humidity Plot"
   ]
  },
  {
   "cell_type": "code",
   "execution_count": 15,
   "metadata": {
    "scrolled": true
   },
   "outputs": [
    {
     "data": {
      "image/png": "[encoded data removed]",
      "text/plain": [
       "<Figure size 432x288 with 1 Axes>"
      ]
     },
     "metadata": {
      "needs_background": "light"
     },
     "output_type": "display_data"
    }
   ],
   "source": [
    "latitude = clean_city_data[\"Lat\"]\n",
    "humidity = clean_city_data[\"Humidity\"]\n",
    "curr_date = dt.datetime.today().strftime(\"%m/%d/%Y\")\n",
    "plt.scatter(latitude, humidity, edgecolors = \"black\")\n",
    "plt.xlabel(\"Latitude\")\n",
    "plt.ylabel(\"Humidity (%)\")\n",
    "plt.title(f\"City Latitude vs. Humidity {curr_date}\")\n",
    "plt.grid(True)\n",
    "plt.savefig(\"City Latidude vs. Humidity.png\")\n",
    "plt.show()"
   ]
  },
  {
   "cell_type": "code",
   "execution_count": 16,
   "metadata": {},
   "outputs": [],
   "source": [
    "#Describe results"
   ]
  },
  {
   "cell_type": "markdown",
   "metadata": {},
   "source": [
    "## Latitude vs. Cloudiness Plot"
   ]
  },
  {
   "cell_type": "code",
   "execution_count": 17,
   "metadata": {},
   "outputs": [
    {
     "data": {
      "image/png": "[encoded data removed]",
      "text/plain": [
       "<Figure size 432x288 with 1 Axes>"
      ]
     },
     "metadata": {
      "needs_background": "light"
     },
     "output_type": "display_data"
    }
   ],
   "source": [
    "latitude = clean_city_data[\"Lat\"]\n",
    "cloudiness = clean_city_data[\"Cloudiness\"]\n",
    "curr_date = dt.datetime.today().strftime(\"%m/%d/%Y\")\n",
    "plt.scatter(latitude, cloudiness, edgecolors = \"black\")\n",
    "plt.xlabel(\"Latitude\")\n",
    "plt.ylabel(\"Cloudiness (%)\")\n",
    "plt.title(f\"City Latitude vs. Cloudiness ({curr_date}\")\n",
    "plt.grid(True)\n",
    "plt.savefig(\"City Latidude vs. Cloudiness.png\")\n",
    "plt.show()"
   ]
  },
  {
   "cell_type": "code",
   "execution_count": 18,
   "metadata": {},
   "outputs": [],
   "source": [
    "#Describe results"
   ]
  },
  {
   "cell_type": "markdown",
   "metadata": {},
   "source": [
    "## Latitude vs. Wind Speed Plot"
   ]
  },
  {
   "cell_type": "code",
   "execution_count": 19,
   "metadata": {},
   "outputs": [
    {
     "data": {
      "image/png": "[encoded data removed]",
      "text/plain": [
       "<Figure size 432x288 with 1 Axes>"
      ]
     },
     "metadata": {
      "needs_background": "light"
     },
     "output_type": "display_data"
    }
   ],
   "source": [
    "latitude = clean_city_data[\"Lat\"]\n",
    "winds = clean_city_data[\"Wind Speed\"]\n",
    "curr_date = dt.datetime.today().strftime(\"%m/%d/%Y\")\n",
    "plt.scatter(latitude, winds, edgecolors = \"black\")\n",
    "plt.xlabel(\"Latitude\")\n",
    "plt.ylabel(\"Wind Speed (mph)\")\n",
    "plt.title(f\"City Latitude vs. Wind Speed {curr_date}\")\n",
    "plt.grid(True)\n",
    "plt.savefig(\"City Latidude vs. Wind Speed.png\")\n",
    "plt.show()"
   ]
  },
  {
   "cell_type": "code",
   "execution_count": 20,
   "metadata": {},
   "outputs": [],
   "source": [
    "#Describe results"
   ]
  },
  {
   "cell_type": "markdown",
   "metadata": {},
   "source": [
    "## Linear Regression"
   ]
  },
  {
   "cell_type": "code",
   "execution_count": 21,
   "metadata": {},
   "outputs": [],
   "source": [
    "#Use loc to get data for each hemisphere\n",
    "southern_hemisphere = clean_city_data.loc[clean_city_data[\"Lat\"] < 0]\n",
    "northern_hemisphere = clean_city_data.loc[clean_city_data[\"Lat\"] >= 0]"
   ]
  },
  {
   "cell_type": "markdown",
   "metadata": {},
   "source": [
    "####  Northern Hemisphere - Max Temp vs. Latitude Linear Regression"
   ]
  },
  {
   "cell_type": "code",
   "execution_count": 22,
   "metadata": {},
   "outputs": [
    {
     "name": "stdout",
     "output_type": "stream",
     "text": [
      "The r-value is: 0.7194308470529918\n"
     ]
    },
    {
     "data": {
      "image/png": "[encoded data removed]",
      "text/plain": [
       "<Figure size 432x288 with 1 Axes>"
      ]
     },
     "metadata": {
      "needs_background": "light"
     },
     "output_type": "display_data"
    }
   ],
   "source": [
    "north_lat = northern_hemisphere[\"Lat\"]\n",
    "north_max_temp =northern_hemisphere[\"Max Temp\"]\n",
    "plt.scatter(north_lat, north_max_temp)\n",
    "plt.ylabel(\"Max Temperature (F)\")\n",
    "plt.xlabel(\"Latitude\")\n",
    "plt.title(\"Northen Hemisphere: Max Temp vs. Latitude\")\n",
    "\n",
    "# Perform a linear regression on max temp vs. latitude\n",
    "(slope, intercept, rvalue, pvalue, stderr) = stats.linregress(north_lat, north_max_temp)\n",
    "fit = slope * north_lat + intercept\n",
    "# Create line equation string\n",
    "line_eq = \"y = \" + str(round(slope,2)) + \"x +\" + str(round(intercept,2))\n",
    "#Put the line of best fit over the scatter plot and add the equation\n",
    "plt.plot(north_lat, fit,\"r-\", color = \"red\")\n",
    "plt.annotate(line_eq,(0,250), fontsize = 15, color = \"red\")\n",
    "plt.savefig(\"Northen Hemisphere-Max Temp vs. Latitude.png\")\n",
    "print(f\"The r-value is: {rvalue**2}\")\n",
    "#plt.show()"
   ]
  },
  {
   "cell_type": "code",
   "execution_count": 23,
   "metadata": {},
   "outputs": [],
   "source": [
    "# Describe Results"
   ]
  },
  {
   "cell_type": "markdown",
   "metadata": {},
   "source": [
    "####  Southern Hemisphere - Max Temp vs. Latitude Linear Regression"
   ]
  },
  {
   "cell_type": "code",
   "execution_count": 39,
   "metadata": {},
   "outputs": [
    {
     "name": "stdout",
     "output_type": "stream",
     "text": [
      "The r-value is: 0.33811055058026\n"
     ]
    },
    {
     "data": {
      "image/png": "[encoded data removed]",
      "text/plain": [
       "<Figure size 432x288 with 1 Axes>"
      ]
     },
     "metadata": {
      "needs_background": "light"
     },
     "output_type": "display_data"
    }
   ],
   "source": [
    "south_lat = southern_hemisphere[\"Lat\"]\n",
    "south_max_temp = southern_hemisphere[\"Max Temp\"]\n",
    "plt.scatter(south_lat, south_max_temp)\n",
    "plt.ylabel(\"Max Temperature (F)\")\n",
    "plt.xlabel(\"Latitude\")\n",
    "plt.title(\"Southern Hemisphere: Max Temp vs. Latitude\")\n",
    "# Perform a linear regression on max temp vs. latitude\n",
    "(slope, intercept, rvalue, pvalue, stderr) = stats.linregress(south_lat, south_max_temp)\n",
    "fit = slope * south_lat + intercept\n",
    "# Create line equation string\n",
    "line_eq = \"y = \" + str(round(slope,2)) + \"x +\" + str(round(intercept,2))\n",
    "#Put the line of best fit over the scatter plot and add the equation\n",
    "plt.plot(south_lat, fit,\"r-\", color = \"red\")\n",
    "plt.annotate(line_eq,(-40,280), fontsize = 15, color = \"red\")\n",
    "plt.savefig(\"Southern Hemisphere-Max Temp vs. Latitude.png\")\n",
    "print(f\"The r-value is: {rvalue**2}\")\n",
    "#plt.show()"
   ]
  },
  {
   "cell_type": "code",
   "execution_count": 25,
   "metadata": {},
   "outputs": [],
   "source": [
    "#Describe results"
   ]
  },
  {
   "cell_type": "markdown",
   "metadata": {},
   "source": [
    "####  Northern Hemisphere - Humidity (%) vs. Latitude Linear Regression"
   ]
  },
  {
   "cell_type": "code",
   "execution_count": 42,
   "metadata": {
    "scrolled": true
   },
   "outputs": [
    {
     "name": "stdout",
     "output_type": "stream",
     "text": [
      "The r-value is: 0.11283715194138595\n"
     ]
    },
    {
     "data": {
      "image/png": "[encoded data removed]",
      "text/plain": [
       "<Figure size 432x288 with 1 Axes>"
      ]
     },
     "metadata": {
      "needs_background": "light"
     },
     "output_type": "display_data"
    }
   ],
   "source": [
    "north_lat = northern_hemisphere[\"Lat\"]\n",
    "north_humidity =northern_hemisphere[\"Humidity\"]\n",
    "plt.scatter(north_lat,north_humidity)\n",
    "plt.ylabel(\"Humidity (%)\")\n",
    "plt.xlabel(\"Latitude\")\n",
    "plt.title(\"Northern Hemisphere: Humidity vs. Latitude\")\n",
    "\n",
    "# Perform a linear regression on humidity vs. latitude\n",
    "(slope, intercept, rvalue, pvalue, stderr) = stats.linregress(north_lat, north_humidity)\n",
    "fit = slope * north_lat + intercept\n",
    "# Create line equation string\n",
    "line_eq = \"y = \" + str(round(slope,2)) + \"x +\" + str(round(intercept,2))\n",
    "#Put the line of best fit over the scatter plot and add the equation\n",
    "plt.plot(north_lat, fit,\"r-\", color = \"red\")\n",
    "plt.annotate(line_eq, (48,20), fontsize = 15, color = \"red\")\n",
    "plt.savefig(\"Northern Hemisphere-Humidity vs. Latitude.png\")\n",
    "print(f\"The r-value is: {rvalue**2}\")\n",
    "#plt.show()"
   ]
  },
  {
   "cell_type": "code",
   "execution_count": 27,
   "metadata": {},
   "outputs": [],
   "source": [
    "#Describe the results"
   ]
  },
  {
   "cell_type": "markdown",
   "metadata": {},
   "source": [
    "####  Southern Hemisphere - Humidity (%) vs. Latitude Linear Regression"
   ]
  },
  {
   "cell_type": "code",
   "execution_count": 43,
   "metadata": {},
   "outputs": [
    {
     "name": "stdout",
     "output_type": "stream",
     "text": [
      "The r-value is: 0.1906948277846328\n"
     ]
    },
    {
     "data": {
      "image/png": "[encoded data removed]",
      "text/plain": [
       "<Figure size 432x288 with 1 Axes>"
      ]
     },
     "metadata": {
      "needs_background": "light"
     },
     "output_type": "display_data"
    }
   ],
   "source": [
    "south_lat = southern_hemisphere[\"Lat\"]\n",
    "south_humidity = southern_hemisphere[\"Humidity\"]\n",
    "plt.scatter(south_lat,south_humidity)\n",
    "plt.ylabel(\"Humidity (%)\")\n",
    "plt.xlabel(\"Latitude\")\n",
    "plt.title(\"Southern Hemisphere: Humidity vs. Latitude\")\n",
    "\n",
    "# Perform a linear regression on humidity vs. latitude\n",
    "(slope, intercept, rvalue, pvalue, stderr) = stats.linregress(south_lat, south_humidity)\n",
    "fit = slope * south_lat + intercept\n",
    "# Create line equation string\n",
    "line_eq = \"y = \" + str(round(slope,2)) + \"x +\" + str(round(intercept,2))\n",
    "#Put the line of best fit over the scatter plot and add the equation\n",
    "plt.plot(south_lat, fit,\"r-\", color = \"red\")\n",
    "plt.annotate(line_eq, (-55,40), fontsize = 15, color = \"red\")\n",
    "plt.savefig(\"Southern Hemisphere-Humidity vs. Latitude.png\")\n",
    "print(f\"The r-value is: {rvalue**2}\")\n",
    "#plt.show()"
   ]
  },
  {
   "cell_type": "code",
   "execution_count": 29,
   "metadata": {},
   "outputs": [],
   "source": [
    "#Describe the results"
   ]
  },
  {
   "cell_type": "markdown",
   "metadata": {},
   "source": [
    "####  Northern Hemisphere - Cloudiness (%) vs. Latitude Linear Regression"
   ]
  },
  {
   "cell_type": "code",
   "execution_count": 46,
   "metadata": {
    "scrolled": true
   },
   "outputs": [
    {
     "name": "stdout",
     "output_type": "stream",
     "text": [
      "The r-value is: 0.06924142308315864\n"
     ]
    },
    {
     "data": {
      "image/png": "[encoded data removed]",
      "text/plain": [
       "<Figure size 432x288 with 1 Axes>"
      ]
     },
     "metadata": {
      "needs_background": "light"
     },
     "output_type": "display_data"
    }
   ],
   "source": [
    "north_lat = northern_hemisphere[\"Lat\"]\n",
    "north_cloudiness =northern_hemisphere[\"Cloudiness\"]\n",
    "plt.scatter(north_lat,north_cloudiness)\n",
    "plt.ylabel(\"Cloudiness (%)\")\n",
    "plt.xlabel(\"Latitude\")\n",
    "plt.title(\"Northern Hemisphere: Cloudiness vs. Latitude\")\n",
    "\n",
    "# Perform a linear regression on humidity vs. latitude\n",
    "(slope, intercept, rvalue, pvalue, stderr) = stats.linregress(north_lat, north_cloudiness)\n",
    "fit = slope * north_lat + intercept\n",
    "# Create line equation string\n",
    "line_eq = \"y = \" + str(round(slope,2)) + \"x +\" + str(round(intercept,2))\n",
    "#Put the line of best fit over the scatter plot and add the equation\n",
    "plt.plot(north_lat, fit,\"r-\", color = \"red\")\n",
    "plt.annotate(line_eq, (20,50), fontsize = 15, color = \"red\")\n",
    "plt.savefig(\"Northern Hemisphere-Cloudiness vs. Latitude.png\")\n",
    "print(f\"The r-value is: {rvalue**2}\")\n",
    "#plt.show()"
   ]
  },
  {
   "cell_type": "code",
   "execution_count": 31,
   "metadata": {},
   "outputs": [],
   "source": [
    "# Describe the results"
   ]
  },
  {
   "cell_type": "markdown",
   "metadata": {},
   "source": [
    "####  Southern Hemisphere - Cloudiness (%) vs. Latitude Linear Regression"
   ]
  },
  {
   "cell_type": "code",
   "execution_count": 47,
   "metadata": {},
   "outputs": [
    {
     "name": "stdout",
     "output_type": "stream",
     "text": [
      "The r-value is: 0.06087762869308928\n"
     ]
    },
    {
     "data": {
      "image/png": "[encoded data removed]",
      "text/plain": [
       "<Figure size 432x288 with 1 Axes>"
      ]
     },
     "metadata": {
      "needs_background": "light"
     },
     "output_type": "display_data"
    }
   ],
   "source": [
    "south_lat = southern_hemisphere[\"Lat\"]\n",
    "south_cloudiness = southern_hemisphere[\"Cloudiness\"]\n",
    "plt.scatter(south_lat,south_cloudiness)\n",
    "plt.ylabel(\"Cloudiness (%)\")\n",
    "plt.xlabel(\"Latitude\")\n",
    "plt.title(\"Southern Hemisphere: Cloudiness vs. Latitude\")\n",
    "\n",
    "# Perform a linear regression on humidity vs. latitude\n",
    "(slope, intercept, rvalue, pvalue, stderr) = stats.linregress(south_lat, south_cloudiness)\n",
    "fit = slope * south_lat + intercept\n",
    "# Create line equation string\n",
    "line_eq = \"y = \" + str(round(slope,2)) + \"x +\" + str(round(intercept,2))\n",
    "#Put the line of best fit over the scatter plot and add the equation\n",
    "plt.plot(south_lat, fit,\"r-\", color = \"red\")\n",
    "plt.annotate(line_eq, (-55,50), fontsize = 15, color = \"red\")\n",
    "plt.savefig(\"Southern Hemisphere-Humidity vs. Latitude.png\")\n",
    "print(f\"The r-value is: {rvalue**2}\")\n",
    "#plt.show()"
   ]
  },
  {
   "cell_type": "code",
   "execution_count": 33,
   "metadata": {},
   "outputs": [],
   "source": [
    "# Describe the results"
   ]
  },
  {
   "cell_type": "markdown",
   "metadata": {},
   "source": [
    "####  Northern Hemisphere - Wind Speed (mph) vs. Latitude Linear Regression"
   ]
  },
  {
   "cell_type": "code",
   "execution_count": 48,
   "metadata": {},
   "outputs": [
    {
     "name": "stdout",
     "output_type": "stream",
     "text": [
      "The r-value is: 0.010360773819070744\n"
     ]
    },
    {
     "data": {
      "image/png": "[encoded data removed]",
      "text/plain": [
       "<Figure size 432x288 with 1 Axes>"
      ]
     },
     "metadata": {
      "needs_background": "light"
     },
     "output_type": "display_data"
    }
   ],
   "source": [
    "north_lat = northern_hemisphere[\"Lat\"]\n",
    "north_winds =northern_hemisphere[\"Wind Speed\"]\n",
    "plt.scatter(north_lat,north_winds)\n",
    "plt.ylabel(\"Wind Speed (mph)\")\n",
    "plt.xlabel(\"Latitude\")\n",
    "plt.title(\"Northern Hemisphere: Wind Speed vs. Latitude\")\n",
    "\n",
    "# Perform a linear regression on humidity vs. latitude\n",
    "(slope, intercept, rvalue, pvalue, stderr) = stats.linregress(north_lat, north_winds)\n",
    "fit = slope * north_lat + intercept\n",
    "# Create line equation string\n",
    "line_eq = \"y = \" + str(round(slope,2)) + \"x +\" + str(round(intercept,2))\n",
    "#Put the line of best fit over the scatter plot and add the equation\n",
    "plt.plot(north_lat, fit,\"r-\", color = \"red\")\n",
    "plt.annotate(line_eq, (10,12), fontsize = 15, color = \"red\")\n",
    "plt.savefig(\"Northern Hemisphere-Wind Speed vs. Latitude.png\")\n",
    "print(f\"The r-value is: {rvalue**2}\")\n",
    "#plt.show()"
   ]
  },
  {
   "cell_type": "code",
   "execution_count": 35,
   "metadata": {},
   "outputs": [],
   "source": [
    "# Describe the results"
   ]
  },
  {
   "cell_type": "markdown",
   "metadata": {},
   "source": [
    "####  Southern Hemisphere - Wind Speed (mph) vs. Latitude Linear Regression"
   ]
  },
  {
   "cell_type": "code",
   "execution_count": 36,
   "metadata": {},
   "outputs": [
    {
     "name": "stdout",
     "output_type": "stream",
     "text": [
      "The r-value is: 0.09444784542092399\n"
     ]
    },
    {
     "data": {
      "image/png": "[encoded data removed]",
      "text/plain": [
       "<Figure size 432x288 with 1 Axes>"
      ]
     },
     "metadata": {
      "needs_background": "light"
     },
     "output_type": "display_data"
    }
   ],
   "source": [
    "south_lat = southern_hemisphere[\"Lat\"]\n",
    "south_winds = southern_hemisphere[\"Wind Speed\"]\n",
    "plt.scatter(south_lat,south_winds)\n",
    "plt.ylabel(\"Wind Speed (mph)\")\n",
    "plt.xlabel(\"Latitude\")\n",
    "plt.title(\"Southern Hemisphere: Wind Speed vs. Latitude\")\n",
    "\n",
    "# Perform a linear regression on humidity vs. latitude\n",
    "(slope, intercept, rvalue, pvalue, stderr) = stats.linregress(south_lat, south_winds)\n",
    "fit = slope * south_lat + intercept\n",
    "# Create line equation string\n",
    "line_eq = \"y = \" + str(round(slope,2)) + \"x +\" + str(round(intercept,2))\n",
    "#Put the line of best fit over the scatter plot and add the equation\n",
    "plt.plot(south_lat, fit,\"r-\", color = \"red\")\n",
    "plt.annotate(line_eq, (-25,10), fontsize = 15, color = \"red\")\n",
    "plt.savefig(\"Southern Hemisphere-Wind Speed vs. Latitude.png\")\n",
    "print(f\"The r-value is: {rvalue**2}\")\n",
    "#plt.show()"
   ]
  },
  {
   "cell_type": "code",
   "execution_count": 37,
   "metadata": {},
   "outputs": [],
   "source": [
    "# Describe the results"
   ]
  }
 ],
 "metadata": {
  "anaconda-cloud": {},
  "kernel_info": {
   "name": "python3"
  },
  "kernelspec": {
   "display_name": "Python 3",
   "language": "python",
   "name": "python3"
  },
  "language_info": {
   "codemirror_mode": {
    "name": "ipython",
    "version": 3
   },
   "file_extension": ".py",
   "mimetype": "text/x-python",
   "name": "python",
   "nbconvert_exporter": "python",
   "pygments_lexer": "ipython3",
   "version": "3.8.3"
  },
  "latex_envs": {
   "LaTeX_envs_menu_present": true,
   "autoclose": false,
   "autocomplete": true,
   "bibliofile": "biblio.bib",
   "cite_by": "apalike",
   "current_citInitial": 1,
   "eqLabelWithNumbers": true,
   "eqNumInitial": 1,
   "hotkeys": {
    "equation": "Ctrl-E",
    "itemize": "Ctrl-I"
   },
   "labels_anchors": false,
   "latex_user_defs": false,
   "report_style_numbering": false,
   "user_envs_cfg": false
  },
  "nteract": {
   "version": "0.12.3"
  }
 },
 "nbformat": 4,
 "nbformat_minor": 2
}
