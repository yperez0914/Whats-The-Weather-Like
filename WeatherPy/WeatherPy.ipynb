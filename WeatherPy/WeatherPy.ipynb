{
 "cells": [
  {
   "cell_type": "markdown",
   "metadata": {},
   "source": [
    "# WeatherPy\n",
    "----\n",
    "\n",
    "#### Note\n",
    "* Instructions have been included for each segment. You do not have to follow them exactly, but they are included to help you think through the steps."
   ]
  },
  {
   "cell_type": "code",
   "execution_count": 1,
   "metadata": {
    "scrolled": true
   },
   "outputs": [],
   "source": [
    "# Dependencies and Setup\n",
    "import matplotlib.pyplot as plt\n",
    "import pandas as pd\n",
    "import numpy as np\n",
    "import requests\n",
    "import time\n",
    "import scipy.stats as stats\n",
    "import datetime as dt\n",
    "from scipy.stats import linregress\n",
    "import json\n",
    "\n",
    "%load_ext autoreload\n",
    "%autoreload 2\n",
    "# Import API key\n",
    "from config import api_key\n",
    "# Incorporated citipy to determine city based on latitude and longitude\n",
    "from citipy import citipy\n",
    "\n",
    "# Output File (CSV)\n",
    "\n",
    "output_data_file = (r\"C:\\Users\\yenia\\Desktop\\JHU_Bootcamp\\Homework\\Whats-The-Weather-Like\\WeatherPy\\Data\\cities.csv\")\n",
    "# Range of latitudes and longitudes\n",
    "lat_range = (-90, 90)\n",
    "lng_range = (-180, 180)\n",
    "\n",
    "from ratelimit import limits\n",
    "\n",
    "import requests\n",
    "\n",
    "# one_minute = 60\n",
    "\n",
    "# @limits(calls=60, period=one_minute)\n",
    "# def call_api(url):\n",
    "#     response = requests.get(url)\n",
    "\n",
    "#     if response.status_code != 200:\n",
    "#         raise Exception('API response: {}'.format(response.status_code))\n",
    "#     return response"
   ]
  },
  {
   "cell_type": "markdown",
   "metadata": {},
   "source": [
    "## Generate Cities List"
   ]
  },
  {
   "cell_type": "code",
   "execution_count": 2,
   "metadata": {},
   "outputs": [
    {
     "data": {
      "text/plain": [
       "622"
      ]
     },
     "execution_count": 2,
     "metadata": {},
     "output_type": "execute_result"
    }
   ],
   "source": [
    "# List for holding lat_lngs and cities\n",
    "lat_lngs = []\n",
    "cities = []\n",
    "\n",
    "# Create a set of random lat and lng combinations\n",
    "lats = np.random.uniform(lat_range[0], lat_range[1], size=1500)\n",
    "lngs = np.random.uniform(lng_range[0], lng_range[1], size=1500)\n",
    "lat_lngs = zip(lats, lngs)\n",
    "\n",
    "# Identify nearest city for each lat, lng combination\n",
    "for lat_lng in lat_lngs:\n",
    "    city = citipy.nearest_city(lat_lng[0], lat_lng[1]).city_name\n",
    "    \n",
    "    # If the city is unique, then add it to a our cities list\n",
    "    if city not in cities:\n",
    "        cities.append(city)\n",
    "\n",
    "# Print the city count to confirm sufficient count\n",
    "len(cities)"
   ]
  },
  {
   "cell_type": "markdown",
   "metadata": {},
   "source": [
    "### Perform API Calls\n",
    "* Perform a weather check on each city using a series of successive API calls.\n",
    "* Include a print log of each city as it'sbeing processed (with the city number and city name).\n"
   ]
  },
  {
   "cell_type": "code",
   "execution_count": 23,
   "metadata": {},
   "outputs": [
    {
     "name": "stdout",
     "output_type": "stream",
     "text": [
      "{\n",
      "    \"coord\": {\n",
      "        \"lon\": -95.36,\n",
      "        \"lat\": 29.76\n",
      "    },\n",
      "    \"weather\": [\n",
      "        {\n",
      "            \"id\": 802,\n",
      "            \"main\": \"Clouds\",\n",
      "            \"description\": \"scattered clouds\",\n",
      "            \"icon\": \"03d\"\n",
      "        }\n",
      "    ],\n",
      "    \"base\": \"stations\",\n",
      "    \"main\": {\n",
      "        \"temp\": 285.14,\n",
      "        \"feels_like\": 283.34,\n",
      "        \"temp_min\": 284.15,\n",
      "        \"temp_max\": 285.93,\n",
      "        \"pressure\": 1021,\n",
      "        \"humidity\": 66\n",
      "    },\n",
      "    \"visibility\": 10000,\n",
      "    \"wind\": {\n",
      "        \"speed\": 1.21,\n",
      "        \"deg\": 63\n",
      "    },\n",
      "    \"clouds\": {\n",
      "        \"all\": 40\n",
      "    },\n",
      "    \"dt\": 1607200135,\n",
      "    \"sys\": {\n",
      "        \"type\": 1,\n",
      "        \"id\": 4850,\n",
      "        \"country\": \"US\",\n",
      "        \"sunrise\": 1607173375,\n",
      "        \"sunset\": 1607210524\n",
      "    },\n",
      "    \"timezone\": -21600,\n",
      "    \"id\": 4699066,\n",
      "    \"name\": \"Houston\",\n",
      "    \"cod\": 200\n",
      "}\n",
      "{'coord': {'lon': -95.36, 'lat': 29.76}, 'weather': [{'id': 802, 'main': 'Clouds', 'description': 'scattered clouds', 'icon': '03d'}], 'base': 'stations', 'main': {'temp': 285.14, 'feels_like': 283.34, 'temp_min': 284.15, 'temp_max': 285.93, 'pressure': 1021, 'humidity': 66}, 'visibility': 10000, 'wind': {'speed': 1.21, 'deg': 63}, 'clouds': {'all': 40}, 'dt': 1607200135, 'sys': {'type': 1, 'id': 4850, 'country': 'US', 'sunrise': 1607173375, 'sunset': 1607210524}, 'timezone': -21600, 'id': 4699066, 'name': 'Houston', 'cod': 200}\n",
      "4699066 Houston\n"
     ]
    }
   ],
   "source": [
    "#Exploratory test \n",
    "test =  [\"Houston\"]\n",
    "results = []\n",
    "for city in test:\n",
    "    query_url = f\"{url}appid={api_key}&q={city}\"\n",
    "    response = requests.get(query_url)\n",
    "    response_json = response.json()\n",
    "print (json.dumps(response_json, indent = 4))   \n",
    "print(response_json)\n",
    "#test retrieval of data using test city\n",
    "weather_id=response_json[\"weather\"][0][\"id\"]\n",
    "city_id = response_json[\"id\"]\n",
    "city_name_test = response_json[\"name\"]\n",
    "print(city_id,city_name_test)"
   ]
  },
  {
   "cell_type": "code",
   "execution_count": 3,
   "metadata": {},
   "outputs": [
    {
     "name": "stdout",
     "output_type": "stream",
     "text": [
      "1337606 Eydhafushi\n",
      "3981391 Tomatlán\n",
      "3414079 Olafsvik\n",
      "Not found.\n",
      "2138555 Poum\n",
      "1895695 Kushima\n",
      "5044290 Saint Anthony\n",
      "5924351 Clyde River\n",
      "1015776 Bredasdorp\n",
      "3421319 Nuuk\n",
      "3369157 Cape Town\n",
      "5848280 Kapaa\n",
      "1507390 Dikson\n",
      "4032243 Vaini\n",
      "4020109 Atuona\n",
      "4030556 Rikitea\n",
      "3652758 Puerto Baquerizo Moreno\n",
      "3466165 Cidreira\n",
      "2110227 Butaritari\n",
      "964420 Port Elizabeth\n",
      "2163355 Hobart\n",
      "2130146 Hanawa\n",
      "6201424 Mataura\n",
      "6185377 Yellowknife\n",
      "2165087 Gold Coast\n",
      "2013279 Vostok\n",
      "1106643 Quatre Cocos\n",
      "3347719 Luena\n",
      "2978072 Saint-Médard-en-Jalles\n",
      "3347019 Mossamedes\n",
      "780687 Berlevåg\n",
      "2609894 Yantarnyy\n",
      "608036 Temir\n",
      "4944903 Nantucket\n",
      "3833367 Ushuaia\n",
      "3427761 Tigre\n",
      "933995 Souillac\n",
      "3874787 Punta Arenas\n",
      "2119283 Zyryanka\n",
      "512413 Pashiya\n",
      "3423146 Ilulissat\n",
      "779261 Kjøllefjord\n",
      "2017155 Saskylakh\n",
      "1513491 Yangi Marg`ilon\n",
      "1736660 Kota Belud\n",
      "3652764 Puerto Ayora\n",
      "2206939 Bluff\n",
      "Not found.\n",
      "5106841 Albany\n",
      "1819729 Hong Kong\n",
      "5880054 Barrow\n",
      "986717 Kruisfontein\n",
      "3372964 Lagoa\n",
      "3424607 Tasiilaq\n",
      "3374083 Bathsheba\n",
      "6165406 Thompson\n",
      "551846 Lagan\n",
      "3404558 Cabedelo\n",
      "2449893 Tessalit\n",
      "5969025 Haines Junction\n",
      "Not found.\n",
      "3355672 Lüderitz\n",
      "3899695 Ancud\n",
      "3393922 Nísia Floresta\n",
      "152042 Naberera\n",
      "2121385 Severo-Kuril'sk\n",
      "1714733 Dingle\n",
      "1701054 Marawi\n",
      "1282256 Hithadhoo\n",
      "2092164 Lorengau\n",
      "3361142 Springbok\n",
      "6180550 Whitehorse\n",
      "2068110 Kununurra\n",
      "3831208 Qaanaaq\n",
      "3386177 Trairi\n",
      "2436400 Ati\n",
      "301116 Şereflikoçhisar\n",
      "1842966 Gijang\n",
      "2022572 Khatanga\n",
      "934322 Mahébourg\n",
      "149775 Songwa\n",
      "3897347 Calama\n",
      "2618795 Klaksvík\n",
      "2065594 Mount Isa\n",
      "2962945 Lifford\n",
      "Not found.\n",
      "2025241 Churapcha\n",
      "3366880 Hermanus\n",
      "104515 Makkah al Mukarramah\n",
      "1727909 Balogo\n",
      "88319 Benghazi\n",
      "2216432 Jadu\n",
      "2167426 Emerald\n",
      "2240449 Luanda\n",
      "540761 Kropotkin\n",
      "1633419 Padang\n",
      "3175096 Laas\n",
      "3442778 Delta del Tigre\n",
      "108410 Riyadh\n",
      "5855051 ‘Ewa Beach\n",
      "964432 Port Alfred\n",
      "3883457 Lebu\n",
      "2126682 Bilibino\n",
      "2638419 Scarborough\n",
      "5282297 Bethel\n",
      "2219235 Ubari\n",
      "3430863 Mar del Plata\n",
      "3358670 Arandis\n",
      "3361934 Saldanha\n",
      "515879 Oktyabr'skiy\n",
      "2158562 Maryborough\n",
      "2414544 Tougue\n",
      "1056899 Sambava\n",
      "Not found.\n",
      "3471451 Arraial do Cabo\n",
      "3418910 Upernavik\n",
      "303750 Tall Kayf\n",
      "2074865 Carnarvon\n",
      "6094665 Osoyoos\n",
      "3445026 Vila Velha\n",
      "4328010 Houma\n",
      "1282635 Tulsīpur\n",
      "2109528 Buala\n",
      "Not found.\n",
      "3670218 San Andrés\n",
      "2180815 Tuatapere\n",
      "4047434 Russell\n",
      "Not found.\n",
      "1688781 City of San Pedro\n",
      "Not found.\n",
      "1214488 Meulaboh\n",
      "5122534 Jamestown\n",
      "110690 Faya\n",
      "1502073 Krasnosel'kup\n",
      "Not found.\n",
      "1715015 Dicabisagan\n",
      "1729564 Bacolod City\n",
      "Not found.\n",
      "5983720 Iqaluit\n",
      "3893726 Constitución\n",
      "2264557 Ponta do Sol\n",
      "1253578 Vadlapūdi\n",
      "1272864 Dhārchula\n",
      "1529376 Korla\n",
      "Not found.\n",
      "178093 Witu\n",
      "3466704 Castro\n",
      "244878 Biltine\n",
      "2155415 New Norfolk\n",
      "2214432 Nālūt\n",
      "4946620 Palmer\n",
      "3579925 St. George's\n",
      "3421982 Maniitsoq\n",
      "3870243 Taltal\n",
      "1623197 Tual\n",
      "3533269 Agua Dulce\n",
      "1794971 Shitanjing\n",
      "2363490 Vogan\n",
      "2020584 Magistral'nyy\n",
      "3372707 Ribeira Grande\n",
      "3139597 Sistranda\n",
      "934479 Grand Gaube\n",
      "286621 Salalah\n",
      "3389822 Salinópolis\n",
      "2027296 Aykhal\n",
      "964712 Plettenberg Bay\n",
      "3516171 Barra de Tecoanapa\n",
      "2121025 Srednekolymsk\n",
      "3412093 Vestmannaeyjar\n",
      "1174451 Keti Bandar\n",
      "2088659 Panguna\n",
      "2643044 Margate\n",
      "509437 Pionerskiy\n",
      "2094342 Kavieng\n",
      "64814 Bandarbeyla\n",
      "2377457 Nouadhibou\n",
      "1006984 East London\n",
      "2075265 Busselton\n",
      "546105 Nikolskoye\n",
      "3939761 Hualmay\n",
      "4031574 Provideniya\n",
      "Not found.\n",
      "5866583 Saint Paul Harbor\n",
      "4031637 Lavrentiya\n",
      "1513064 Nurobod\n",
      "2654092 Caernarfon\n",
      "86049 Jalu\n",
      "4255151 Bud\n",
      "Not found.\n",
      "2070998 Geraldton\n",
      "5855927 Hilo\n",
      "1214026 Sabang\n",
      "Not found.\n",
      "1649150 Bengkulu\n",
      "5364271 Laguna\n",
      "4036284 Alofi\n",
      "Not found.\n",
      "2528910 Tétouan\n",
      "2136825 Isangel\n",
      "1735634 Kuching\n",
      "6121621 Revelstoke\n",
      "3115824 Muros\n",
      "3393692 Itarema\n",
      "1651810 Airai\n",
      "2729907 Longyearbyen\n",
      "1528998 Yumen\n",
      "Not found.\n",
      "2013986 Ust'-Barguzin\n",
      "2012728 Zakamensk\n",
      "Not found.\n",
      "2171099 Codrington\n",
      "5557293 Sitka\n",
      "4588165 Mt. Pleasant\n",
      "555984 Isheyevka\n",
      "3868633 Vallenar\n",
      "2381972 Adrar\n",
      "1804651 Kunming\n",
      "2654332 Buncrana\n",
      "2028164 Deputatsky\n",
      "Not found.\n",
      "1735106 George Town\n",
      "2123814 Leningradskiy\n",
      "1214882 Kisaran\n",
      "2063056 Port Augusta\n",
      "Not found.\n",
      "4004399 Imuris\n",
      "3421193 Paamiut\n",
      "Not found.\n",
      "2338660 Yaan\n",
      "1786538 Yining\n",
      "6157355 Stonewall\n",
      "2400547 Gamba\n",
      "2012530 Zhigansk\n",
      "Not found.\n",
      "3839307 Rawson\n",
      "3406961 Augusto Corrêa\n",
      "1731248 Alugan\n",
      "2176639 Batemans Bay\n",
      "1106677 Bambous Virieux\n",
      "4032369 Pangai\n",
      "3421765 Nanortalik\n",
      "2178753 Kirakira\n",
      "2629833 Husavik\n",
      "2016307 Solnechnyy\n",
      "921786 Mitsamiouli\n",
      "3985710 Cabo San Lucas\n",
      "4035715 Avarua\n",
      "2448083 Agadez\n",
      "5546220 Saint George\n",
      "1795632 Shenjiamen\n",
      "Not found.\n",
      "3202895 Čajniče\n",
      "3401148 Cururupu\n",
      "2122090 Pevek\n",
      "6167817 Torbay\n",
      "1131461 Oruzgan\n",
      "2025630 Chara\n",
      "1489853 Tazovsky\n",
      "5392593 San Ramon\n",
      "2134814 Sola\n",
      "2206874 Waipawa\n",
      "6355222 Yulara\n",
      "2112802 Hasaki\n",
      "3467362 Capão da Canoa\n",
      "1283711 Bāglung\n",
      "546742 Kodino\n",
      "Not found.\n",
      "2513436 Mula\n",
      "4804563 Dunbar\n",
      "102527 Sakakah\n",
      "3533462 Acapulco de Juárez\n",
      "Not found.\n",
      "2738381 Lata\n",
      "5007996 Saginaw\n",
      "2527087 Tiznit Province\n",
      "2017842 Pokosnoye\n",
      "2172797 Cairns\n",
      "Not found.\n",
      "Not found.\n",
      "1337619 Ugoofaaru\n",
      "Not found.\n",
      "4032420 Neiafu\n",
      "779330 Kautokeino\n",
      "1267390 Kavaratti\n",
      "1510377 Belyy Yar\n",
      "5572400 Susanville\n",
      "6620339 Karratha\n",
      "4026082 Lázaro Cárdenas\n",
      "2212775 Sabha\n",
      "3984997 San Quintín\n",
      "5563839 Fortuna\n",
      "Not found.\n",
      "935215 Saint-Philippe\n",
      "319104 Çay\n",
      "4513583 Hamilton\n",
      "498035 Sazonovo\n",
      "5134295 Rome\n",
      "1526384 Almaty\n",
      "2208248 Kaitangata\n",
      "1803936 Wuwei\n",
      "Not found.\n",
      "1162094 Ziarat\n",
      "Not found.\n",
      "1630639 Pringsewu\n",
      "60019 Eyl\n",
      "Not found.\n",
      "1734052 Sandakan\n",
      "2165478 Gladstone\n",
      "4231997 Avera\n",
      "934649 Cap Malheureux\n",
      "2236568 Uíge\n",
      "1640344 Kendari\n",
      "729114 Montana\n",
      "4033557 Tautira\n",
      "2251007 Kaffrine\n",
      "Not found.\n",
      "3381041 Mana\n",
      "371745 Kutum\n",
      "6690297 Saint-Leu\n",
      "557140 Il’inskiy\n",
      "2068655 Katherine\n",
      "3698359 Chicama\n",
      "3664980 Boa Vista\n",
      "3385077 Conde\n",
      "4692856 Galveston\n",
      "3628142 San Jose de Guanipa\n",
      "5955902 Fort Nelson\n",
      "1785572 Yuxia\n",
      "3443061 Chui\n",
      "2071860 Esperance\n",
      "578931 Barysh\n",
      "2034599 Tailai\n",
      "1814093 Dali\n",
      "5972291 Havre-St-Pierre\n",
      "779622 Havøysund\n",
      "7671223 Kloulklubed\n",
      "2206854 Gisborne\n",
      "1151253 Phuket\n",
      "1218612 Murgab\n",
      "6170031 Tuktoyaktuk\n",
      "3836669 San Rafael\n",
      "Not found.\n",
      "2126123 Chokurdakh\n",
      "1253628 Ginda\n",
      "4021858 Guerrero Negro\n",
      "6457397 Bose\n",
      "5380437 Pacific Grove\n",
      "3406196 Barreirinhas\n",
      "Not found.\n",
      "1520253 Zharkent\n",
      "4060954 Eufaula\n",
      "1651591 Amahai\n",
      "1490796 Strezhevoy\n",
      "3451138 Rio Grande\n",
      "5861897 Fairbanks\n",
      "2435508 Benoy\n",
      "2020121 Mayya\n",
      "2063036 Port Lincoln\n",
      "2138285 Tadine\n",
      "2126710 Beringovskiy\n",
      "519611 Novaya Mayna\n",
      "4845585 Westport\n",
      "3350246 Catumbela\n",
      "2172880 Byron Bay\n",
      "3416888 Grindavik\n",
      "1503037 Kodinsk\n",
      "2126199 Cherskiy\n",
      "3465228 Coxim\n",
      "2084442 Vanimo\n",
      "2036776 Huadian\n",
      "6137381 Saint-Ambroise\n",
      "4034551 Faanui\n",
      "4617305 Davidson\n",
      "6111862 Port Hardy\n",
      "Not found.\n",
      "1637510 Loa Janan\n",
      "Not found.\n",
      "1856938 Mitake\n",
      "2392087 Porto-Novo\n",
      "1259184 Puri\n",
      "7647007 Bariloche\n",
      "Not found.\n",
      "497024 Senno\n",
      "117656 Salmās\n",
      "2027042 Batagay-Alyta\n",
      "3385899 Tutóia\n",
      "3374210 São Filipe\n",
      "2412408 Nioro\n",
      "315498 Heraclea\n",
      "3932145 Pisco\n",
      "467753 Yel'nya\n",
      "2026861 Berdigestyakh\n",
      "2063042 Port Hedland\n",
      "305810 Kula\n",
      "3836277 Santa Fe\n",
      "57000 Hobyo\n",
      "3440777 Rocha\n",
      "6089245 Norman Wells\n",
      "Not found.\n",
      "1861416 Ishigaki\n",
      "2137773 Vao\n",
      "962367 Richards Bay\n",
      "1810979 Fuling\n",
      "479021 Undory\n",
      "Not found.\n",
      "527529 Menzelinsk\n",
      "3906478 Reyes\n",
      "Not found.\n",
      "4160812 Key West\n",
      "Not found.\n",
      "778707 Mehamn\n",
      "5540831 Hurricane\n",
      "2137748 Voh\n",
      "5870133 Nome\n",
      "1622318 Waingapu\n",
      "1529660 Aksu\n",
      "5882953 Aklavik\n",
      "583673 Aksay\n",
      "110690 Abhā\n",
      "2191562 Dunedin\n",
      "2122614 Okha\n",
      "1529484 Kumul\n",
      "3143830 Odda\n",
      "74477 Ibb\n",
      "4726521 San Patricio\n",
      "3893629 Coquimbo\n",
      "2732265 Viseu\n",
      "Not found.\n",
      "1244926 Hambantota\n",
      "Not found.\n",
      "1045114 Inhambane\n",
      "2515271 Las Palmas\n",
      "4911418 Shorewood\n",
      "1810637 Ganzhou\n",
      "161901 Kaka\n",
      "714697 Tiszaújváros\n",
      "1583992 Turan\n",
      "1267776 Kargil\n",
      "2633274 Akureyri\n",
      "3451234 Rio Claro\n",
      "545467 Konëvo\n",
      "3421719 Narsaq\n",
      "1718866 Cantilan\n",
      "3652943 Portovelo\n",
      "2120400 Tungor\n",
      "6067472 Marystown\n",
      "1254709 Tezu\n",
      "509052 Plavsk\n",
      "Not found.\n",
      "2088163 Popondetta\n",
      "1703912 Magdalena\n",
      "5354943 Half Moon Bay\n",
      "1633442 Paciran\n",
      "3612640 El Bálsamo\n",
      "470762 Vyartsilya\n",
      "3436547 Yuty\n",
      "556268 Ostrovnoy\n",
      "1275978 Bhikangaon\n",
      "5367788 Lompoc\n",
      "3106050 Vic\n",
      "3571913 Marsh Harbour\n",
      "204953 Tshikapa\n",
      "3436714 Villarrica\n",
      "2160413 Leeton\n",
      "3336897 La Rioja\n",
      "2297810 Mumford\n",
      "Not found.\n",
      "3470744 Barra da Estiva\n",
      "3461425 Ilhabela\n",
      "5955826 Fort Frances\n",
      "3391889 Pitimbu\n",
      "Not found.\n",
      "2510573 Teguise\n",
      "3133053 Vågåmo\n",
      "3146487 Raudeberg\n",
      "2125711 Esso\n",
      "2108502 Honiara\n",
      "2630299 Hofn\n",
      "187725 Maralal\n",
      "3663684 Lábrea\n",
      "2450173 Taoudenni\n",
      "Not found.\n",
      "3580477 West Bay\n",
      "2984699 Quimperlé\n",
      "2253354 Dakar\n",
      "4984075 Alpena\n",
      "3439395 Arroyos y Esteros\n",
      "1259813 Phalodi\n",
      "2015306 Tiksi\n",
      "3397967 Itaituba\n",
      "2090021 Namatanai\n",
      "3141667 Roald\n",
      "1486321 Yar-Sale\n",
      "5295143 Fortuna Foothills\n",
      "1803886 Lianran\n",
      "3879429 Monte Patria\n",
      "1785036 Zhangye\n",
      "478050 Ust'-Kulom\n"
     ]
    },
    {
     "name": "stdout",
     "output_type": "stream",
     "text": [
      "2315417 Inongo\n",
      "2019135 Nizhniy Kuranakh\n",
      "5850554 Makakilo City\n",
      "Not found.\n",
      "1488903 Turukhansk\n",
      "Not found.\n",
      "1235846 Matara\n",
      "130245 Javānrūd\n",
      "1855540 Naze\n",
      "1850708 Tanabe\n",
      "935616 Le Port\n",
      "1067565 Beloha\n",
      "3372760 Praia da Vitória\n",
      "2993679 Mitry-Mory\n",
      "2392505 Nikki\n",
      "5746545 Portland\n",
      "6050066 La Ronge\n",
      "Not found.\n",
      "293842 Kiryat Gat\n",
      "3430545 Morón\n",
      "2427637 Mongo\n",
      "2122783 Katangli\n",
      "583345 Aleksandrov Gay\n",
      "3395981 Maceió\n",
      "5975004 High Level\n",
      "1848976 Wajima\n",
      "2610343 Vestmanna\n",
      "3108680 Soria\n",
      "3837056 San Luis\n",
      "1586350 Cam Ranh\n",
      "1688696 San Policarpo\n",
      "579327 Bammatyurt\n",
      "3899539 Antofagasta\n",
      "3382160 Cayenne\n",
      "Not found.\n",
      "2032614 Baruun-Urt\n",
      "1272502 Diu\n",
      "3461370 Imbituba\n",
      "1795565 Shenzhen\n",
      "652977 Keuruu\n",
      "Not found.\n",
      "146490 Chlórakas\n",
      "2162683 Innisfail\n",
      "5129852 Oneonta\n",
      "3443631 Bella Union\n",
      "4956335 Yarmouth\n",
      "2109701 Auki\n",
      "2074113 Collie\n",
      "1337612 Dhidhdhoo\n",
      "5282804 Bridgeport\n",
      "2112309 Katsuura\n",
      "2128206 Shibetsu\n",
      "3380290 Sinnamary\n",
      "1812805 Dinghaicun\n",
      "2454955 Kolokani\n",
      "3936456 Lima\n",
      "686090 Asău\n",
      "217695 Bunia\n",
      "365763 Tonj\n",
      "3357114 Grootfontein\n",
      "6324729 Halifax\n",
      "3855065 General Roca\n",
      "477940 Ust-Tsilma\n",
      "2038067 Chifeng\n",
      "2150163 Sawtell\n",
      "1495812 Ous\n",
      "1054463 Tsiroanomandidy\n",
      "720228 Halmaj\n",
      "5962442 Goderich\n",
      "1644178 Genteng\n",
      "3466980 Caravelas\n",
      "486983 Stulovo\n",
      "2460954 Araouane\n",
      "2236967 Soyo\n",
      "2063039 Port Keats\n",
      "Not found.\n",
      "3515120 Tres Picos\n",
      "2640377 Penzance\n",
      "3520994 Puerto Escondido\n",
      "1495626 Pangody\n",
      "1568574 Qui Nhon\n",
      "1253863 Umaria\n",
      "1651103 Atambua\n",
      "Not found.\n",
      "Not found.\n",
      "72181 Marzuq\n",
      "2656708 Ayr\n",
      "3531368 Celestún\n",
      "5503914 Fallon\n",
      "5554428 Ketchikan\n",
      "2067089 Maningrida\n",
      "Not found.\n",
      "2122389 Ossora\n",
      "1283240 Kathmandu\n",
      "1263942 Manavālakurichi\n",
      "4035249 Lufilufi\n",
      "8079926 Labuhan\n",
      "2139521 Noumea\n",
      "964406 Port Shepstone\n",
      "3450206 Santa Helena de Goiás\n",
      "2077895 Alice Springs\n",
      "Not found.\n",
      "2739152 Gafanha da Nazaré\n",
      "97783 Bayjī\n",
      "3391287 Prainha\n",
      "292672 Sharjah city\n",
      "4162539 Lockhart\n",
      "1253237 Verāval\n",
      "1560349 Yen Bai\n",
      "3645532 Ciudad Bolivar\n",
      "777019 Vardø\n",
      "318372 Çine\n",
      "Not found.\n",
      "Not found.\n",
      "3419842 Sisimiut\n",
      "2649738 Fairlie\n",
      "418863 Isfahan\n",
      "2127060 Arman'\n",
      "2192362 Christchurch\n",
      "1271675 Gangāpur\n",
      "1490256 Talnakh\n",
      "2406145 Kasiri\n",
      "1488414 Urengoy\n",
      "6162949 Terrace\n"
     ]
    }
   ],
   "source": [
    "\n",
    "#\n",
    "url = \"http://api.openweathermap.org/data/2.5/weather?\"\n",
    "city_name = []\n",
    "lat =[]\n",
    "lng = []\n",
    "max_temp = []\n",
    "humidity = []\n",
    "cloudiness = []\n",
    "wind_speed = []\n",
    "country =[]\n",
    "date = []\n",
    "# Loop through each city\n",
    "#print(city_id,name)\n",
    "for city in cities:\n",
    "    query_url = f\"{url}appid={api_key}&q={city}\"\n",
    "    \n",
    "    try: \n",
    "        loop_response = requests.get(query_url).json()\n",
    "        city_name.append(loop_response[\"name\"])\n",
    "        lat.append(loop_response[\"coord\"][\"lat\"])\n",
    "        lng.append(loop_response[\"coord\"][\"lon\"])\n",
    "        max_temp.append(loop_response[\"main\"][\"temp_max\"])\n",
    "        humidity.append(loop_response[\"main\"][\"humidity\"])\n",
    "        cloudiness.append(loop_response[\"clouds\"][\"all\"])\n",
    "        wind_speed.append(loop_response[\"wind\"][\"speed\"])\n",
    "        country.append(loop_response[\"sys\"][\"country\"])\n",
    "        date.append(loop_response[\"dt\"])                    \n",
    "        print(loop_response[\"id\"],loop_response[\"name\"])\n",
    "    except:\n",
    "        print(\"Not found.\")\n",
    "        pass"
   ]
  },
  {
   "cell_type": "code",
   "execution_count": 4,
   "metadata": {
    "scrolled": false
   },
   "outputs": [
    {
     "name": "stdout",
     "output_type": "stream",
     "text": [
      "['Eydhafushi', 'Tomatlán', 'Olafsvik', 'Poum', 'Kushima', 'Saint Anthony', 'Clyde River', 'Bredasdorp', 'Nuuk', 'Cape Town', 'Kapaa', 'Dikson', 'Vaini', 'Atuona', 'Rikitea', 'Puerto Baquerizo Moreno', 'Cidreira', 'Butaritari', 'Port Elizabeth', 'Hobart', 'Hanawa', 'Mataura', 'Yellowknife', 'Gold Coast', 'Vostok', 'Quatre Cocos', 'Luena', 'Saint-Médard-en-Jalles', 'Mossamedes', 'Berlevåg', 'Yantarnyy', 'Temir', 'Nantucket', 'Ushuaia', 'Tigre', 'Souillac', 'Punta Arenas', 'Zyryanka', 'Pashiya', 'Ilulissat', 'Kjøllefjord', 'Saskylakh', 'Yangi Marg`ilon', 'Kota Belud', 'Puerto Ayora', 'Bluff', 'Albany', 'Hong Kong', 'Barrow', 'Kruisfontein', 'Lagoa', 'Tasiilaq', 'Bathsheba', 'Thompson', 'Lagan', 'Cabedelo', 'Tessalit', 'Haines Junction', 'Lüderitz', 'Ancud', 'Nísia Floresta', 'Naberera', \"Severo-Kuril'sk\", 'Dingle', 'Marawi', 'Hithadhoo', 'Lorengau', 'Springbok', 'Whitehorse', 'Kununurra', 'Qaanaaq', 'Trairi', 'Ati', 'Şereflikoçhisar', 'Gijang', 'Khatanga', 'Mahébourg', 'Songwa', 'Calama', 'Klaksvík', 'Mount Isa', 'Lifford', 'Churapcha', 'Hermanus', 'Makkah al Mukarramah', 'Balogo', 'Benghazi', 'Jadu', 'Emerald', 'Luanda', 'Kropotkin', 'Padang', 'Laas', 'Delta del Tigre', 'Riyadh', '‘Ewa Beach', 'Port Alfred', 'Lebu', 'Bilibino', 'Scarborough', 'Bethel', 'Ubari', 'Mar del Plata', 'Arandis', 'Saldanha', \"Oktyabr'skiy\", 'Maryborough', 'Tougue', 'Sambava', 'Arraial do Cabo', 'Upernavik', 'Tall Kayf', 'Carnarvon', 'Osoyoos', 'Vila Velha', 'Houma', 'Tulsīpur', 'Buala', 'San Andrés', 'Tuatapere', 'Russell', 'City of San Pedro', 'Meulaboh', 'Jamestown', 'Faya', \"Krasnosel'kup\", 'Dicabisagan', 'Bacolod City', 'Iqaluit', 'Constitución', 'Ponta do Sol', 'Vadlapūdi', 'Dhārchula', 'Korla', 'Witu', 'Castro', 'Biltine', 'New Norfolk', 'Nālūt', 'Palmer', \"St. George's\", 'Maniitsoq', 'Taltal', 'Tual', 'Agua Dulce', 'Shitanjing', 'Vogan', \"Magistral'nyy\", 'Ribeira Grande', 'Sistranda', 'Grand Gaube', 'Salalah', 'Salinópolis', 'Aykhal', 'Plettenberg Bay', 'Barra de Tecoanapa', 'Srednekolymsk', 'Vestmannaeyjar', 'Keti Bandar', 'Panguna', 'Margate', 'Pionerskiy', 'Kavieng', 'Bandarbeyla', 'Nouadhibou', 'East London', 'Busselton', 'Nikolskoye', 'Hualmay', 'Provideniya', 'Saint Paul Harbor', 'Lavrentiya', 'Nurobod', 'Caernarfon', 'Jalu', 'Bud', 'Geraldton', 'Hilo', 'Sabang', 'Bengkulu', 'Laguna', 'Alofi', 'Tétouan', 'Isangel', 'Kuching', 'Revelstoke', 'Muros', 'Itarema', 'Airai', 'Longyearbyen', 'Yumen', \"Ust'-Barguzin\", 'Zakamensk', 'Codrington', 'Sitka', 'Mt. Pleasant', 'Isheyevka', 'Vallenar', 'Adrar', 'Kunming', 'Buncrana', 'Deputatsky', 'George Town', 'Leningradskiy', 'Kisaran', 'Port Augusta', 'Imuris', 'Paamiut', 'Yaan', 'Yining', 'Stonewall', 'Gamba', 'Zhigansk', 'Rawson', 'Augusto Corrêa', 'Alugan', 'Batemans Bay', 'Bambous Virieux', 'Pangai', 'Nanortalik', 'Kirakira', 'Husavik', 'Solnechnyy', 'Mitsamiouli', 'Cabo San Lucas', 'Avarua', 'Agadez', 'Saint George', 'Shenjiamen', 'Čajniče', 'Cururupu', 'Pevek', 'Torbay', 'Oruzgan', 'Chara', 'Tazovsky', 'San Ramon', 'Sola', 'Waipawa', 'Yulara', 'Hasaki', 'Capão da Canoa', 'Bāglung', 'Kodino', 'Mula', 'Dunbar', 'Sakakah', 'Acapulco de Juárez', 'Lata', 'Saginaw', 'Tiznit Province', 'Pokosnoye', 'Cairns', 'Ugoofaaru', 'Neiafu', 'Kautokeino', 'Kavaratti', 'Belyy Yar', 'Susanville', 'Karratha', 'Lázaro Cárdenas', 'Sabha', 'San Quintín', 'Fortuna', 'Saint-Philippe', 'Çay', 'Hamilton', 'Sazonovo', 'Rome', 'Almaty', 'Kaitangata', 'Wuwei', 'Ziarat', 'Pringsewu', 'Eyl', 'Sandakan', 'Gladstone', 'Avera', 'Cap Malheureux', 'Uíge', 'Kendari', 'Montana', 'Tautira', 'Kaffrine', 'Mana', 'Kutum', 'Saint-Leu', 'Il’inskiy', 'Katherine', 'Chicama', 'Boa Vista', 'Conde', 'Galveston', 'San Jose de Guanipa', 'Fort Nelson', 'Yuxia', 'Chui', 'Esperance', 'Barysh', 'Tailai', 'Dali', 'Havre-St-Pierre', 'Havøysund', 'Kloulklubed', 'Gisborne', 'Phuket', 'Murgab', 'Tuktoyaktuk', 'San Rafael', 'Chokurdakh', 'Ginda', 'Guerrero Negro', 'Bose', 'Pacific Grove', 'Barreirinhas', 'Zharkent', 'Eufaula', 'Amahai', 'Strezhevoy', 'Rio Grande', 'Fairbanks', 'Benoy', 'Mayya', 'Port Lincoln', 'Tadine', 'Beringovskiy', 'Novaya Mayna', 'Westport', 'Catumbela', 'Byron Bay', 'Grindavik', 'Kodinsk', 'Cherskiy', 'Coxim', 'Vanimo', 'Huadian', 'Saint-Ambroise', 'Faanui', 'Davidson', 'Port Hardy', 'Loa Janan', 'Mitake', 'Porto-Novo', 'Puri', 'Bariloche', 'Senno', 'Salmās', 'Batagay-Alyta', 'Tutóia', 'São Filipe', 'Nioro', 'Heraclea', 'Pisco', \"Yel'nya\", 'Berdigestyakh', 'Port Hedland', 'Kula', 'Santa Fe', 'Hobyo', 'Rocha', 'Norman Wells', 'Ishigaki', 'Vao', 'Richards Bay', 'Fuling', 'Undory', 'Menzelinsk', 'Reyes', 'Key West', 'Mehamn', 'Hurricane', 'Voh', 'Nome', 'Waingapu', 'Aksu', 'Aklavik', 'Aksay', 'Abhā', 'Dunedin', 'Okha', 'Kumul', 'Odda', 'Ibb', 'San Patricio', 'Coquimbo', 'Viseu', 'Hambantota', 'Inhambane', 'Las Palmas', 'Shorewood', 'Ganzhou', 'Kaka', 'Tiszaújváros', 'Turan', 'Kargil', 'Akureyri', 'Rio Claro', 'Konëvo', 'Narsaq', 'Cantilan', 'Portovelo', 'Tungor', 'Marystown', 'Tezu', 'Plavsk', 'Popondetta', 'Magdalena', 'Half Moon Bay', 'Paciran', 'El Bálsamo', 'Vyartsilya', 'Yuty', 'Ostrovnoy', 'Bhikangaon', 'Lompoc', 'Vic', 'Marsh Harbour', 'Tshikapa', 'Villarrica', 'Leeton', 'La Rioja', 'Mumford', 'Barra da Estiva', 'Ilhabela', 'Fort Frances', 'Pitimbu', 'Teguise', 'Vågåmo', 'Raudeberg', 'Esso', 'Honiara', 'Hofn', 'Maralal', 'Lábrea', 'Taoudenni', 'West Bay', 'Quimperlé', 'Dakar', 'Alpena', 'Arroyos y Esteros', 'Phalodi', 'Tiksi', 'Itaituba', 'Namatanai', 'Roald', 'Yar-Sale', 'Fortuna Foothills', 'Lianran', 'Monte Patria', 'Zhangye', \"Ust'-Kulom\", 'Inongo', 'Nizhniy Kuranakh', 'Makakilo City', 'Turukhansk', 'Matara', 'Javānrūd', 'Naze', 'Tanabe', 'Le Port', 'Beloha', 'Praia da Vitória', 'Mitry-Mory', 'Nikki', 'Portland', 'La Ronge', 'Kiryat Gat', 'Morón', 'Mongo', 'Katangli', 'Aleksandrov Gay', 'Maceió', 'High Level', 'Wajima', 'Vestmanna', 'Soria', 'San Luis', 'Cam Ranh', 'San Policarpo', 'Bammatyurt', 'Antofagasta', 'Cayenne', 'Baruun-Urt', 'Diu', 'Imbituba', 'Shenzhen', 'Keuruu', 'Chlórakas', 'Innisfail', 'Oneonta', 'Bella Union', 'Yarmouth', 'Auki', 'Collie', 'Dhidhdhoo', 'Bridgeport', 'Katsuura', 'Shibetsu', 'Sinnamary', 'Dinghaicun', 'Kolokani', 'Lima', 'Asău', 'Bunia', 'Tonj', 'Grootfontein', 'Halifax', 'General Roca', 'Ust-Tsilma', 'Chifeng', 'Sawtell', 'Ous', 'Tsiroanomandidy', 'Halmaj', 'Goderich', 'Genteng', 'Caravelas', 'Stulovo', 'Araouane', 'Soyo', 'Port Keats', 'Tres Picos', 'Penzance', 'Puerto Escondido', 'Pangody', 'Qui Nhon', 'Umaria', 'Atambua', 'Marzuq', 'Ayr', 'Celestún', 'Fallon', 'Ketchikan', 'Maningrida', 'Ossora', 'Kathmandu', 'Manavālakurichi', 'Lufilufi', 'Labuhan', 'Noumea', 'Port Shepstone', 'Santa Helena de Goiás', 'Alice Springs', 'Gafanha da Nazaré', 'Bayjī', 'Prainha', 'Sharjah city', 'Lockhart', 'Verāval', 'Yen Bai', 'Ciudad Bolivar', 'Vardø', 'Çine', 'Sisimiut', 'Fairlie', 'Isfahan', \"Arman'\", 'Christchurch', 'Gangāpur', 'Talnakh', 'Kasiri', 'Urengoy', 'Terrace']\n"
     ]
    }
   ],
   "source": [
    "#Check to make sure names were appended\n",
    "print(city_name)"
   ]
  },
  {
   "cell_type": "code",
   "execution_count": 5,
   "metadata": {
    "scrolled": true
   },
   "outputs": [
    {
     "name": "stdout",
     "output_type": "stream",
     "text": [
      "[1607199915, 1607199915, 1607199915, 1607199915, 1607199915, 1607199772, 1607199916, 1607199916, 1607199916, 1607199632, 1607199916, 1607199916, 1607199916, 1607199916, 1607199916, 1607199738, 1607199916, 1607199916, 1607199916, 1607199623, 1607199916, 1607199916, 1607199916, 1607199839, 1607199917, 1607199917, 1607199917, 1607199917, 1607199917, 1607199917, 1607199917, 1607199917, 1607199831, 1607199679, 1607199917, 1607199917, 1607199917, 1607199917, 1607199917, 1607199917, 1607199918, 1607199918, 1607199918, 1607199918, 1607199918, 1607199918, 1607199918, 1607199640, 1607199901, 1607199918, 1607199918, 1607199918, 1607199918, 1607199918, 1607199918, 1607199918, 1607199919, 1607199833, 1607199919, 1607199919, 1607199919, 1607199919, 1607199919, 1607199919, 1607199919, 1607199919, 1607199919, 1607199919, 1607199919, 1607199919, 1607199919, 1607199920, 1607199920, 1607199920, 1607199920, 1607199920, 1607199920, 1607199920, 1607199847, 1607199920, 1607199920, 1607199920, 1607199787, 1607199861, 1607199920, 1607199920, 1607199920, 1607199920, 1607199920, 1607199774, 1607199921, 1607199921, 1607199921, 1607199921, 1607199560, 1607199719, 1607199921, 1607199921, 1607199921, 1607199921, 1607199921, 1607199921, 1607199921, 1607199921, 1607199922, 1607199922, 1607199639, 1607199922, 1607199922, 1607199922, 1607199922, 1607199922, 1607199922, 1607199922, 1607199922, 1607199650, 1607199922, 1607199922, 1607199922, 1607199922, 1607199922, 1607199923, 1607199923, 1607199923, 1607199923, 1607199923, 1607199923, 1607199923, 1607199923, 1607199923, 1607199923, 1607199874, 1607199923, 1607199632, 1607199924, 1607199765, 1607199924, 1607199924, 1607199924, 1607199924, 1607199924, 1607199924, 1607199924, 1607199924, 1607199924, 1607199924, 1607199924, 1607199924, 1607199925, 1607199925, 1607199925, 1607199925, 1607199925, 1607199925, 1607199925, 1607199925, 1607199925, 1607199925, 1607199925, 1607199925, 1607199672, 1607199925, 1607199925, 1607199925, 1607199925, 1607199925, 1607199926, 1607199926, 1607199926, 1607199926, 1607199926, 1607199926, 1607199926, 1607199926, 1607199926, 1607199926, 1607199926, 1607199926, 1607199926, 1607199926, 1607199884, 1607199927, 1607199778, 1607199927, 1607199927, 1607199927, 1607199927, 1607199927, 1607199927, 1607199927, 1607199927, 1607199927, 1607199927, 1607199927, 1607199928, 1607199928, 1607199928, 1607199928, 1607199928, 1607199928, 1607199928, 1607199928, 1607199883, 1607199928, 1607199928, 1607199928, 1607199928, 1607199928, 1607199929, 1607199929, 1607199929, 1607199929, 1607199929, 1607199644, 1607199929, 1607199929, 1607199929, 1607199929, 1607199929, 1607199929, 1607199929, 1607199929, 1607199929, 1607199930, 1607199906, 1607199930, 1607199930, 1607199923, 1607199930, 1607199781, 1607199930, 1607199930, 1607199930, 1607199930, 1607199930, 1607199930, 1607199775, 1607199930, 1607199931, 1607199931, 1607199931, 1607199931, 1607199931, 1607199931, 1607199931, 1607199931, 1607199931, 1607199687, 1607199931, 1607199931, 1607199932, 1607199932, 1607199932, 1607199932, 1607199932, 1607199932, 1607199932, 1607199932, 1607199704, 1607199932, 1607199932, 1607199932, 1607199932, 1607199932, 1607199933, 1607199933, 1607199891, 1607199933, 1607199680, 1607199933, 1607199933, 1607199933, 1607199933, 1607199933, 1607199933, 1607199933, 1607199934, 1607199934, 1607199934, 1607199934, 1607199934, 1607199934, 1607199934, 1607199934, 1607199934, 1607199934, 1607199934, 1607199934, 1607199934, 1607199934, 1607199656, 1607199935, 1607199935, 1607199935, 1607199935, 1607199935, 1607199935, 1607199935, 1607199935, 1607199935, 1607199935, 1607199935, 1607199935, 1607199935, 1607199935, 1607199935, 1607199936, 1607199936, 1607199936, 1607199936, 1607199936, 1607199936, 1607199936, 1607199936, 1607199936, 1607199936, 1607199936, 1607199722, 1607199936, 1607199741, 1607199715, 1607199937, 1607199937, 1607199937, 1607199937, 1607199937, 1607199937, 1607199937, 1607199937, 1607199742, 1607199937, 1607199937, 1607199937, 1607199937, 1607199937, 1607199937, 1607199938, 1607199938, 1607199717, 1607199938, 1607199938, 1607199938, 1607199938, 1607199938, 1607199764, 1607199938, 1607199923, 1607199938, 1607199939, 1607199939, 1607199939, 1607199939, 1607199939, 1607199939, 1607199939, 1607199939, 1607199939, 1607199939, 1607199939, 1607199939, 1607199939, 1607199940, 1607199940, 1607199940, 1607199940, 1607199940, 1607199940, 1607199940, 1607199808, 1607199940, 1607199681, 1607199940, 1607199746, 1607199940, 1607199941, 1607199941, 1607199941, 1607199941, 1607199823, 1607199941, 1607199941, 1607199941, 1607199941, 1607199941, 1607199841, 1607199885, 1607199941, 1607199941, 1607199941, 1607199942, 1607199942, 1607199942, 1607199942, 1607199942, 1607199942, 1607199942, 1607199658, 1607199942, 1607199942, 1607199942, 1607199942, 1607199942, 1607199942, 1607199942, 1607199733, 1607199943, 1607199943, 1607199693, 1607199943, 1607199943, 1607199943, 1607199943, 1607199943, 1607199943, 1607199761, 1607199943, 1607199943, 1607199943, 1607199943, 1607199943, 1607199943, 1607199944, 1607199944, 1607199701, 1607199944, 1607199944, 1607199944, 1607199944, 1607199944, 1607199944, 1607199944, 1607199944, 1607199944, 1607199944, 1607199944, 1607199864, 1607199945, 1607199812, 1607199945, 1607199945, 1607199945, 1607199945, 1607199945, 1607199945, 1607199945, 1607199945, 1607199945, 1607199945, 1607199945, 1607199945, 1607199946, 1607199946, 1607199946, 1607199946, 1607199946, 1607199946, 1607199946, 1607199946, 1607199946, 1607199946, 1607199946, 1607199946, 1607199946, 1607199947, 1607199651, 1607199947, 1607199947, 1607199947, 1607199947, 1607199947, 1607199947, 1607199947, 1607199947, 1607199947, 1607199947, 1607199895, 1607199673, 1607199948, 1607199948, 1607199948, 1607199888, 1607199948, 1607199948, 1607199948, 1607199948, 1607199938, 1607199948, 1607199948, 1607199948, 1607199948, 1607199948, 1607199949, 1607199949, 1607199949, 1607199949, 1607199714, 1607199949, 1607199949, 1607199949, 1607199949, 1607199847, 1607199344, 1607199949, 1607199914, 1607199949, 1607199949, 1607199771, 1607199950, 1607199950, 1607199950, 1607199950, 1607199950, 1607199950, 1607199950, 1607199950, 1607199950, 1607199950, 1607199950, 1607199950, 1607199950, 1607199950, 1607199951, 1607199951, 1607199794, 1607199951, 1607199951, 1607199951, 1607199951, 1607199951, 1607199829, 1607199951, 1607199765, 1607199951, 1607199951, 1607199952, 1607199764, 1607199952, 1607199952, 1607199952, 1607199952, 1607199952, 1607199952, 1607199952, 1607199952, 1607199952, 1607199952, 1607199743, 1607199952, 1607199953, 1607199953, 1607199953, 1607199953, 1607199953, 1607199953, 1607199953, 1607199686, 1607199953, 1607199953, 1607199953, 1607199953, 1607199954, 1607199797, 1607199760]\n"
     ]
    }
   ],
   "source": [
    "#Check to make sure dates were appended since last list\n",
    "print(date)"
   ]
  },
  {
   "cell_type": "code",
   "execution_count": 6,
   "metadata": {
    "scrolled": true
   },
   "outputs": [
    {
     "name": "stdout",
     "output_type": "stream",
     "text": [
      "{'coord': {'lon': -128.6, 'lat': 54.52}, 'weather': [{'id': 500, 'main': 'Rain', 'description': 'light rain', 'icon': '10d'}, {'id': 701, 'main': 'Mist', 'description': 'mist', 'icon': '50d'}], 'base': 'stations', 'main': {'temp': 281.15, 'feels_like': 278.27, 'temp_min': 281.15, 'temp_max': 281.15, 'pressure': 1007, 'humidity': 93}, 'visibility': 9656, 'wind': {'speed': 3.1, 'deg': 140}, 'rain': {'1h': 0.92}, 'clouds': {'all': 90}, 'dt': 1607199760, 'sys': {'type': 1, 'id': 984, 'country': 'CA', 'sunrise': 1607186390, 'sunset': 1607213469}, 'timezone': -28800, 'id': 6162949, 'name': 'Terrace', 'cod': 200}\n"
     ]
    }
   ],
   "source": [
    "#Check loop response\n",
    "print(loop_response)"
   ]
  },
  {
   "cell_type": "markdown",
   "metadata": {},
   "source": [
    "### Convert Raw Data to DataFrame\n",
    "* Export the city data into a .csv.\n",
    "* Display the DataFrame"
   ]
  },
  {
   "cell_type": "code",
   "execution_count": 7,
   "metadata": {
    "scrolled": true
   },
   "outputs": [
    {
     "data": {
      "text/html": [
       "<div>\n",
       "<style scoped>\n",
       "    .dataframe tbody tr th:only-of-type {\n",
       "        vertical-align: middle;\n",
       "    }\n",
       "\n",
       "    .dataframe tbody tr th {\n",
       "        vertical-align: top;\n",
       "    }\n",
       "\n",
       "    .dataframe thead th {\n",
       "        text-align: right;\n",
       "    }\n",
       "</style>\n",
       "<table border=\"1\" class=\"dataframe\">\n",
       "  <thead>\n",
       "    <tr style=\"text-align: right;\">\n",
       "      <th></th>\n",
       "      <th>City</th>\n",
       "      <th>Lat</th>\n",
       "      <th>Lng</th>\n",
       "      <th>Max Temp</th>\n",
       "      <th>Humidity</th>\n",
       "      <th>Cloudiness</th>\n",
       "      <th>Wind Speed</th>\n",
       "      <th>Country</th>\n",
       "      <th>Date</th>\n",
       "    </tr>\n",
       "  </thead>\n",
       "  <tbody>\n",
       "    <tr>\n",
       "      <th>0</th>\n",
       "      <td>Eydhafushi</td>\n",
       "      <td>5.10</td>\n",
       "      <td>73.07</td>\n",
       "      <td>301.24</td>\n",
       "      <td>77</td>\n",
       "      <td>100</td>\n",
       "      <td>5.43</td>\n",
       "      <td>MV</td>\n",
       "      <td>1607199915</td>\n",
       "    </tr>\n",
       "    <tr>\n",
       "      <th>1</th>\n",
       "      <td>Tomatlán</td>\n",
       "      <td>19.93</td>\n",
       "      <td>-105.25</td>\n",
       "      <td>303.54</td>\n",
       "      <td>49</td>\n",
       "      <td>86</td>\n",
       "      <td>2.69</td>\n",
       "      <td>MX</td>\n",
       "      <td>1607199915</td>\n",
       "    </tr>\n",
       "    <tr>\n",
       "      <th>2</th>\n",
       "      <td>Olafsvik</td>\n",
       "      <td>64.89</td>\n",
       "      <td>-23.71</td>\n",
       "      <td>268.60</td>\n",
       "      <td>88</td>\n",
       "      <td>60</td>\n",
       "      <td>3.23</td>\n",
       "      <td>IS</td>\n",
       "      <td>1607199915</td>\n",
       "    </tr>\n",
       "    <tr>\n",
       "      <th>3</th>\n",
       "      <td>Poum</td>\n",
       "      <td>-20.23</td>\n",
       "      <td>164.02</td>\n",
       "      <td>298.11</td>\n",
       "      <td>77</td>\n",
       "      <td>0</td>\n",
       "      <td>4.57</td>\n",
       "      <td>NC</td>\n",
       "      <td>1607199915</td>\n",
       "    </tr>\n",
       "    <tr>\n",
       "      <th>4</th>\n",
       "      <td>Kushima</td>\n",
       "      <td>31.46</td>\n",
       "      <td>131.23</td>\n",
       "      <td>284.15</td>\n",
       "      <td>82</td>\n",
       "      <td>58</td>\n",
       "      <td>1.70</td>\n",
       "      <td>JP</td>\n",
       "      <td>1607199915</td>\n",
       "    </tr>\n",
       "  </tbody>\n",
       "</table>\n",
       "</div>"
      ],
      "text/plain": [
       "         City    Lat     Lng  Max Temp  Humidity  Cloudiness  Wind Speed  \\\n",
       "0  Eydhafushi   5.10   73.07    301.24        77         100        5.43   \n",
       "1    Tomatlán  19.93 -105.25    303.54        49          86        2.69   \n",
       "2    Olafsvik  64.89  -23.71    268.60        88          60        3.23   \n",
       "3        Poum -20.23  164.02    298.11        77           0        4.57   \n",
       "4     Kushima  31.46  131.23    284.15        82          58        1.70   \n",
       "\n",
       "  Country        Date  \n",
       "0      MV  1607199915  \n",
       "1      MX  1607199915  \n",
       "2      IS  1607199915  \n",
       "3      NC  1607199915  \n",
       "4      JP  1607199915  "
      ]
     },
     "execution_count": 7,
     "metadata": {},
     "output_type": "execute_result"
    }
   ],
   "source": [
    "city_dict = {\n",
    "    \"City\": city_name,\n",
    "    \"Lat\": lat,\n",
    "    \"Lng\": lng,\n",
    "    \"Max Temp\": max_temp,\n",
    "    \"Humidity\": humidity,\n",
    "    \"Cloudiness\": cloudiness,\n",
    "    \"Wind Speed\": wind_speed,\n",
    "    \"Country\": country,\n",
    "    \"Date\": date\n",
    "    \n",
    "}\n",
    "weather_df = pd.DataFrame(city_dict)\n",
    "weather_df.to_csv(r\"C:\\Users\\yenia\\Desktop\\JHU_Bootcamp\\Homework\\Whats-The-Weather-Like\\WeatherPy\\Data\\cities.csv\", index = False)\n",
    "weather_df.head()"
   ]
  },
  {
   "cell_type": "code",
   "execution_count": 8,
   "metadata": {},
   "outputs": [
    {
     "data": {
      "text/html": [
       "<div>\n",
       "<style scoped>\n",
       "    .dataframe tbody tr th:only-of-type {\n",
       "        vertical-align: middle;\n",
       "    }\n",
       "\n",
       "    .dataframe tbody tr th {\n",
       "        vertical-align: top;\n",
       "    }\n",
       "\n",
       "    .dataframe thead th {\n",
       "        text-align: right;\n",
       "    }\n",
       "</style>\n",
       "<table border=\"1\" class=\"dataframe\">\n",
       "  <thead>\n",
       "    <tr style=\"text-align: right;\">\n",
       "      <th></th>\n",
       "      <th>Lat</th>\n",
       "      <th>Lng</th>\n",
       "      <th>Max Temp</th>\n",
       "      <th>Humidity</th>\n",
       "      <th>Cloudiness</th>\n",
       "      <th>Wind Speed</th>\n",
       "      <th>Date</th>\n",
       "    </tr>\n",
       "  </thead>\n",
       "  <tbody>\n",
       "    <tr>\n",
       "      <th>count</th>\n",
       "      <td>563.000000</td>\n",
       "      <td>563.000000</td>\n",
       "      <td>563.000000</td>\n",
       "      <td>563.000000</td>\n",
       "      <td>563.000000</td>\n",
       "      <td>563.000000</td>\n",
       "      <td>5.630000e+02</td>\n",
       "    </tr>\n",
       "    <tr>\n",
       "      <th>mean</th>\n",
       "      <td>19.883268</td>\n",
       "      <td>21.554689</td>\n",
       "      <td>285.095329</td>\n",
       "      <td>73.550622</td>\n",
       "      <td>51.761989</td>\n",
       "      <td>3.686057</td>\n",
       "      <td>1.607200e+09</td>\n",
       "    </tr>\n",
       "    <tr>\n",
       "      <th>std</th>\n",
       "      <td>33.360395</td>\n",
       "      <td>90.527664</td>\n",
       "      <td>15.166026</td>\n",
       "      <td>19.879499</td>\n",
       "      <td>40.052326</td>\n",
       "      <td>2.458310</td>\n",
       "      <td>6.947316e+01</td>\n",
       "    </tr>\n",
       "    <tr>\n",
       "      <th>min</th>\n",
       "      <td>-54.800000</td>\n",
       "      <td>-175.200000</td>\n",
       "      <td>238.840000</td>\n",
       "      <td>7.000000</td>\n",
       "      <td>0.000000</td>\n",
       "      <td>0.090000</td>\n",
       "      <td>1.607199e+09</td>\n",
       "    </tr>\n",
       "    <tr>\n",
       "      <th>25%</th>\n",
       "      <td>-7.990000</td>\n",
       "      <td>-55.565000</td>\n",
       "      <td>274.820000</td>\n",
       "      <td>66.000000</td>\n",
       "      <td>4.000000</td>\n",
       "      <td>1.790000</td>\n",
       "      <td>1.607200e+09</td>\n",
       "    </tr>\n",
       "    <tr>\n",
       "      <th>50%</th>\n",
       "      <td>24.340000</td>\n",
       "      <td>24.730000</td>\n",
       "      <td>289.150000</td>\n",
       "      <td>78.000000</td>\n",
       "      <td>53.000000</td>\n",
       "      <td>3.230000</td>\n",
       "      <td>1.607200e+09</td>\n",
       "    </tr>\n",
       "    <tr>\n",
       "      <th>75%</th>\n",
       "      <td>47.215000</td>\n",
       "      <td>102.570000</td>\n",
       "      <td>298.150000</td>\n",
       "      <td>88.000000</td>\n",
       "      <td>91.000000</td>\n",
       "      <td>5.000000</td>\n",
       "      <td>1.607200e+09</td>\n",
       "    </tr>\n",
       "    <tr>\n",
       "      <th>max</th>\n",
       "      <td>78.220000</td>\n",
       "      <td>179.320000</td>\n",
       "      <td>307.150000</td>\n",
       "      <td>100.000000</td>\n",
       "      <td>100.000000</td>\n",
       "      <td>16.500000</td>\n",
       "      <td>1.607200e+09</td>\n",
       "    </tr>\n",
       "  </tbody>\n",
       "</table>\n",
       "</div>"
      ],
      "text/plain": [
       "              Lat         Lng    Max Temp    Humidity  Cloudiness  Wind Speed  \\\n",
       "count  563.000000  563.000000  563.000000  563.000000  563.000000  563.000000   \n",
       "mean    19.883268   21.554689  285.095329   73.550622   51.761989    3.686057   \n",
       "std     33.360395   90.527664   15.166026   19.879499   40.052326    2.458310   \n",
       "min    -54.800000 -175.200000  238.840000    7.000000    0.000000    0.090000   \n",
       "25%     -7.990000  -55.565000  274.820000   66.000000    4.000000    1.790000   \n",
       "50%     24.340000   24.730000  289.150000   78.000000   53.000000    3.230000   \n",
       "75%     47.215000  102.570000  298.150000   88.000000   91.000000    5.000000   \n",
       "max     78.220000  179.320000  307.150000  100.000000  100.000000   16.500000   \n",
       "\n",
       "               Date  \n",
       "count  5.630000e+02  \n",
       "mean   1.607200e+09  \n",
       "std    6.947316e+01  \n",
       "min    1.607199e+09  \n",
       "25%    1.607200e+09  \n",
       "50%    1.607200e+09  \n",
       "75%    1.607200e+09  \n",
       "max    1.607200e+09  "
      ]
     },
     "execution_count": 8,
     "metadata": {},
     "output_type": "execute_result"
    }
   ],
   "source": [
    "weather_df.describe()"
   ]
  },
  {
   "cell_type": "code",
   "execution_count": 9,
   "metadata": {},
   "outputs": [
    {
     "data": {
      "text/plain": [
       "563"
      ]
     },
     "execution_count": 9,
     "metadata": {},
     "output_type": "execute_result"
    }
   ],
   "source": [
    "len(weather_df)"
   ]
  },
  {
   "cell_type": "markdown",
   "metadata": {},
   "source": [
    "## Inspect the data and remove the cities where the humidity > 100%.\n",
    "----\n",
    "Skip this step if there are no cities that have humidity > 100%. "
   ]
  },
  {
   "cell_type": "markdown",
   "metadata": {},
   "source": [
    "Skipping step since max humidity = 100 (commented out process I would take if I did have humidity >100, using drop method)"
   ]
  },
  {
   "cell_type": "code",
   "execution_count": 10,
   "metadata": {},
   "outputs": [
    {
     "data": {
      "text/html": [
       "<div>\n",
       "<style scoped>\n",
       "    .dataframe tbody tr th:only-of-type {\n",
       "        vertical-align: middle;\n",
       "    }\n",
       "\n",
       "    .dataframe tbody tr th {\n",
       "        vertical-align: top;\n",
       "    }\n",
       "\n",
       "    .dataframe thead th {\n",
       "        text-align: right;\n",
       "    }\n",
       "</style>\n",
       "<table border=\"1\" class=\"dataframe\">\n",
       "  <thead>\n",
       "    <tr style=\"text-align: right;\">\n",
       "      <th></th>\n",
       "      <th>City</th>\n",
       "      <th>Lat</th>\n",
       "      <th>Lng</th>\n",
       "      <th>Max Temp</th>\n",
       "      <th>Humidity</th>\n",
       "      <th>Cloudiness</th>\n",
       "      <th>Wind Speed</th>\n",
       "      <th>Country</th>\n",
       "      <th>Date</th>\n",
       "    </tr>\n",
       "  </thead>\n",
       "  <tbody>\n",
       "  </tbody>\n",
       "</table>\n",
       "</div>"
      ],
      "text/plain": [
       "Empty DataFrame\n",
       "Columns: [City, Lat, Lng, Max Temp, Humidity, Cloudiness, Wind Speed, Country, Date]\n",
       "Index: []"
      ]
     },
     "execution_count": 10,
     "metadata": {},
     "output_type": "execute_result"
    }
   ],
   "source": [
    "#  Get the indices of cities that have humidity over 100%.\n",
    "#high_humidity = weather_df.loc[weather_df[\"Humidity\"] > 100]\n",
    "#high_humidity"
   ]
  },
  {
   "cell_type": "code",
   "execution_count": 11,
   "metadata": {
    "scrolled": true
   },
   "outputs": [],
   "source": [
    "# Make a new DataFrame equal to the city data to drop all humidity outliers by index.\n",
    "# Passing \"inplace=False\" will make a copy of the city_data DataFrame, which we call \"clean_city_data\".\n",
    "#clean_city_data = weather_df.drop(index = , inplace =False)\n",
    "#clean_city_data"
   ]
  },
  {
   "cell_type": "code",
   "execution_count": 12,
   "metadata": {
    "scrolled": true
   },
   "outputs": [
    {
     "data": {
      "text/html": [
       "<div>\n",
       "<style scoped>\n",
       "    .dataframe tbody tr th:only-of-type {\n",
       "        vertical-align: middle;\n",
       "    }\n",
       "\n",
       "    .dataframe tbody tr th {\n",
       "        vertical-align: top;\n",
       "    }\n",
       "\n",
       "    .dataframe thead th {\n",
       "        text-align: right;\n",
       "    }\n",
       "</style>\n",
       "<table border=\"1\" class=\"dataframe\">\n",
       "  <thead>\n",
       "    <tr style=\"text-align: right;\">\n",
       "      <th></th>\n",
       "      <th>City</th>\n",
       "      <th>Lat</th>\n",
       "      <th>Lng</th>\n",
       "      <th>Max Temp</th>\n",
       "      <th>Humidity</th>\n",
       "      <th>Cloudiness</th>\n",
       "      <th>Wind Speed</th>\n",
       "      <th>Country</th>\n",
       "      <th>Date</th>\n",
       "    </tr>\n",
       "  </thead>\n",
       "  <tbody>\n",
       "    <tr>\n",
       "      <th>0</th>\n",
       "      <td>Eydhafushi</td>\n",
       "      <td>5.10</td>\n",
       "      <td>73.07</td>\n",
       "      <td>301.24</td>\n",
       "      <td>77</td>\n",
       "      <td>100</td>\n",
       "      <td>5.43</td>\n",
       "      <td>MV</td>\n",
       "      <td>1607199915</td>\n",
       "    </tr>\n",
       "    <tr>\n",
       "      <th>1</th>\n",
       "      <td>Tomatlán</td>\n",
       "      <td>19.93</td>\n",
       "      <td>-105.25</td>\n",
       "      <td>303.54</td>\n",
       "      <td>49</td>\n",
       "      <td>86</td>\n",
       "      <td>2.69</td>\n",
       "      <td>MX</td>\n",
       "      <td>1607199915</td>\n",
       "    </tr>\n",
       "    <tr>\n",
       "      <th>2</th>\n",
       "      <td>Olafsvik</td>\n",
       "      <td>64.89</td>\n",
       "      <td>-23.71</td>\n",
       "      <td>268.60</td>\n",
       "      <td>88</td>\n",
       "      <td>60</td>\n",
       "      <td>3.23</td>\n",
       "      <td>IS</td>\n",
       "      <td>1607199915</td>\n",
       "    </tr>\n",
       "    <tr>\n",
       "      <th>3</th>\n",
       "      <td>Poum</td>\n",
       "      <td>-20.23</td>\n",
       "      <td>164.02</td>\n",
       "      <td>298.11</td>\n",
       "      <td>77</td>\n",
       "      <td>0</td>\n",
       "      <td>4.57</td>\n",
       "      <td>NC</td>\n",
       "      <td>1607199915</td>\n",
       "    </tr>\n",
       "    <tr>\n",
       "      <th>4</th>\n",
       "      <td>Kushima</td>\n",
       "      <td>31.46</td>\n",
       "      <td>131.23</td>\n",
       "      <td>284.15</td>\n",
       "      <td>82</td>\n",
       "      <td>58</td>\n",
       "      <td>1.70</td>\n",
       "      <td>JP</td>\n",
       "      <td>1607199915</td>\n",
       "    </tr>\n",
       "    <tr>\n",
       "      <th>...</th>\n",
       "      <td>...</td>\n",
       "      <td>...</td>\n",
       "      <td>...</td>\n",
       "      <td>...</td>\n",
       "      <td>...</td>\n",
       "      <td>...</td>\n",
       "      <td>...</td>\n",
       "      <td>...</td>\n",
       "      <td>...</td>\n",
       "    </tr>\n",
       "    <tr>\n",
       "      <th>558</th>\n",
       "      <td>Gangāpur</td>\n",
       "      <td>26.48</td>\n",
       "      <td>76.72</td>\n",
       "      <td>290.98</td>\n",
       "      <td>36</td>\n",
       "      <td>0</td>\n",
       "      <td>1.89</td>\n",
       "      <td>IN</td>\n",
       "      <td>1607199953</td>\n",
       "    </tr>\n",
       "    <tr>\n",
       "      <th>559</th>\n",
       "      <td>Talnakh</td>\n",
       "      <td>69.49</td>\n",
       "      <td>88.40</td>\n",
       "      <td>264.15</td>\n",
       "      <td>92</td>\n",
       "      <td>75</td>\n",
       "      <td>7.00</td>\n",
       "      <td>RU</td>\n",
       "      <td>1607199953</td>\n",
       "    </tr>\n",
       "    <tr>\n",
       "      <th>560</th>\n",
       "      <td>Kasiri</td>\n",
       "      <td>8.94</td>\n",
       "      <td>-13.11</td>\n",
       "      <td>301.15</td>\n",
       "      <td>74</td>\n",
       "      <td>75</td>\n",
       "      <td>4.10</td>\n",
       "      <td>SL</td>\n",
       "      <td>1607199954</td>\n",
       "    </tr>\n",
       "    <tr>\n",
       "      <th>561</th>\n",
       "      <td>Urengoy</td>\n",
       "      <td>65.97</td>\n",
       "      <td>78.37</td>\n",
       "      <td>260.69</td>\n",
       "      <td>95</td>\n",
       "      <td>97</td>\n",
       "      <td>5.58</td>\n",
       "      <td>RU</td>\n",
       "      <td>1607199797</td>\n",
       "    </tr>\n",
       "    <tr>\n",
       "      <th>562</th>\n",
       "      <td>Terrace</td>\n",
       "      <td>54.52</td>\n",
       "      <td>-128.60</td>\n",
       "      <td>281.15</td>\n",
       "      <td>93</td>\n",
       "      <td>90</td>\n",
       "      <td>3.10</td>\n",
       "      <td>CA</td>\n",
       "      <td>1607199760</td>\n",
       "    </tr>\n",
       "  </tbody>\n",
       "</table>\n",
       "<p>563 rows × 9 columns</p>\n",
       "</div>"
      ],
      "text/plain": [
       "           City    Lat     Lng  Max Temp  Humidity  Cloudiness  Wind Speed  \\\n",
       "0    Eydhafushi   5.10   73.07    301.24        77         100        5.43   \n",
       "1      Tomatlán  19.93 -105.25    303.54        49          86        2.69   \n",
       "2      Olafsvik  64.89  -23.71    268.60        88          60        3.23   \n",
       "3          Poum -20.23  164.02    298.11        77           0        4.57   \n",
       "4       Kushima  31.46  131.23    284.15        82          58        1.70   \n",
       "..          ...    ...     ...       ...       ...         ...         ...   \n",
       "558    Gangāpur  26.48   76.72    290.98        36           0        1.89   \n",
       "559     Talnakh  69.49   88.40    264.15        92          75        7.00   \n",
       "560      Kasiri   8.94  -13.11    301.15        74          75        4.10   \n",
       "561     Urengoy  65.97   78.37    260.69        95          97        5.58   \n",
       "562     Terrace  54.52 -128.60    281.15        93          90        3.10   \n",
       "\n",
       "    Country        Date  \n",
       "0        MV  1607199915  \n",
       "1        MX  1607199915  \n",
       "2        IS  1607199915  \n",
       "3        NC  1607199915  \n",
       "4        JP  1607199915  \n",
       "..      ...         ...  \n",
       "558      IN  1607199953  \n",
       "559      RU  1607199953  \n",
       "560      SL  1607199954  \n",
       "561      RU  1607199797  \n",
       "562      CA  1607199760  \n",
       "\n",
       "[563 rows x 9 columns]"
      ]
     },
     "execution_count": 12,
     "metadata": {},
     "output_type": "execute_result"
    }
   ],
   "source": [
    "#Creating clean city data using loc to make sure\n",
    "under_100 = weather_df.loc[weather_df[\"Humidity\"]<= 100]\n",
    "clean_city_data = under_100\n",
    "clean_city_data"
   ]
  },
  {
   "cell_type": "markdown",
   "metadata": {},
   "source": [
    "## Plotting the Data\n",
    "* Use proper labeling of the plots using plot titles (including date of analysis) and axes labels.\n",
    "* Save the plotted figures as .pngs."
   ]
  },
  {
   "cell_type": "markdown",
   "metadata": {},
   "source": [
    "## Latitude vs. Temperature Plot"
   ]
  },
  {
   "cell_type": "code",
   "execution_count": 13,
   "metadata": {
    "scrolled": true
   },
   "outputs": [
    {
     "data": {
      "image/png": "[encoded data removed]",
      "text/plain": [
       "<Figure size 432x288 with 1 Axes>"
      ]
     },
     "metadata": {
      "needs_background": "light"
     },
     "output_type": "display_data"
    }
   ],
   "source": [
    "latitude = clean_city_data[\"Lat\"]\n",
    "max_temp = clean_city_data[\"Max Temp\"]\n",
    "curr_date = dt.datetime.today().strftime(\"%m/%d/%Y\")\n",
    "plt.scatter(latitude, max_temp, edgecolors = \"black\")\n",
    "plt.xlabel(\"Latitude\")\n",
    "plt.ylabel(\"Max Temperature (F)\")\n",
    "plt.title(f\"City Latitude vs. Max Temperature {curr_date}\")\n",
    "plt.grid(True)\n",
    "plt.savefig(\"City Latidude vs Max Temperature.png\")\n",
    "plt.show()"
   ]
  },
  {
   "cell_type": "markdown",
   "metadata": {},
   "source": [
    "## Latitude vs. Humidity Plot"
   ]
  },
  {
   "cell_type": "code",
   "execution_count": 14,
   "metadata": {
    "scrolled": true
   },
   "outputs": [
    {
     "data": {
      "image/png": "[encoded data removed]",
      "text/plain": [
       "<Figure size 432x288 with 1 Axes>"
      ]
     },
     "metadata": {
      "needs_background": "light"
     },
     "output_type": "display_data"
    }
   ],
   "source": [
    "latitude = clean_city_data[\"Lat\"]\n",
    "humidity = clean_city_data[\"Humidity\"]\n",
    "curr_date = dt.datetime.today().strftime(\"%m/%d/%Y\")\n",
    "plt.scatter(latitude, humidity, edgecolors = \"black\")\n",
    "plt.xlabel(\"Latitude\")\n",
    "plt.ylabel(\"Humidity (%)\")\n",
    "plt.title(f\"City Latitude vs. Humidity {curr_date}\")\n",
    "plt.grid(True)\n",
    "plt.savefig(\"City Latidude vs. Humidity.png\")\n",
    "plt.show()"
   ]
  },
  {
   "cell_type": "code",
   "execution_count": 15,
   "metadata": {},
   "outputs": [],
   "source": [
    "#Describe results"
   ]
  },
  {
   "cell_type": "markdown",
   "metadata": {},
   "source": [
    "## Latitude vs. Cloudiness Plot"
   ]
  },
  {
   "cell_type": "code",
   "execution_count": 16,
   "metadata": {},
   "outputs": [
    {
     "data": {
      "image/png": "[encoded data removed]",
      "text/plain": [
       "<Figure size 432x288 with 1 Axes>"
      ]
     },
     "metadata": {
      "needs_background": "light"
     },
     "output_type": "display_data"
    }
   ],
   "source": [
    "latitude = clean_city_data[\"Lat\"]\n",
    "cloudiness = clean_city_data[\"Cloudiness\"]\n",
    "curr_date = dt.datetime.today().strftime(\"%m/%d/%Y\")\n",
    "plt.scatter(latitude, cloudiness, edgecolors = \"black\")\n",
    "plt.xlabel(\"Latitude\")\n",
    "plt.ylabel(\"Cloudiness (%)\")\n",
    "plt.title(f\"City Latitude vs. Cloudiness ({curr_date}\")\n",
    "plt.grid(True)\n",
    "plt.savefig(\"City Latidude vs. Cloudiness.png\")\n",
    "plt.show()"
   ]
  },
  {
   "cell_type": "code",
   "execution_count": 17,
   "metadata": {},
   "outputs": [],
   "source": [
    "#Describe results"
   ]
  },
  {
   "cell_type": "markdown",
   "metadata": {},
   "source": [
    "## Latitude vs. Wind Speed Plot"
   ]
  },
  {
   "cell_type": "code",
   "execution_count": 37,
   "metadata": {},
   "outputs": [
    {
     "data": {
      "image/png": "[encoded data removed]",
      "text/plain": [
       "<Figure size 432x288 with 1 Axes>"
      ]
     },
     "metadata": {
      "needs_background": "light"
     },
     "output_type": "display_data"
    }
   ],
   "source": [
    "latitude = clean_city_data[\"Lat\"]\n",
    "winds = clean_city_data[\"Wind Speed\"]\n",
    "curr_date = dt.datetime.today().strftime(\"%m/%d/%Y\")\n",
    "plt.scatter(latitude, winds, edgecolors = \"black\")\n",
    "plt.xlabel(\"Latitude\")\n",
    "plt.ylabel(\"Wind Speed (mph)\")\n",
    "plt.title(f\"City Latitude vs. Wind Speed {curr_date}\")\n",
    "plt.grid(True)\n",
    "plt.savefig(\"City Latidude vs. Wind Speed.png\")\n",
    "plt.show()"
   ]
  },
  {
   "cell_type": "code",
   "execution_count": 19,
   "metadata": {},
   "outputs": [],
   "source": [
    "#Describe results"
   ]
  },
  {
   "cell_type": "markdown",
   "metadata": {},
   "source": [
    "## Linear Regression"
   ]
  },
  {
   "cell_type": "code",
   "execution_count": 20,
   "metadata": {},
   "outputs": [],
   "source": [
    "#Use loc to get data for each hemisphere\n",
    "southern_hemisphere = clean_city_data.loc[clean_city_data[\"Lat\"] < 0]\n",
    "northern_hemisphere = clean_city_data.loc[clean_city_data[\"Lat\"] >= 0]"
   ]
  },
  {
   "cell_type": "markdown",
   "metadata": {},
   "source": [
    "####  Northern Hemisphere - Max Temp vs. Latitude Linear Regression"
   ]
  },
  {
   "cell_type": "code",
   "execution_count": 33,
   "metadata": {},
   "outputs": [
    {
     "name": "stdout",
     "output_type": "stream",
     "text": [
      "The r-value is: 0.7458910657364413\n"
     ]
    },
    {
     "data": {
      "image/png": "[encoded data removed]",
      "text/plain": [
       "<Figure size 432x288 with 1 Axes>"
      ]
     },
     "metadata": {
      "needs_background": "light"
     },
     "output_type": "display_data"
    }
   ],
   "source": [
    "north_lat = northern_hemisphere[\"Lat\"]\n",
    "north_max_temp =northern_hemisphere[\"Max Temp\"]\n",
    "plt.scatter(north_lat, north_max_temp)\n",
    "plt.ylabel(\"Max Temperature (F)\")\n",
    "plt.xlabel(\"Latitude\")\n",
    "plt.title(\"Northen Hemisphere: Max Temp vs. Latitude\")\n",
    "\n",
    "# Perform a linear regression on max temp vs. latitude\n",
    "(slope, intercept, rvalue, pvalue, stderr) = stats.linregress(north_lat, north_max_temp)\n",
    "fit = slope * north_lat + intercept\n",
    "# Create line equation string\n",
    "line_eq = \"y = \" + str(round(slope,2)) + \"x +\" + str(round(intercept,2))\n",
    "#Put the line of best fit over the scatter plot and add the equation\n",
    "plt.plot(north_lat, fit,\"r-\", color = \"red\")\n",
    "plt.annotate(line_eq,(0,250), fontsize = 15, color = \"red\")\n",
    "plt.savefig(\"Northen Hemisphere-Max Temp vs. Latitude.png\")\n",
    "print(f\"The r-value is: {rvalue**2}\")\n",
    "#plt.show()"
   ]
  },
  {
   "cell_type": "code",
   "execution_count": null,
   "metadata": {},
   "outputs": [],
   "source": [
    "# Describe Results"
   ]
  },
  {
   "cell_type": "markdown",
   "metadata": {},
   "source": [
    "####  Southern Hemisphere - Max Temp vs. Latitude Linear Regression"
   ]
  },
  {
   "cell_type": "code",
   "execution_count": 34,
   "metadata": {},
   "outputs": [
    {
     "name": "stdout",
     "output_type": "stream",
     "text": [
      "The r-value is: 0.3919672336032769\n"
     ]
    },
    {
     "data": {
      "image/png": "[encoded data removed]",
      "text/plain": [
       "<Figure size 432x288 with 1 Axes>"
      ]
     },
     "metadata": {
      "needs_background": "light"
     },
     "output_type": "display_data"
    }
   ],
   "source": [
    "south_lat = southern_hemisphere[\"Lat\"]\n",
    "south_max_temp = southern_hemisphere[\"Max Temp\"]\n",
    "plt.scatter(south_lat, south_max_temp)\n",
    "plt.ylabel(\"Max Temperature (F)\")\n",
    "plt.xlabel(\"Latitude\")\n",
    "plt.title(\"Southern Hemisphere: Max Temp vs. Latitude\")\n",
    "# Perform a linear regression on max temp vs. latitude\n",
    "(slope, intercept, rvalue, pvalue, stderr) = stats.linregress(south_lat, south_max_temp)\n",
    "fit = slope * south_lat + intercept\n",
    "# Create line equation string\n",
    "line_eq = \"y = \" + str(round(slope,2)) + \"x +\" + str(round(intercept,2))\n",
    "#Put the line of best fit over the scatter plot and add the equation\n",
    "plt.plot(south_lat, fit,\"r-\", color = \"red\")\n",
    "plt.annotate(line_eq,(-30,285), fontsize = 15, color = \"red\")\n",
    "plt.savefig(\"Southern Hemisphere-Max Temp vs. Latitude.png\")\n",
    "print(f\"The r-value is: {rvalue**2}\")\n",
    "#plt.show()"
   ]
  },
  {
   "cell_type": "code",
   "execution_count": null,
   "metadata": {},
   "outputs": [],
   "source": [
    "#Describe results"
   ]
  },
  {
   "cell_type": "markdown",
   "metadata": {},
   "source": [
    "####  Northern Hemisphere - Humidity (%) vs. Latitude Linear Regression"
   ]
  },
  {
   "cell_type": "code",
   "execution_count": 28,
   "metadata": {
    "scrolled": true
   },
   "outputs": [
    {
     "name": "stdout",
     "output_type": "stream",
     "text": [
      "The r-value is: 0.13792617348573988\n"
     ]
    },
    {
     "data": {
      "image/png": "[encoded data removed]",
      "text/plain": [
       "<Figure size 432x288 with 1 Axes>"
      ]
     },
     "metadata": {
      "needs_background": "light"
     },
     "output_type": "display_data"
    }
   ],
   "source": [
    "north_lat = northern_hemisphere[\"Lat\"]\n",
    "north_humidity =northern_hemisphere[\"Humidity\"]\n",
    "plt.scatter(north_lat,north_humidity)\n",
    "plt.ylabel(\"Humidity (%)\")\n",
    "plt.xlabel(\"Latitude\")\n",
    "plt.title(\"Northern Hemisphere: Humidity vs. Latitude\")\n",
    "\n",
    "# Perform a linear regression on humidity vs. latitude\n",
    "(slope, intercept, rvalue, pvalue, stderr) = stats.linregress(north_lat, north_humidity)\n",
    "fit = slope * north_lat + intercept\n",
    "# Create line equation string\n",
    "line_eq = \"y = \" + str(round(slope,2)) + \"x +\" + str(round(intercept,2))\n",
    "#Put the line of best fit over the scatter plot and add the equation\n",
    "plt.plot(north_lat, fit,\"r-\", color = \"red\")\n",
    "plt.annotate(line_eq, (45,40), fontsize = 15, color = \"red\")\n",
    "plt.savefig(\"Northern Hemisphere-Humidity vs. Latitude.png\")\n",
    "print(f\"The r-value is: {rvalue**2}\")\n",
    "#plt.show()"
   ]
  },
  {
   "cell_type": "code",
   "execution_count": null,
   "metadata": {},
   "outputs": [],
   "source": [
    "#Describe the results"
   ]
  },
  {
   "cell_type": "markdown",
   "metadata": {},
   "source": [
    "####  Southern Hemisphere - Humidity (%) vs. Latitude Linear Regression"
   ]
  },
  {
   "cell_type": "code",
   "execution_count": 32,
   "metadata": {},
   "outputs": [
    {
     "name": "stdout",
     "output_type": "stream",
     "text": [
      "The r-value is: 0.13140722162665686\n"
     ]
    },
    {
     "data": {
      "image/png": "[encoded data removed]",
      "text/plain": [
       "<Figure size 432x288 with 1 Axes>"
      ]
     },
     "metadata": {
      "needs_background": "light"
     },
     "output_type": "display_data"
    }
   ],
   "source": [
    "south_lat = southern_hemisphere[\"Lat\"]\n",
    "south_humidity = southern_hemisphere[\"Humidity\"]\n",
    "plt.scatter(south_lat,south_humidity)\n",
    "plt.ylabel(\"Humidity (%)\")\n",
    "plt.xlabel(\"Latitude\")\n",
    "plt.title(\"Southern Hemisphere: Humidity vs. Latitude\")\n",
    "\n",
    "# Perform a linear regression on humidity vs. latitude\n",
    "(slope, intercept, rvalue, pvalue, stderr) = stats.linregress(south_lat, south_humidity)\n",
    "fit = slope * south_lat + intercept\n",
    "# Create line equation string\n",
    "line_eq = \"y = \" + str(round(slope,2)) + \"x +\" + str(round(intercept,2))\n",
    "#Put the line of best fit over the scatter plot and add the equation\n",
    "plt.plot(south_lat, fit,\"r-\", color = \"red\")\n",
    "plt.annotate(line_eq, (45,40), fontsize = 15, color = \"red\")\n",
    "plt.savefig(\"Southern Hemisphere-Humidity vs. Latitude.png\")\n",
    "print(f\"The r-value is: {rvalue**2}\")\n",
    "#plt.show()"
   ]
  },
  {
   "cell_type": "code",
   "execution_count": null,
   "metadata": {},
   "outputs": [],
   "source": [
    "#Describe the results"
   ]
  },
  {
   "cell_type": "markdown",
   "metadata": {},
   "source": [
    "####  Northern Hemisphere - Cloudiness (%) vs. Latitude Linear Regression"
   ]
  },
  {
   "cell_type": "code",
   "execution_count": 36,
   "metadata": {},
   "outputs": [
    {
     "name": "stdout",
     "output_type": "stream",
     "text": [
      "The r-value is: 0.03629088113578431\n"
     ]
    },
    {
     "data": {
      "image/png": "[encoded data removed]",
      "text/plain": [
       "<Figure size 432x288 with 1 Axes>"
      ]
     },
     "metadata": {
      "needs_background": "light"
     },
     "output_type": "display_data"
    }
   ],
   "source": [
    "north_lat = northern_hemisphere[\"Lat\"]\n",
    "north_cloudiness =northern_hemisphere[\"Cloudiness\"]\n",
    "plt.scatter(north_lat,north_cloudiness)\n",
    "plt.ylabel(\"Cloudiness (%)\")\n",
    "plt.xlabel(\"Latitude\")\n",
    "plt.title(\"Northern Hemisphere: Cloudiness vs. Latitude\")\n",
    "\n",
    "# Perform a linear regression on humidity vs. latitude\n",
    "(slope, intercept, rvalue, pvalue, stderr) = stats.linregress(north_lat, north_cloudiness)\n",
    "fit = slope * north_lat + intercept\n",
    "# Create line equation string\n",
    "line_eq = \"y = \" + str(round(slope,2)) + \"x +\" + str(round(intercept,2))\n",
    "#Put the line of best fit over the scatter plot and add the equation\n",
    "plt.plot(north_lat, fit,\"r-\", color = \"red\")\n",
    "plt.annotate(line_eq, (50,50), fontsize = 15, color = \"red\")\n",
    "plt.savefig(\"Northern Hemisphere-Cloudiness vs. Latitude.png\")\n",
    "print(f\"The r-value is: {rvalue**2}\")\n",
    "#plt.show()"
   ]
  },
  {
   "cell_type": "code",
   "execution_count": null,
   "metadata": {},
   "outputs": [],
   "source": [
    "# Describe the results"
   ]
  },
  {
   "cell_type": "markdown",
   "metadata": {},
   "source": [
    "####  Southern Hemisphere - Cloudiness (%) vs. Latitude Linear Regression"
   ]
  },
  {
   "cell_type": "code",
   "execution_count": null,
   "metadata": {},
   "outputs": [],
   "source": []
  },
  {
   "cell_type": "code",
   "execution_count": null,
   "metadata": {},
   "outputs": [],
   "source": [
    "# Describe the results"
   ]
  },
  {
   "cell_type": "markdown",
   "metadata": {},
   "source": [
    "####  Northern Hemisphere - Wind Speed (mph) vs. Latitude Linear Regression"
   ]
  },
  {
   "cell_type": "code",
   "execution_count": 39,
   "metadata": {},
   "outputs": [
    {
     "name": "stdout",
     "output_type": "stream",
     "text": [
      "The r-value is: 0.03318921489183277\n"
     ]
    },
    {
     "data": {
      "image/png": "[encoded data removed]",
      "text/plain": [
       "<Figure size 432x288 with 1 Axes>"
      ]
     },
     "metadata": {
      "needs_background": "light"
     },
     "output_type": "display_data"
    }
   ],
   "source": [
    "north_lat = northern_hemisphere[\"Lat\"]\n",
    "north_winds =northern_hemisphere[\"Wind Speed\"]\n",
    "plt.scatter(north_lat,north_winds)\n",
    "plt.ylabel(\"Wind Speed (mph)\")\n",
    "plt.xlabel(\"Latitude\")\n",
    "plt.title(\"Northern Hemisphere: Wind Speed vs. Latitude\")\n",
    "\n",
    "# Perform a linear regression on humidity vs. latitude\n",
    "(slope, intercept, rvalue, pvalue, stderr) = stats.linregress(north_lat, north_winds)\n",
    "fit = slope * north_lat + intercept\n",
    "# Create line equation string\n",
    "line_eq = \"y = \" + str(round(slope,2)) + \"x +\" + str(round(intercept,2))\n",
    "#Put the line of best fit over the scatter plot and add the equation\n",
    "plt.plot(north_lat, fit,\"r-\", color = \"red\")\n",
    "plt.annotate(line_eq, (40,15), fontsize = 15, color = \"red\")\n",
    "plt.savefig(\"Northern Hemisphere-Wind Speed vs. Latitude.png\")\n",
    "print(f\"The r-value is: {rvalue**2}\")\n",
    "#plt.show()"
   ]
  },
  {
   "cell_type": "code",
   "execution_count": null,
   "metadata": {},
   "outputs": [],
   "source": [
    "# Describe the results"
   ]
  },
  {
   "cell_type": "markdown",
   "metadata": {},
   "source": [
    "####  Southern Hemisphere - Wind Speed (mph) vs. Latitude Linear Regression"
   ]
  },
  {
   "cell_type": "code",
   "execution_count": null,
   "metadata": {},
   "outputs": [],
   "source": []
  },
  {
   "cell_type": "code",
   "execution_count": null,
   "metadata": {},
   "outputs": [],
   "source": [
    "# Describe the results"
   ]
  }
 ],
 "metadata": {
  "anaconda-cloud": {},
  "kernel_info": {
   "name": "python3"
  },
  "kernelspec": {
   "display_name": "Python 3",
   "language": "python",
   "name": "python3"
  },
  "language_info": {
   "codemirror_mode": {
    "name": "ipython",
    "version": 3
   },
   "file_extension": ".py",
   "mimetype": "text/x-python",
   "name": "python",
   "nbconvert_exporter": "python",
   "pygments_lexer": "ipython3",
   "version": "3.8.3"
  },
  "latex_envs": {
   "LaTeX_envs_menu_present": true,
   "autoclose": false,
   "autocomplete": true,
   "bibliofile": "biblio.bib",
   "cite_by": "apalike",
   "current_citInitial": 1,
   "eqLabelWithNumbers": true,
   "eqNumInitial": 1,
   "hotkeys": {
    "equation": "Ctrl-E",
    "itemize": "Ctrl-I"
   },
   "labels_anchors": false,
   "latex_user_defs": false,
   "report_style_numbering": false,
   "user_envs_cfg": false
  },
  "nteract": {
   "version": "0.12.3"
  }
 },
 "nbformat": 4,
 "nbformat_minor": 2
}
