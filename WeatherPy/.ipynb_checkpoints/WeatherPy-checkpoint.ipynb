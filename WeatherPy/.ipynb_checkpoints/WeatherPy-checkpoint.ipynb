{
 "cells": [
  {
   "cell_type": "markdown",
   "metadata": {},
   "source": [
    "# WeatherPy\n",
    "----\n",
    "\n",
    "#### Note\n",
    "* Instructions have been included for each segment. You do not have to follow them exactly, but they are included to help you think through the steps."
   ]
  },
  {
   "cell_type": "code",
   "execution_count": 1,
   "metadata": {
    "scrolled": true
   },
   "outputs": [],
   "source": [
    "# Dependencies and Setup\n",
    "import matplotlib.pyplot as plt\n",
    "import pandas as pd\n",
    "import numpy as np\n",
    "import requests\n",
    "import time\n",
    "import scipy.stats as stats\n",
    "import datetime as dt\n",
    "from scipy.stats import linregress\n",
    "import json\n",
    "from ratelimit import limits\n",
    "# Import API key\n",
    "#from config import api_key\n",
    "api_key = \"68570b2e45994fbbe1122e369e6ab7ee\"\n",
    "# Incorporated citipy to determine city based on latitude and longitude\n",
    "from citipy import citipy\n",
    "\n",
    "# Output File (CSV)\n",
    "\n",
    "output_data_file = (r\"C:\\Users\\yenia\\Desktop\\JHU_Bootcamp\\Homework\\Whats-The-Weather-Like\\WeatherPy\\Data\\cities.csv\")\n",
    "# Range of latitudes and longitudes\n",
    "lat_range = (-90, 90)\n",
    "lng_range = (-180, 180)\n",
    "\n",
    "\n",
    "#limit calls per minute\n",
    "url = \"http://api.openweathermap.org/data/2.5/weather?units=Imperial&APPID=\"\n",
    "one_minute = 60\n",
    "\n",
    "@limits(calls=60, period=one_minute)\n",
    "def call_api(url):\n",
    "    response = requests.get(query_url)\n",
    "\n",
    "    if response.status_code != 200:\n",
    "        raise Exception('API response: {}'.format(response.status_code))\n",
    "    return response"
   ]
  },
  {
   "cell_type": "markdown",
   "metadata": {},
   "source": [
    "## Generate Cities List"
   ]
  },
  {
   "cell_type": "code",
   "execution_count": 2,
   "metadata": {},
   "outputs": [
    {
     "data": {
      "text/plain": [
       "626"
      ]
     },
     "execution_count": 2,
     "metadata": {},
     "output_type": "execute_result"
    }
   ],
   "source": [
    "# List for holding lat_lngs and cities\n",
    "lat_lngs = []\n",
    "cities = []\n",
    "\n",
    "# Create a set of random lat and lng combinations\n",
    "lats = np.random.uniform(lat_range[0], lat_range[1], size=1500)\n",
    "lngs = np.random.uniform(lng_range[0], lng_range[1], size=1500)\n",
    "lat_lngs = zip(lats, lngs)\n",
    "\n",
    "# Identify nearest city for each lat, lng combination\n",
    "for lat_lng in lat_lngs:\n",
    "    city = citipy.nearest_city(lat_lng[0], lat_lng[1]).city_name\n",
    "    \n",
    "    # If the city is unique, then add it to a our cities list\n",
    "    if city not in cities:\n",
    "        cities.append(city)\n",
    "\n",
    "# Print the city count to confirm sufficient count\n",
    "len(cities)"
   ]
  },
  {
   "cell_type": "code",
   "execution_count": null,
   "metadata": {},
   "outputs": [],
   "source": []
  },
  {
   "cell_type": "markdown",
   "metadata": {},
   "source": [
    "### Perform API Calls\n",
    "* Perform a weather check on each city using a series of successive API calls.\n",
    "* Include a print log of each city as it'sbeing processed (with the city number and city name).\n"
   ]
  },
  {
   "cell_type": "code",
   "execution_count": 3,
   "metadata": {},
   "outputs": [
    {
     "name": "stdout",
     "output_type": "stream",
     "text": [
      "{\n",
      "    \"coord\": {\n",
      "        \"lon\": -95.36,\n",
      "        \"lat\": 29.76\n",
      "    },\n",
      "    \"weather\": [\n",
      "        {\n",
      "            \"id\": 800,\n",
      "            \"main\": \"Clear\",\n",
      "            \"description\": \"clear sky\",\n",
      "            \"icon\": \"01d\"\n",
      "        }\n",
      "    ],\n",
      "    \"base\": \"stations\",\n",
      "    \"main\": {\n",
      "        \"temp\": 62.83,\n",
      "        \"feels_like\": 54.3,\n",
      "        \"temp_min\": 60.8,\n",
      "        \"temp_max\": 64,\n",
      "        \"pressure\": 1017,\n",
      "        \"humidity\": 44\n",
      "    },\n",
      "    \"visibility\": 10000,\n",
      "    \"wind\": {\n",
      "        \"speed\": 11.41,\n",
      "        \"deg\": 290,\n",
      "        \"gust\": 19.46\n",
      "    },\n",
      "    \"clouds\": {\n",
      "        \"all\": 1\n",
      "    },\n",
      "    \"dt\": 1607283920,\n",
      "    \"sys\": {\n",
      "        \"type\": 1,\n",
      "        \"id\": 4850,\n",
      "        \"country\": \"US\",\n",
      "        \"sunrise\": 1607259819,\n",
      "        \"sunset\": 1607296929\n",
      "    },\n",
      "    \"timezone\": -21600,\n",
      "    \"id\": 4699066,\n",
      "    \"name\": \"Houston\",\n",
      "    \"cod\": 200\n",
      "}\n",
      "{'coord': {'lon': -95.36, 'lat': 29.76}, 'weather': [{'id': 800, 'main': 'Clear', 'description': 'clear sky', 'icon': '01d'}], 'base': 'stations', 'main': {'temp': 62.83, 'feels_like': 54.3, 'temp_min': 60.8, 'temp_max': 64, 'pressure': 1017, 'humidity': 44}, 'visibility': 10000, 'wind': {'speed': 11.41, 'deg': 290, 'gust': 19.46}, 'clouds': {'all': 1}, 'dt': 1607283920, 'sys': {'type': 1, 'id': 4850, 'country': 'US', 'sunrise': 1607259819, 'sunset': 1607296929}, 'timezone': -21600, 'id': 4699066, 'name': 'Houston', 'cod': 200}\n",
      "4699066 Houston\n"
     ]
    }
   ],
   "source": [
    "#Exploratory test \n",
    "test =  [\"Houston\"]\n",
    "results = []\n",
    "for city in test:\n",
    "    query_url = f\"{url}{api_key}&q={city}\"\n",
    "    response = requests.get(query_url)\n",
    "    response_json = response.json()\n",
    "print (json.dumps(response_json, indent = 4))   \n",
    "print(response_json)\n",
    "#test retrieval of data using test city\n",
    "weather_id=response_json[\"weather\"][0][\"id\"]\n",
    "city_id = response_json[\"id\"]\n",
    "city_name_test = response_json[\"name\"]\n",
    "print(city_id,city_name_test)"
   ]
  },
  {
   "cell_type": "code",
   "execution_count": 4,
   "metadata": {},
   "outputs": [
    {
     "name": "stdout",
     "output_type": "stream",
     "text": [
      "4032243 Vaini\n",
      "1337607 Kudahuvadhoo\n",
      "2239862 Malanje\n",
      "3874787 Punta Arenas\n",
      "2192362 Christchurch\n",
      "2387546 Bozoum\n",
      "5122534 Jamestown\n",
      "Not found.\n",
      "1735106 George Town\n",
      "3833367 Ushuaia\n",
      "2316259 Bulungu\n",
      "Not found.\n",
      "Not found.\n",
      "4272340 Great Bend\n",
      "2075265 Busselton\n",
      "3366880 Hermanus\n",
      "Not found.\n",
      "3369157 Cape Town\n",
      "1513491 Yangi Marg`ilon\n",
      "3414079 Olafsvik\n",
      "4726521 San Patricio\n",
      "1649150 Bengkulu\n",
      "3388618 São João do Piauí\n",
      "3131824 Vigrestad\n",
      "2110227 Butaritari\n",
      "149027 Uyovu\n",
      "3430863 Mar del Plata\n",
      "3831208 Qaanaaq\n",
      "2618795 Klaksvík\n",
      "964420 Port Elizabeth\n",
      "5289658 Chino Valley\n",
      "1507390 Dikson\n",
      "Not found.\n",
      "3573374 The Valley\n",
      "777019 Vardø\n",
      "2016910 Severobaykal'sk\n",
      "3421765 Nanortalik\n",
      "2012530 Zhigansk\n",
      "1486321 Yar-Sale\n",
      "1213855 Sibolga\n",
      "686090 Asău\n",
      "2120591 Tilichiki\n",
      "Not found.\n",
      "4034551 Faanui\n",
      "1015776 Bredasdorp\n",
      "935215 Saint-Philippe\n",
      "6620339 Karratha\n",
      "3466704 Castro\n",
      "3461733 Guiratinga\n",
      "4676740 Brownsville\n",
      "2092164 Lorengau\n",
      "5106841 Albany\n",
      "1213493 Teluk Nibung\n",
      "Not found.\n",
      "3405792 Benevides\n",
      "6089245 Norman Wells\n",
      "5554428 Ketchikan\n",
      "6201424 Mataura\n",
      "4030556 Rikitea\n",
      "934322 Mahébourg\n",
      "2014624 Udachny\n",
      "2094342 Kavieng\n",
      "1516048 Khovd\n",
      "6185377 Yellowknife\n",
      "Not found.\n",
      "2643123 Manchester\n",
      "1152472 Lampang\n",
      "1244926 Hambantota\n",
      "3402429 Caucaia\n",
      "4035715 Avarua\n",
      "1503037 Kodinsk\n",
      "4193699 Evans\n",
      "2181133 Pareora\n",
      "3698359 Chicama\n",
      "2206939 Bluff\n",
      "3870294 Talca\n",
      "3388456 São José da Coroa Grande\n",
      "2163355 Hobart\n",
      "Not found.\n",
      "257122 Methóni\n",
      "523392 Naryan-Mar\n",
      "528242 Mayskiy\n",
      "3418910 Upernavik\n",
      "6355222 Yulara\n",
      "2109528 Buala\n",
      "3430443 Necochea\n",
      "2022572 Khatanga\n",
      "3652764 Puerto Ayora\n",
      "1058532 Moramanga\n",
      "3421319 Nuuk\n",
      "2400547 Gamba\n",
      "3443061 Chui\n",
      "1519275 Shar\n",
      "153352 Mlowo\n",
      "3402648 Carutapera\n",
      "2025261 Chul'man\n",
      "359792 Aswān\n",
      "1282256 Hithadhoo\n",
      "5848280 Kapaa\n",
      "1006984 East London\n",
      "245669 Adré\n",
      "6165406 Thompson\n",
      "2455456 kimparana\n",
      "1806840 Huilong\n",
      "2155415 New Norfolk\n",
      "5557293 Sitka\n",
      "5866583 Saint Paul Harbor\n",
      "7082481 Khuzdar\n",
      "1061605 Manakara\n",
      "2191562 Dunedin\n",
      "286245 Sur\n",
      "2122090 Pevek\n",
      "2629833 Husavik\n",
      "5855927 Hilo\n",
      "2418092 Lola\n",
      "3883457 Lebu\n",
      "2126199 Cherskiy\n",
      "3894426 Coyhaique\n",
      "3471451 Arraial do Cabo\n",
      "2112309 Katsuura\n",
      "3985710 Cabo San Lucas\n",
      "2017155 Saskylakh\n",
      "3424607 Tasiilaq\n",
      "3454763 Patrocínio\n",
      "5967157 Grimshaw\n",
      "53654 Mogadishu\n",
      "3702577 Portobelo\n",
      "2025256 Chumikan\n",
      "Not found.\n",
      "355449 Esna\n",
      "5983720 Iqaluit\n",
      "Not found.\n",
      "2071860 Esperance\n",
      "2126710 Beringovskiy\n",
      "1259385 Port Blair\n",
      "350203 Rosetta\n",
      "4429197 Harrison\n",
      "2338660 Yaan\n",
      "933995 Souillac\n",
      "1496503 Noyabrsk\n",
      "3533462 Acapulco de Juárez\n",
      "80509 Al Bardīyah\n",
      "2156643 Mount Gambier\n",
      "286621 Salalah\n",
      "5563839 Fortuna\n",
      "1529102 Ürümqi\n",
      "2122614 Okha\n",
      "2258378 Loandjili\n",
      "3893726 Constitución\n",
      "2136825 Isangel\n",
      "Not found.\n",
      "5975004 High Level\n",
      "Not found.\n",
      "1106677 Bambous Virieux\n",
      "1622318 Waingapu\n",
      "Not found.\n",
      "1817968 Anshun\n",
      "2134814 Sola\n",
      "2108502 Honiara\n",
      "1512019 Aksarka\n",
      "2172880 Byron Bay\n",
      "3374210 São Filipe\n",
      "Not found.\n",
      "934479 Grand Gaube\n",
      "3628473 San Cristobal\n",
      "1490796 Strezhevoy\n",
      "140463 Birjand\n",
      "3628503 San Carlos\n",
      "2514651 Los Llanos de Aridane\n",
      "4477525 Lumberton\n",
      "3450083 Santa Maria\n",
      "1490085 Tarko-Sale\n",
      "5880054 Barrow\n",
      "3420846 Qaqortoq\n",
      "Not found.\n",
      "2656173 Bath\n",
      "3472248 Andradina\n",
      "4031574 Provideniya\n",
      "5847411 Kahului\n",
      "3614835 Barra Patuca\n",
      "3932145 Pisco\n",
      "1651810 Airai\n",
      "3869716 Tocopilla\n",
      "107304 Buraidah\n",
      "1803422 Linhai\n",
      "2264557 Ponta do Sol\n",
      "1714201 Dumaguete\n",
      "4360592 Lexington Park\n",
      "Not found.\n",
      "3395458 Maragogi\n",
      "Not found.\n",
      "Not found.\n",
      "2177069 Ballina\n",
      "4033077 Vaitape\n",
      "3372783 Ponta Delgada\n",
      "2450173 Taoudenni\n",
      "Not found.\n",
      "847633 Alta\n",
      "3064145 Toužim\n",
      "1814093 Dali\n",
      "3935102 Mazamari\n",
      "6049403 Langham\n",
      "3374235 Sal Rei\n",
      "3893629 Coquimbo\n",
      "64814 Bandarbeyla\n",
      "7117100 Vila\n",
      "1274553 Chas\n",
      "3372964 Lagoa\n",
      "2152659 Port Macquarie\n",
      "3628423 San Felipe\n",
      "3372472 Vila Franca do Campo\n",
      "3351663 Benguela\n",
      "2127060 Arman'\n",
      "6113406 Prince Rupert\n",
      "Not found.\n",
      "3892454 Diego de Almagro\n",
      "Not found.\n",
      "964432 Port Alfred\n",
      "3428068 San Vicente\n",
      "546105 Nikolskoye\n",
      "608872 Makat\n",
      "2176639 Batemans Bay\n",
      "487928 Novikovo\n",
      "2023943 Gorin\n",
      "5364271 Laguna\n",
      "2027042 Batagay-Alyta\n",
      "2030065 Mandalgovi\n",
      "5972291 Havre-St-Pierre\n",
      "4004293 Ixtapa\n",
      "237379 Ndélé\n",
      "3466980 Caravelas\n",
      "1646448 Cimahi\n",
      "5262680 Merrill\n",
      "2112802 Hasaki\n",
      "468991 Yarega\n",
      "2063036 Port Lincoln\n",
      "3691094 Uchiza\n",
      "2015306 Tiksi\n",
      "2126123 Chokurdakh\n",
      "2015701 Taksimo\n",
      "2032201 Bulgan\n",
      "5954718 Flin Flon\n",
      "3629710 Puerto Ayacucho\n",
      "4021858 Guerrero Negro\n",
      "2026160 Borogontsy\n",
      "2057087 Kupang\n",
      "5856516 ‘Āhuimanu\n",
      "Not found.\n",
      "2015852 Svetlaya\n",
      "2038120 Chaoyang\n",
      "3671519 Puerto Carreño\n",
      "564593 Dubovskoye\n",
      "1277695 Bakewar\n",
      "6137462 Saint-Augustin\n",
      "1529376 Korla\n",
      "5703673 Elko\n",
      "5282297 Bethel\n",
      "3361934 Saldanha\n",
      "1805753 Jinan\n",
      "2963958 Gort\n",
      "2063042 Port Hedland\n",
      "3377301 Mabaruma\n",
      "1270099 Himatnagar\n",
      "516539 Nyuksenitsa\n",
      "3013633 Arrondissement du Havre\n",
      "3356832 Henties Bay\n",
      "376332 Doka\n",
      "1819729 Hong Kong\n",
      "187585 Marsabit\n",
      "3372707 Ribeira Grande\n",
      "688533 Yalta\n",
      "3421193 Paamiut\n",
      "6170031 Tuktoyaktuk\n",
      "3899695 Ancud\n",
      "2159220 Mackay\n",
      "2377457 Nouadhibou\n",
      "1517060 Zaysan\n",
      "2147756 Swan Hill\n",
      "2186111 Ngunguru\n",
      "497242 Semibratovo\n",
      "57000 Hobyo\n",
      "3347019 Mossamedes\n",
      "1718234 Caruray\n",
      "3516171 Barra de Tecoanapa\n",
      "468747 Yashkul'\n",
      "2019135 Nizhniy Kuranakh\n",
      "2063056 Port Augusta\n",
      "3466165 Cidreira\n",
      "1520253 Zharkent\n",
      "3665202 Aripuanã\n",
      "2127202 Anadyr\n",
      "2121385 Severo-Kuril'sk\n",
      "2138522 Poya\n",
      "304183 Muğla Province\n",
      "3576994 Cockburn Town\n",
      "3537840 Santa Cruz del Sur\n",
      "3173615 Melfi\n",
      "1630789 Pontianak\n",
      "3530167 Cosoleacaque\n",
      "5746545 Portland\n",
      "582447 Almaznyy\n",
      "4020109 Atuona\n",
      "Not found.\n",
      "2210554 Sirte\n",
      "4255151 Bud\n",
      "2132606 Samarai\n",
      "1028434 Quelimane\n",
      "4155751 Florida\n",
      "1714733 Dingle\n",
      "3146487 Måløy\n",
      "3386213 Touros\n",
      "2082539 Merauke\n",
      "Not found.\n",
      "371466 Leer\n",
      "3981391 Tomatlán\n",
      "88319 Benghazi\n",
      "3369174 Calvinia\n",
      "2445704 Diffa\n",
      "3115824 Muros\n",
      "6166142 Thunder Bay\n",
      "1852357 Shimoda\n",
      "2025456 Chernyshevskiy\n",
      "3887344 Illapel\n",
      "3372745 Rabo de Peixe\n",
      "5742974 North Bend\n",
      "756046 Węgrów\n",
      "1623197 Tual\n",
      "6096551 Pangnirtung\n",
      "1052944 Angoche\n",
      "2139521 Noumea\n",
      "1529484 Kumul\n",
      "6148373 Sioux Lookout\n",
      "300614 Siverek\n",
      "3393692 Itarema\n",
      "6122707 Rivers\n",
      "2027316 Ayan\n",
      "5380420 Pacifica\n",
      "3988392 Rosarito\n",
      "1801620 Ma’anshan\n",
      "1174653 Kashmor\n",
      "1054035 Vohibinany\n",
      "6149996 Smithers\n",
      "1800065 Nangong\n",
      "6088469 Nipawin\n",
      "1497163 Novoasbest\n",
      "5859699 College\n",
      "3374333 Praia\n",
      "1106643 Quatre Cocos\n",
      "893549 Chipinge\n",
      "326259 Were Īlu\n",
      "2381334 Atar\n",
      "1337619 Ugoofaaru\n",
      "564487 Dubrovka\n",
      "2017378 Rudnogorsk\n",
      "Not found.\n",
      "5018739 Bloomington\n",
      "Not found.\n",
      "3405304 Bom Jesus\n",
      "986717 Kruisfontein\n",
      "178443 Wajir\n",
      "Not found.\n",
      "3146487 Raudeberg\n",
      "2036106 Liaozhong\n",
      "3870282 Talcahuano\n",
      "1214488 Meulaboh\n",
      "5924351 Clyde River\n",
      "3448011 Saquarema\n",
      "3445026 Vila Velha\n",
      "64435 Berbera\n",
      "3412093 Vestmannaeyjar\n",
      "2112444 Kamaishi\n",
      "Not found.\n",
      "3520064 Salina Cruz\n",
      "5688025 Bismarck\n",
      "2123814 Leningradskiy\n",
      "5952370 Fernie\n",
      "2185763 Okato\n",
      "4646571 Oak Ridge\n",
      "Not found.\n",
      "2171099 Codrington\n",
      "2074865 Carnarvon\n",
      "1514792 Gazojak\n",
      "5915327 Cap-aux-Meules\n",
      "186180 Moyale\n",
      "690648 Usatove\n",
      "1634718 Muncar\n",
      "3382226 Camopi\n",
      "3454005 Piaçabuçu\n",
      "4588165 Mt. Pleasant\n",
      "2449893 Tessalit\n",
      "Not found.\n",
      "Not found.\n",
      "3384937 Miracema do Tocantins\n",
      "Not found.\n",
      "1492566 Severo-Yeniseyskiy\n",
      "524681 Mrakovo\n",
      "3393832 Nova Russas\n",
      "2122104 Petropavlovsk-Kamchatskiy\n",
      "Not found.\n",
      "1214026 Sabang\n",
      "463355 Zheleznodorozhnyy\n",
      "2251007 Kaffrine\n",
      "1489853 Tazovsky\n",
      "3382160 Cayenne\n",
      "Not found.\n",
      "5101405 Morris\n",
      "5118743 Gloversville\n",
      "3391889 Pitimbu\n",
      "3685223 Dibulla\n",
      "2453662 Markala\n",
      "360502 Luxor\n",
      "1791779 Wanning\n",
      "2032614 Baruun-Urt\n",
      "2123292 Mgachi\n",
      "2647984 Great Yarmouth\n",
      "3984997 San Quintín\n",
      "1787858 Shangrao\n",
      "6167817 Torbay\n",
      "2729907 Longyearbyen\n",
      "5864145 Homer\n",
      "5546220 Saint George\n",
      "933734 Gweta\n",
      "504187 Puksoozero\n",
      "1056899 Sambava\n",
      "1282635 Tulsīpur\n",
      "118704 Rāvar\n",
      "1627185 Sijunjung\n",
      "2641598 Newport\n",
      "2698729 Kungsbacka\n",
      "3446587 Terra Nova\n",
      "5380437 Pacific Grove\n",
      "Not found.\n",
      "2137773 Vao\n",
      "3423146 Ilulissat\n",
      "Not found.\n",
      "2396518 Port-Gentil\n",
      "945945 Upington\n",
      "3571913 Marsh Harbour\n",
      "1498693 Minusinsk\n",
      "5969025 Haines Junction\n",
      "1850523 Tateyama\n",
      "3902377 La Santisima Trinidad\n",
      "3421719 Narsaq\n",
      "2016307 Solnechnyy\n",
      "3860443 Comodoro Rivadavia\n",
      "4299562 Lyndon\n",
      "2392601 Natitingou\n",
      "3516148 Tecolutla\n",
      "3514675 Villa Guerrero\n",
      "3691954 Sechura\n",
      "2094027 Kieta\n",
      "3493100 San José de Ocoa\n",
      "1254046 Tura\n",
      "3933104 Pangoa\n",
      "229112 Moroto\n",
      "3705562 Los Algarrobos\n",
      "2188164 Lower Hutt\n",
      "3870243 Taltal\n",
      "2055868 Yantal'\n",
      "607610 Zhangaözen\n",
      "3355672 Lüderitz\n",
      "4877138 Spencer\n",
      "2646557 Horsham\n",
      "2171722 Charters Towers\n",
      "4033557 Tautira\n",
      "1726449 Basco\n",
      "482219 Tonshayevo\n",
      "1640972 Katobu\n",
      "Not found.\n",
      "Not found.\n",
      "701802 Markova\n",
      "2070998 Geraldton\n",
      "172515 Abu Samrah\n",
      "3092472 Malbork\n",
      "2962580 Moate\n",
      "1712961 Gigmoto\n",
      "5866063 Kenai\n",
      "2727234 Åkersberga\n",
      "Not found.\n",
      "5637146 Anaconda\n",
      "6162951 Terrace Bay\n",
      "1163054 Turbat\n",
      "5354943 Half Moon Bay\n",
      "5404476 Ukiah\n",
      "2209055 Waddān\n",
      "3359638 Walvis Bay\n"
     ]
    },
    {
     "name": "stdout",
     "output_type": "stream",
     "text": [
      "Not found.\n",
      "1633419 Padang\n",
      "1501377 Kungurtug\n",
      "2077895 Alice Springs\n",
      "1267390 Kavaratti\n",
      "103630 Najrān\n",
      "2738381 Lata\n",
      "4231997 Avera\n",
      "1516589 Zhezkazgan\n",
      "590030 Narva-Jõesuu\n",
      "1528998 Yumen\n",
      "2255564 Ouésso\n",
      "4031637 Lavrentiya\n",
      "Not found.\n",
      "236901 Ouadda\n",
      "2079582 Alyangula\n",
      "522902 Nekhayevskiy\n",
      "2270385 Camacha\n",
      "872144 Sovkhoznyy\n",
      "Not found.\n",
      "3136690 Stokmarknes\n",
      "3444105 San Matías\n",
      "330534 Mīzan Teferī\n",
      "3703647 Pacora\n",
      "778707 Mehamn\n",
      "2028164 Deputatsky\n",
      "Not found.\n",
      "3436674 Yaguarón\n",
      "Not found.\n",
      "3141332 Røros\n",
      "3125287 Cervo\n",
      "1817240 Baiyin\n",
      "4036284 Alofi\n",
      "5762718 Belle Fourche\n",
      "5870133 Nome\n",
      "5367788 Lompoc\n",
      "2065594 Mount Isa\n",
      "1688696 San Policarpo\n",
      "5905393 Bonavista\n",
      "4513583 Hamilton\n",
      "3392251 Pesqueira\n",
      "897045 Solwezi\n",
      "2121025 Srednekolymsk\n",
      "1626542 Sorong\n",
      "2656847 Atherton\n",
      "3354077 Opuwo\n",
      "87205 Darnah\n",
      "2276492 Harper\n",
      "4034496 Fare\n",
      "5528182 Pecos\n",
      "1684803 Tabuk\n",
      "3884373 La Serena\n",
      "2109701 Auki\n",
      "2208248 Kaitangata\n",
      "2654993 Bradford\n",
      "3443631 Bella Union\n",
      "Not found.\n",
      "1180295 Dera Bugti\n",
      "3982837 Sonoita\n",
      "3457772 Marechal Cândido Rondon\n",
      "2036892 Hohhot\n",
      "1264976 Leh\n",
      "Not found.\n",
      "2456917 Goundam\n",
      "1784554 Zhicheng\n",
      "2322794 Suleja\n",
      "1168700 Ormara\n",
      "3416888 Grindavik\n",
      "2013918 Ust-Maya\n",
      "298316 Urla\n",
      "Not found.\n",
      "3939761 Hualmay\n",
      "6180550 Whitehorse\n",
      "2023584 Imeni Poliny Osipenko\n",
      "3421982 Maniitsoq\n",
      "3987500 San Buenaventura\n",
      "695798 Rozsypne\n",
      "1563241 Thanh Pho Uong Bi\n",
      "Not found.\n",
      "935214 Saint-Pierre\n",
      "2742765 Areosa\n",
      "1794209 Simao\n",
      "2542997 Marrakesh\n",
      "3139597 Sistranda\n",
      "3904906 Santa Cruz de la Sierra\n",
      "976361 Middelburg\n",
      "474470 Verkhnyaya Toyma\n",
      "2208425 Zuwārah\n",
      "4152772 Dania Beach\n",
      "1621313 Ambulu\n",
      "3435264 Concepción del Uruguay\n",
      "216404 Gbadolite\n",
      "3673407 Padilla\n",
      "5117949 Freeport\n",
      "5962442 Goderich\n",
      "2255304 Sémbé\n",
      "2392308 Ouidah\n",
      "3381041 Mana\n",
      "5955902 Fort Nelson\n",
      "928534 Kasungu\n",
      "3427761 Tigre\n",
      "Not found.\n",
      "Not found.\n",
      "610298 Beyneu\n",
      "4160795 Key Largo\n",
      "2214432 Nālūt\n",
      "Not found.\n",
      "866062 Iskateley\n",
      "2511930 Requena\n",
      "3448903 São João da Barra\n",
      "1028918 Pemba\n",
      "5244638 Baraboo\n",
      "3521596 Peto\n",
      "2476660 Tigzirt\n",
      "5887916 Athabasca\n",
      "2173125 Burnie\n",
      "2180815 Tuatapere\n",
      "2644210 Liverpool\n",
      "2142316 Yeppoon\n",
      "1337605 Mahibadhoo\n",
      "1633034 Palu\n",
      "2126682 Bilibino\n",
      "3084241 Sulechów\n",
      "3403687 Camocim\n",
      "3156980 Florø\n",
      "77408 Bajil\n",
      "609404 Khromtau\n",
      "Not found.\n",
      "2867127 Nalbach\n",
      "4219762 Rome\n",
      "1165057 Shinpokh\n",
      "1090225 Koungou\n",
      "4891382 Evanston\n",
      "659101 Hanko\n",
      "1651103 Atambua\n",
      "2510485 Tías\n",
      "Not found.\n",
      "2616504 Nexø\n",
      "5110092 Brewster\n",
      "1525798 Balkhash\n"
     ]
    }
   ],
   "source": [
    "\n",
    "#\n",
    "url = \"http://api.openweathermap.org/data/2.5/weather?units=Imperial&APPID=\"\n",
    "city_name = []\n",
    "lat =[]\n",
    "lng = []\n",
    "max_temp = []\n",
    "humidity = []\n",
    "cloudiness = []\n",
    "wind_speed = []\n",
    "country =[]\n",
    "date = []\n",
    "# Loop through each city\n",
    "for city in cities:\n",
    "    query_url = f\"{url}{api_key}&q={city}\"\n",
    "    \n",
    "    try: \n",
    "        loop_response = requests.get(query_url).json()\n",
    "        city_name.append(loop_response[\"name\"])\n",
    "        lat.append(loop_response[\"coord\"][\"lat\"])\n",
    "        lng.append(loop_response[\"coord\"][\"lon\"])\n",
    "        max_temp.append(loop_response[\"main\"][\"temp_max\"])\n",
    "        humidity.append(loop_response[\"main\"][\"humidity\"])\n",
    "        cloudiness.append(loop_response[\"clouds\"][\"all\"])\n",
    "        wind_speed.append(loop_response[\"wind\"][\"speed\"])\n",
    "        country.append(loop_response[\"sys\"][\"country\"])\n",
    "        date.append(loop_response[\"dt\"])                    \n",
    "        print(loop_response[\"id\"],loop_response[\"name\"])\n",
    "    except:\n",
    "        print(\"Not found.\")\n",
    "        pass"
   ]
  },
  {
   "cell_type": "code",
   "execution_count": 5,
   "metadata": {
    "scrolled": false
   },
   "outputs": [
    {
     "name": "stdout",
     "output_type": "stream",
     "text": [
      "['Vaini', 'Kudahuvadhoo', 'Malanje', 'Punta Arenas', 'Christchurch', 'Bozoum', 'Jamestown', 'George Town', 'Ushuaia', 'Bulungu', 'Great Bend', 'Busselton', 'Hermanus', 'Cape Town', 'Yangi Marg`ilon', 'Olafsvik', 'San Patricio', 'Bengkulu', 'São João do Piauí', 'Vigrestad', 'Butaritari', 'Uyovu', 'Mar del Plata', 'Qaanaaq', 'Klaksvík', 'Port Elizabeth', 'Chino Valley', 'Dikson', 'The Valley', 'Vardø', \"Severobaykal'sk\", 'Nanortalik', 'Zhigansk', 'Yar-Sale', 'Sibolga', 'Asău', 'Tilichiki', 'Faanui', 'Bredasdorp', 'Saint-Philippe', 'Karratha', 'Castro', 'Guiratinga', 'Brownsville', 'Lorengau', 'Albany', 'Teluk Nibung', 'Benevides', 'Norman Wells', 'Ketchikan', 'Mataura', 'Rikitea', 'Mahébourg', 'Udachny', 'Kavieng', 'Khovd', 'Yellowknife', 'Manchester', 'Lampang', 'Hambantota', 'Caucaia', 'Avarua', 'Kodinsk', 'Evans', 'Pareora', 'Chicama', 'Bluff', 'Talca', 'São José da Coroa Grande', 'Hobart', 'Methóni', 'Naryan-Mar', 'Mayskiy', 'Upernavik', 'Yulara', 'Buala', 'Necochea', 'Khatanga', 'Puerto Ayora', 'Moramanga', 'Nuuk', 'Gamba', 'Chui', 'Shar', 'Mlowo', 'Carutapera', \"Chul'man\", 'Aswān', 'Hithadhoo', 'Kapaa', 'East London', 'Adré', 'Thompson', 'kimparana', 'Huilong', 'New Norfolk', 'Sitka', 'Saint Paul Harbor', 'Khuzdar', 'Manakara', 'Dunedin', 'Sur', 'Pevek', 'Husavik', 'Hilo', 'Lola', 'Lebu', 'Cherskiy', 'Coyhaique', 'Arraial do Cabo', 'Katsuura', 'Cabo San Lucas', 'Saskylakh', 'Tasiilaq', 'Patrocínio', 'Grimshaw', 'Mogadishu', 'Portobelo', 'Chumikan', 'Esna', 'Iqaluit', 'Esperance', 'Beringovskiy', 'Port Blair', 'Rosetta', 'Harrison', 'Yaan', 'Souillac', 'Noyabrsk', 'Acapulco de Juárez', 'Al Bardīyah', 'Mount Gambier', 'Salalah', 'Fortuna', 'Ürümqi', 'Okha', 'Loandjili', 'Constitución', 'Isangel', 'High Level', 'Bambous Virieux', 'Waingapu', 'Anshun', 'Sola', 'Honiara', 'Aksarka', 'Byron Bay', 'São Filipe', 'Grand Gaube', 'San Cristobal', 'Strezhevoy', 'Birjand', 'San Carlos', 'Los Llanos de Aridane', 'Lumberton', 'Santa Maria', 'Tarko-Sale', 'Barrow', 'Qaqortoq', 'Bath', 'Andradina', 'Provideniya', 'Kahului', 'Barra Patuca', 'Pisco', 'Airai', 'Tocopilla', 'Buraidah', 'Linhai', 'Ponta do Sol', 'Dumaguete', 'Lexington Park', 'Maragogi', 'Ballina', 'Vaitape', 'Ponta Delgada', 'Taoudenni', 'Alta', 'Toužim', 'Dali', 'Mazamari', 'Langham', 'Sal Rei', 'Coquimbo', 'Bandarbeyla', 'Vila', 'Chas', 'Lagoa', 'Port Macquarie', 'San Felipe', 'Vila Franca do Campo', 'Benguela', \"Arman'\", 'Prince Rupert', 'Diego de Almagro', 'Port Alfred', 'San Vicente', 'Nikolskoye', 'Makat', 'Batemans Bay', 'Novikovo', 'Gorin', 'Laguna', 'Batagay-Alyta', 'Mandalgovi', 'Havre-St-Pierre', 'Ixtapa', 'Ndélé', 'Caravelas', 'Cimahi', 'Merrill', 'Hasaki', 'Yarega', 'Port Lincoln', 'Uchiza', 'Tiksi', 'Chokurdakh', 'Taksimo', 'Bulgan', 'Flin Flon', 'Puerto Ayacucho', 'Guerrero Negro', 'Borogontsy', 'Kupang', '‘Āhuimanu', 'Svetlaya', 'Chaoyang', 'Puerto Carreño', 'Dubovskoye', 'Bakewar', 'Saint-Augustin', 'Korla', 'Elko', 'Bethel', 'Saldanha', 'Jinan', 'Gort', 'Port Hedland', 'Mabaruma', 'Himatnagar', 'Nyuksenitsa', 'Arrondissement du Havre', 'Henties Bay', 'Doka', 'Hong Kong', 'Marsabit', 'Ribeira Grande', 'Yalta', 'Paamiut', 'Tuktoyaktuk', 'Ancud', 'Mackay', 'Nouadhibou', 'Zaysan', 'Swan Hill', 'Ngunguru', 'Semibratovo', 'Hobyo', 'Mossamedes', 'Caruray', 'Barra de Tecoanapa', \"Yashkul'\", 'Nizhniy Kuranakh', 'Port Augusta', 'Cidreira', 'Zharkent', 'Aripuanã', 'Anadyr', \"Severo-Kuril'sk\", 'Poya', 'Muğla Province', 'Cockburn Town', 'Santa Cruz del Sur', 'Melfi', 'Pontianak', 'Cosoleacaque', 'Portland', 'Almaznyy', 'Atuona', 'Sirte', 'Bud', 'Samarai', 'Quelimane', 'Florida', 'Dingle', 'Måløy', 'Touros', 'Merauke', 'Leer', 'Tomatlán', 'Benghazi', 'Calvinia', 'Diffa', 'Muros', 'Thunder Bay', 'Shimoda', 'Chernyshevskiy', 'Illapel', 'Rabo de Peixe', 'North Bend', 'Węgrów', 'Tual', 'Pangnirtung', 'Angoche', 'Noumea', 'Kumul', 'Sioux Lookout', 'Siverek', 'Itarema', 'Rivers', 'Ayan', 'Pacifica', 'Rosarito', 'Ma’anshan', 'Kashmor', 'Vohibinany', 'Smithers', 'Nangong', 'Nipawin', 'Novoasbest', 'College', 'Praia', 'Quatre Cocos', 'Chipinge', 'Were Īlu', 'Atar', 'Ugoofaaru', 'Dubrovka', 'Rudnogorsk', 'Bloomington', 'Bom Jesus', 'Kruisfontein', 'Wajir', 'Raudeberg', 'Liaozhong', 'Talcahuano', 'Meulaboh', 'Clyde River', 'Saquarema', 'Vila Velha', 'Berbera', 'Vestmannaeyjar', 'Kamaishi', 'Salina Cruz', 'Bismarck', 'Leningradskiy', 'Fernie', 'Okato', 'Oak Ridge', 'Codrington', 'Carnarvon', 'Gazojak', 'Cap-aux-Meules', 'Moyale', 'Usatove', 'Muncar', 'Camopi', 'Piaçabuçu', 'Mt. Pleasant', 'Tessalit', 'Miracema do Tocantins', 'Severo-Yeniseyskiy', 'Mrakovo', 'Nova Russas', 'Petropavlovsk-Kamchatskiy', 'Sabang', 'Zheleznodorozhnyy', 'Kaffrine', 'Tazovsky', 'Cayenne', 'Morris', 'Gloversville', 'Pitimbu', 'Dibulla', 'Markala', 'Luxor', 'Wanning', 'Baruun-Urt', 'Mgachi', 'Great Yarmouth', 'San Quintín', 'Shangrao', 'Torbay', 'Longyearbyen', 'Homer', 'Saint George', 'Gweta', 'Puksoozero', 'Sambava', 'Tulsīpur', 'Rāvar', 'Sijunjung', 'Newport', 'Kungsbacka', 'Terra Nova', 'Pacific Grove', 'Vao', 'Ilulissat', 'Port-Gentil', 'Upington', 'Marsh Harbour', 'Minusinsk', 'Haines Junction', 'Tateyama', 'La Santisima Trinidad', 'Narsaq', 'Solnechnyy', 'Comodoro Rivadavia', 'Lyndon', 'Natitingou', 'Tecolutla', 'Villa Guerrero', 'Sechura', 'Kieta', 'San José de Ocoa', 'Tura', 'Pangoa', 'Moroto', 'Los Algarrobos', 'Lower Hutt', 'Taltal', \"Yantal'\", 'Zhangaözen', 'Lüderitz', 'Spencer', 'Horsham', 'Charters Towers', 'Tautira', 'Basco', 'Tonshayevo', 'Katobu', 'Markova', 'Geraldton', 'Abu Samrah', 'Malbork', 'Moate', 'Gigmoto', 'Kenai', 'Åkersberga', 'Anaconda', 'Terrace Bay', 'Turbat', 'Half Moon Bay', 'Ukiah', 'Waddān', 'Walvis Bay', 'Padang', 'Kungurtug', 'Alice Springs', 'Kavaratti', 'Najrān', 'Lata', 'Avera', 'Zhezkazgan', 'Narva-Jõesuu', 'Yumen', 'Ouésso', 'Lavrentiya', 'Ouadda', 'Alyangula', 'Nekhayevskiy', 'Camacha', 'Sovkhoznyy', 'Stokmarknes', 'San Matías', 'Mīzan Teferī', 'Pacora', 'Mehamn', 'Deputatsky', 'Yaguarón', 'Røros', 'Cervo', 'Baiyin', 'Alofi', 'Belle Fourche', 'Nome', 'Lompoc', 'Mount Isa', 'San Policarpo', 'Bonavista', 'Hamilton', 'Pesqueira', 'Solwezi', 'Srednekolymsk', 'Sorong', 'Atherton', 'Opuwo', 'Darnah', 'Harper', 'Fare', 'Pecos', 'Tabuk', 'La Serena', 'Auki', 'Kaitangata', 'Bradford', 'Bella Union', 'Dera Bugti', 'Sonoita', 'Marechal Cândido Rondon', 'Hohhot', 'Leh', 'Goundam', 'Zhicheng', 'Suleja', 'Ormara', 'Grindavik', 'Ust-Maya', 'Urla', 'Hualmay', 'Whitehorse', 'Imeni Poliny Osipenko', 'Maniitsoq', 'San Buenaventura', 'Rozsypne', 'Thanh Pho Uong Bi', 'Saint-Pierre', 'Areosa', 'Simao', 'Marrakesh', 'Sistranda', 'Santa Cruz de la Sierra', 'Middelburg', 'Verkhnyaya Toyma', 'Zuwārah', 'Dania Beach', 'Ambulu', 'Concepción del Uruguay', 'Gbadolite', 'Padilla', 'Freeport', 'Goderich', 'Sémbé', 'Ouidah', 'Mana', 'Fort Nelson', 'Kasungu', 'Tigre', 'Beyneu', 'Key Largo', 'Nālūt', 'Iskateley', 'Requena', 'São João da Barra', 'Pemba', 'Baraboo', 'Peto', 'Tigzirt', 'Athabasca', 'Burnie', 'Tuatapere', 'Liverpool', 'Yeppoon', 'Mahibadhoo', 'Palu', 'Bilibino', 'Sulechów', 'Camocim', 'Florø', 'Bajil', 'Khromtau', 'Nalbach', 'Rome', 'Shinpokh', 'Koungou', 'Evanston', 'Hanko', 'Atambua', 'Tías', 'Nexø', 'Brewster', 'Balkhash']\n"
     ]
    }
   ],
   "source": [
    "#Check to make sure names were appended\n",
    "print(city_name)"
   ]
  },
  {
   "cell_type": "code",
   "execution_count": 6,
   "metadata": {
    "scrolled": true
   },
   "outputs": [
    {
     "name": "stdout",
     "output_type": "stream",
     "text": [
      "[1607284012, 1607284012, 1607284012, 1607284012, 1607283830, 1607284012, 1607283991, 1607284012, 1607284012, 1607284012, 1607284013, 1607284013, 1607284013, 1607283816, 1607284013, 1607284013, 1607284013, 1607283734, 1607284013, 1607284013, 1607284013, 1607284013, 1607284013, 1607283893, 1607284013, 1607284014, 1607284014, 1607284014, 1607283958, 1607284014, 1607284014, 1607284014, 1607284014, 1607284014, 1607284014, 1607284014, 1607284014, 1607284014, 1607284014, 1607284014, 1607284014, 1607284015, 1607284015, 1607283733, 1607284015, 1607284015, 1607284015, 1607284015, 1607284015, 1607284015, 1607283785, 1607283782, 1607284015, 1607283992, 1607284015, 1607284015, 1607283791, 1607283798, 1607284016, 1607284016, 1607284016, 1607283726, 1607284016, 1607284016, 1607284016, 1607283910, 1607284016, 1607284016, 1607284016, 1607283903, 1607284016, 1607284016, 1607284016, 1607284016, 1607284016, 1607284016, 1607284017, 1607284017, 1607284017, 1607284017, 1607284017, 1607284017, 1607284017, 1607284017, 1607284017, 1607283957, 1607284017, 1607284017, 1607284017, 1607284017, 1607284018, 1607284018, 1607284018, 1607284018, 1607284018, 1607283784, 1607283794, 1607283842, 1607284018, 1607284018, 1607283832, 1607284018, 1607284018, 1607284018, 1607284018, 1607284018, 1607284018, 1607284018, 1607284018, 1607283792, 1607284019, 1607283917, 1607283791, 1607284019, 1607284019, 1607284019, 1607283944, 1607284019, 1607284019, 1607284019, 1607284019, 1607284019, 1607284019, 1607283921, 1607284020, 1607284020, 1607284020, 1607284020, 1607284020, 1607283842, 1607284020, 1607284020, 1607284020, 1607284020, 1607284020, 1607284020, 1607284020, 1607284020, 1607284021, 1607283726, 1607284021, 1607284021, 1607284021, 1607284021, 1607284021, 1607284021, 1607284021, 1607284021, 1607284022, 1607284022, 1607284022, 1607284022, 1607284022, 1607284022, 1607284022, 1607283966, 1607284022, 1607284022, 1607284022, 1607283868, 1607284022, 1607284022, 1607284022, 1607284022, 1607284022, 1607284023, 1607284023, 1607284023, 1607284023, 1607284023, 1607284023, 1607284023, 1607284023, 1607284023, 1607284023, 1607284023, 1607283958, 1607284024, 1607284024, 1607284024, 1607284024, 1607284024, 1607284024, 1607283897, 1607284024, 1607284024, 1607283857, 1607284024, 1607283795, 1607284024, 1607283974, 1607284024, 1607284024, 1607284024, 1607284024, 1607284025, 1607284025, 1607283794, 1607284025, 1607284025, 1607284025, 1607284025, 1607284025, 1607284025, 1607284025, 1607284025, 1607283979, 1607284025, 1607284025, 1607284025, 1607284025, 1607283879, 1607284025, 1607284026, 1607284026, 1607284026, 1607284026, 1607283741, 1607284026, 1607284026, 1607284026, 1607283991, 1607284026, 1607284026, 1607284026, 1607284026, 1607284026, 1607284026, 1607284026, 1607284026, 1607284027, 1607284027, 1607283904, 1607283784, 1607284027, 1607284027, 1607284027, 1607284027, 1607284027, 1607284027, 1607284027, 1607284027, 1607283789, 1607284027, 1607284027, 1607284027, 1607283791, 1607284027, 1607284027, 1607284028, 1607284028, 1607284028, 1607284028, 1607284028, 1607284028, 1607284028, 1607284028, 1607284028, 1607284028, 1607284028, 1607284028, 1607284028, 1607284028, 1607284028, 1607284028, 1607284028, 1607284028, 1607284028, 1607284029, 1607284029, 1607284029, 1607284029, 1607284029, 1607284029, 1607284029, 1607284029, 1607283933, 1607284029, 1607283790, 1607283889, 1607284029, 1607283949, 1607284029, 1607283846, 1607284029, 1607284029, 1607284029, 1607284030, 1607284030, 1607284030, 1607284030, 1607284030, 1607284030, 1607284030, 1607284030, 1607284030, 1607284030, 1607284030, 1607284030, 1607283757, 1607284030, 1607283979, 1607284030, 1607284030, 1607283837, 1607284030, 1607284031, 1607284031, 1607284031, 1607284031, 1607284031, 1607283841, 1607283857, 1607284031, 1607284031, 1607284031, 1607284031, 1607284031, 1607284031, 1607284031, 1607284031, 1607283978, 1607284031, 1607284031, 1607284031, 1607283962, 1607284032, 1607284032, 1607284032, 1607284032, 1607283971, 1607284032, 1607284032, 1607284032, 1607284032, 1607284032, 1607284032, 1607284032, 1607284032, 1607284033, 1607284033, 1607284033, 1607284033, 1607283966, 1607284033, 1607284033, 1607284033, 1607284033, 1607284033, 1607284033, 1607284033, 1607284033, 1607283786, 1607284033, 1607284033, 1607284033, 1607284034, 1607284034, 1607283783, 1607284034, 1607284034, 1607284034, 1607284034, 1607283997, 1607284034, 1607284034, 1607284034, 1607284034, 1607284034, 1607283960, 1607284035, 1607283737, 1607284035, 1607284035, 1607284035, 1607284010, 1607284035, 1607284035, 1607284035, 1607283907, 1607284035, 1607284035, 1607284035, 1607284035, 1607284035, 1607284035, 1607284035, 1607284035, 1607284035, 1607284035, 1607284036, 1607284036, 1607284036, 1607284036, 1607284036, 1607283988, 1607284036, 1607284036, 1607284036, 1607284036, 1607284036, 1607284036, 1607283788, 1607284036, 1607283920, 1607284036, 1607284036, 1607283998, 1607284037, 1607284037, 1607284037, 1607284037, 1607284037, 1607284037, 1607284037, 1607283796, 1607284037, 1607284037, 1607284037, 1607284037, 1607284037, 1607284037, 1607284037, 1607284037, 1607284037, 1607284038, 1607284038, 1607284038, 1607284038, 1607284038, 1607284038, 1607284038, 1607284038, 1607284038, 1607284038, 1607284038, 1607284038, 1607284038, 1607284038, 1607284038, 1607284039, 1607284039, 1607284039, 1607284039, 1607284039, 1607284039, 1607284039, 1607284039, 1607283756, 1607284039, 1607284039, 1607284039, 1607284039, 1607284039, 1607284039, 1607283987, 1607284040, 1607284040, 1607284040, 1607284040, 1607284040, 1607283926, 1607284040, 1607284040, 1607284040, 1607284040, 1607284040, 1607283938, 1607283966, 1607284040, 1607284040, 1607284041, 1607284041, 1607284041, 1607284002, 1607284041, 1607284041, 1607283810, 1607284041, 1607284041, 1607284040, 1607284041, 1607284041, 1607284041, 1607283893, 1607284041, 1607284041, 1607284041, 1607284041, 1607284041, 1607284042, 1607284042, 1607283897, 1607284042, 1607284042, 1607284042, 1607284042, 1607284042, 1607284042, 1607283813, 1607283785, 1607284042, 1607284042, 1607284042, 1607284042, 1607284042, 1607284042, 1607284043, 1607284043, 1607284043, 1607283905, 1607284043, 1607284043, 1607284043, 1607284043, 1607284043, 1607284043, 1607284043, 1607284043, 1607283985, 1607284043, 1607283904, 1607284043, 1607284043, 1607284044, 1607284044, 1607284044, 1607284044, 1607284044, 1607284044, 1607284044, 1607284044, 1607284044, 1607284044, 1607284044, 1607284044, 1607284044, 1607284044, 1607284044, 1607284044, 1607284045, 1607284003, 1607283789, 1607284045, 1607284045, 1607283862, 1607284045, 1607284045, 1607284045, 1607284045, 1607284045, 1607284045, 1607284045, 1607284045, 1607284045, 1607284045, 1607284045, 1607284045, 1607284045, 1607283801, 1607284046, 1607284046, 1607283954, 1607284046, 1607284046, 1607283846, 1607284046, 1607284046, 1607284046, 1607284046, 1607284046, 1607284046]\n"
     ]
    }
   ],
   "source": [
    "#Check to make sure dates were appended since last list\n",
    "print(date)"
   ]
  },
  {
   "cell_type": "code",
   "execution_count": 7,
   "metadata": {
    "scrolled": true
   },
   "outputs": [
    {
     "name": "stdout",
     "output_type": "stream",
     "text": [
      "{'coord': {'lon': 74.98, 'lat': 46.84}, 'weather': [{'id': 804, 'main': 'Clouds', 'description': 'overcast clouds', 'icon': '04n'}], 'base': 'stations', 'main': {'temp': 12.69, 'feels_like': 0.61, 'temp_min': 12.69, 'temp_max': 12.69, 'pressure': 1035, 'humidity': 92, 'sea_level': 1035, 'grnd_level': 988}, 'visibility': 10000, 'wind': {'speed': 11.27, 'deg': 44}, 'clouds': {'all': 93}, 'dt': 1607284046, 'sys': {'country': 'KZ', 'sunrise': 1607308292, 'sunset': 1607339520}, 'timezone': 21600, 'id': 1525798, 'name': 'Balkhash', 'cod': 200}\n"
     ]
    }
   ],
   "source": [
    "#Check loop response\n",
    "print(loop_response)"
   ]
  },
  {
   "cell_type": "markdown",
   "metadata": {},
   "source": [
    "### Convert Raw Data to DataFrame\n",
    "* Export the city data into a .csv.\n",
    "* Display the DataFrame"
   ]
  },
  {
   "cell_type": "code",
   "execution_count": 8,
   "metadata": {
    "scrolled": true
   },
   "outputs": [
    {
     "data": {
      "text/html": [
       "<div>\n",
       "<style scoped>\n",
       "    .dataframe tbody tr th:only-of-type {\n",
       "        vertical-align: middle;\n",
       "    }\n",
       "\n",
       "    .dataframe tbody tr th {\n",
       "        vertical-align: top;\n",
       "    }\n",
       "\n",
       "    .dataframe thead th {\n",
       "        text-align: right;\n",
       "    }\n",
       "</style>\n",
       "<table border=\"1\" class=\"dataframe\">\n",
       "  <thead>\n",
       "    <tr style=\"text-align: right;\">\n",
       "      <th></th>\n",
       "      <th>City</th>\n",
       "      <th>Lat</th>\n",
       "      <th>Lng</th>\n",
       "      <th>Max Temp</th>\n",
       "      <th>Humidity</th>\n",
       "      <th>Cloudiness</th>\n",
       "      <th>Wind Speed</th>\n",
       "      <th>Country</th>\n",
       "      <th>Date</th>\n",
       "    </tr>\n",
       "  </thead>\n",
       "  <tbody>\n",
       "    <tr>\n",
       "      <th>0</th>\n",
       "      <td>Vaini</td>\n",
       "      <td>-21.20</td>\n",
       "      <td>-175.20</td>\n",
       "      <td>78.80</td>\n",
       "      <td>88</td>\n",
       "      <td>40</td>\n",
       "      <td>9.17</td>\n",
       "      <td>TO</td>\n",
       "      <td>1607284012</td>\n",
       "    </tr>\n",
       "    <tr>\n",
       "      <th>1</th>\n",
       "      <td>Kudahuvadhoo</td>\n",
       "      <td>2.67</td>\n",
       "      <td>72.89</td>\n",
       "      <td>82.51</td>\n",
       "      <td>78</td>\n",
       "      <td>100</td>\n",
       "      <td>14.29</td>\n",
       "      <td>MV</td>\n",
       "      <td>1607284012</td>\n",
       "    </tr>\n",
       "    <tr>\n",
       "      <th>2</th>\n",
       "      <td>Malanje</td>\n",
       "      <td>-9.54</td>\n",
       "      <td>16.34</td>\n",
       "      <td>62.65</td>\n",
       "      <td>95</td>\n",
       "      <td>80</td>\n",
       "      <td>1.57</td>\n",
       "      <td>AO</td>\n",
       "      <td>1607284012</td>\n",
       "    </tr>\n",
       "    <tr>\n",
       "      <th>3</th>\n",
       "      <td>Punta Arenas</td>\n",
       "      <td>-53.15</td>\n",
       "      <td>-70.92</td>\n",
       "      <td>68.00</td>\n",
       "      <td>45</td>\n",
       "      <td>75</td>\n",
       "      <td>26.40</td>\n",
       "      <td>CL</td>\n",
       "      <td>1607284012</td>\n",
       "    </tr>\n",
       "    <tr>\n",
       "      <th>4</th>\n",
       "      <td>Christchurch</td>\n",
       "      <td>-43.53</td>\n",
       "      <td>172.63</td>\n",
       "      <td>69.80</td>\n",
       "      <td>56</td>\n",
       "      <td>97</td>\n",
       "      <td>9.17</td>\n",
       "      <td>NZ</td>\n",
       "      <td>1607283830</td>\n",
       "    </tr>\n",
       "  </tbody>\n",
       "</table>\n",
       "</div>"
      ],
      "text/plain": [
       "           City    Lat     Lng  Max Temp  Humidity  Cloudiness  Wind Speed  \\\n",
       "0         Vaini -21.20 -175.20     78.80        88          40        9.17   \n",
       "1  Kudahuvadhoo   2.67   72.89     82.51        78         100       14.29   \n",
       "2       Malanje  -9.54   16.34     62.65        95          80        1.57   \n",
       "3  Punta Arenas -53.15  -70.92     68.00        45          75       26.40   \n",
       "4  Christchurch -43.53  172.63     69.80        56          97        9.17   \n",
       "\n",
       "  Country        Date  \n",
       "0      TO  1607284012  \n",
       "1      MV  1607284012  \n",
       "2      AO  1607284012  \n",
       "3      CL  1607284012  \n",
       "4      NZ  1607283830  "
      ]
     },
     "execution_count": 8,
     "metadata": {},
     "output_type": "execute_result"
    }
   ],
   "source": [
    "city_dict = {\n",
    "    \"City\": city_name,\n",
    "    \"Lat\": lat,\n",
    "    \"Lng\": lng,\n",
    "    \"Max Temp\": max_temp,\n",
    "    \"Humidity\": humidity,\n",
    "    \"Cloudiness\": cloudiness,\n",
    "    \"Wind Speed\": wind_speed,\n",
    "    \"Country\": country,\n",
    "    \"Date\": date\n",
    "    \n",
    "}\n",
    "weather_df = pd.DataFrame(city_dict)\n",
    "weather_df.to_csv(r\"C:\\Users\\yenia\\Desktop\\JHU_Bootcamp\\Homework\\Whats-The-Weather-Like\\WeatherPy\\Data\\cities.csv\", index = False)\n",
    "weather_df.head()"
   ]
  },
  {
   "cell_type": "code",
   "execution_count": 9,
   "metadata": {},
   "outputs": [
    {
     "data": {
      "text/html": [
       "<div>\n",
       "<style scoped>\n",
       "    .dataframe tbody tr th:only-of-type {\n",
       "        vertical-align: middle;\n",
       "    }\n",
       "\n",
       "    .dataframe tbody tr th {\n",
       "        vertical-align: top;\n",
       "    }\n",
       "\n",
       "    .dataframe thead th {\n",
       "        text-align: right;\n",
       "    }\n",
       "</style>\n",
       "<table border=\"1\" class=\"dataframe\">\n",
       "  <thead>\n",
       "    <tr style=\"text-align: right;\">\n",
       "      <th></th>\n",
       "      <th>Lat</th>\n",
       "      <th>Lng</th>\n",
       "      <th>Max Temp</th>\n",
       "      <th>Humidity</th>\n",
       "      <th>Cloudiness</th>\n",
       "      <th>Wind Speed</th>\n",
       "      <th>Date</th>\n",
       "    </tr>\n",
       "  </thead>\n",
       "  <tbody>\n",
       "    <tr>\n",
       "      <th>count</th>\n",
       "      <td>572.000000</td>\n",
       "      <td>572.000000</td>\n",
       "      <td>572.000000</td>\n",
       "      <td>572.000000</td>\n",
       "      <td>572.000000</td>\n",
       "      <td>572.000000</td>\n",
       "      <td>5.720000e+02</td>\n",
       "    </tr>\n",
       "    <tr>\n",
       "      <th>mean</th>\n",
       "      <td>20.454056</td>\n",
       "      <td>13.835367</td>\n",
       "      <td>53.349178</td>\n",
       "      <td>73.169580</td>\n",
       "      <td>50.118881</td>\n",
       "      <td>8.398549</td>\n",
       "      <td>1.607284e+09</td>\n",
       "    </tr>\n",
       "    <tr>\n",
       "      <th>std</th>\n",
       "      <td>33.219091</td>\n",
       "      <td>90.465657</td>\n",
       "      <td>27.219696</td>\n",
       "      <td>19.856956</td>\n",
       "      <td>41.642838</td>\n",
       "      <td>5.702970</td>\n",
       "      <td>6.612108e+01</td>\n",
       "    </tr>\n",
       "    <tr>\n",
       "      <th>min</th>\n",
       "      <td>-54.800000</td>\n",
       "      <td>-175.200000</td>\n",
       "      <td>-33.860000</td>\n",
       "      <td>9.000000</td>\n",
       "      <td>0.000000</td>\n",
       "      <td>0.450000</td>\n",
       "      <td>1.607284e+09</td>\n",
       "    </tr>\n",
       "    <tr>\n",
       "      <th>25%</th>\n",
       "      <td>-8.545000</td>\n",
       "      <td>-67.530000</td>\n",
       "      <td>33.675000</td>\n",
       "      <td>63.000000</td>\n",
       "      <td>1.000000</td>\n",
       "      <td>4.117500</td>\n",
       "      <td>1.607284e+09</td>\n",
       "    </tr>\n",
       "    <tr>\n",
       "      <th>50%</th>\n",
       "      <td>25.800000</td>\n",
       "      <td>16.485000</td>\n",
       "      <td>60.800000</td>\n",
       "      <td>78.000000</td>\n",
       "      <td>48.500000</td>\n",
       "      <td>7.205000</td>\n",
       "      <td>1.607284e+09</td>\n",
       "    </tr>\n",
       "    <tr>\n",
       "      <th>75%</th>\n",
       "      <td>48.952500</td>\n",
       "      <td>92.822500</td>\n",
       "      <td>77.000000</td>\n",
       "      <td>88.000000</td>\n",
       "      <td>93.250000</td>\n",
       "      <td>11.410000</td>\n",
       "      <td>1.607284e+09</td>\n",
       "    </tr>\n",
       "    <tr>\n",
       "      <th>max</th>\n",
       "      <td>78.220000</td>\n",
       "      <td>179.320000</td>\n",
       "      <td>94.080000</td>\n",
       "      <td>100.000000</td>\n",
       "      <td>100.000000</td>\n",
       "      <td>32.210000</td>\n",
       "      <td>1.607284e+09</td>\n",
       "    </tr>\n",
       "  </tbody>\n",
       "</table>\n",
       "</div>"
      ],
      "text/plain": [
       "              Lat         Lng    Max Temp    Humidity  Cloudiness  Wind Speed  \\\n",
       "count  572.000000  572.000000  572.000000  572.000000  572.000000  572.000000   \n",
       "mean    20.454056   13.835367   53.349178   73.169580   50.118881    8.398549   \n",
       "std     33.219091   90.465657   27.219696   19.856956   41.642838    5.702970   \n",
       "min    -54.800000 -175.200000  -33.860000    9.000000    0.000000    0.450000   \n",
       "25%     -8.545000  -67.530000   33.675000   63.000000    1.000000    4.117500   \n",
       "50%     25.800000   16.485000   60.800000   78.000000   48.500000    7.205000   \n",
       "75%     48.952500   92.822500   77.000000   88.000000   93.250000   11.410000   \n",
       "max     78.220000  179.320000   94.080000  100.000000  100.000000   32.210000   \n",
       "\n",
       "               Date  \n",
       "count  5.720000e+02  \n",
       "mean   1.607284e+09  \n",
       "std    6.612108e+01  \n",
       "min    1.607284e+09  \n",
       "25%    1.607284e+09  \n",
       "50%    1.607284e+09  \n",
       "75%    1.607284e+09  \n",
       "max    1.607284e+09  "
      ]
     },
     "execution_count": 9,
     "metadata": {},
     "output_type": "execute_result"
    }
   ],
   "source": [
    "weather_df.describe()"
   ]
  },
  {
   "cell_type": "code",
   "execution_count": 10,
   "metadata": {},
   "outputs": [
    {
     "data": {
      "text/plain": [
       "572"
      ]
     },
     "execution_count": 10,
     "metadata": {},
     "output_type": "execute_result"
    }
   ],
   "source": [
    "len(weather_df)"
   ]
  },
  {
   "cell_type": "markdown",
   "metadata": {},
   "source": [
    "## Inspect the data and remove the cities where the humidity > 100%.\n",
    "----\n",
    "Skip this step if there are no cities that have humidity > 100%. "
   ]
  },
  {
   "cell_type": "markdown",
   "metadata": {},
   "source": [
    "Skipping step since max humidity = 100 (commented out process I would take if I did have humidity >100, using drop method)"
   ]
  },
  {
   "cell_type": "code",
   "execution_count": 11,
   "metadata": {},
   "outputs": [],
   "source": [
    "#  Get the indices of cities that have humidity over 100%.\n",
    "#high_humidity = weather_df.loc[weather_df[\"Humidity\"] > 100]\n",
    "#high_humidity"
   ]
  },
  {
   "cell_type": "code",
   "execution_count": 12,
   "metadata": {
    "scrolled": true
   },
   "outputs": [],
   "source": [
    "# Make a new DataFrame equal to the city data to drop all humidity outliers by index.\n",
    "# Passing \"inplace=False\" will make a copy of the city_data DataFrame, which we call \"clean_city_data\".\n",
    "#clean_city_data = weather_df.drop(index = , inplace =False)\n",
    "#clean_city_data"
   ]
  },
  {
   "cell_type": "code",
   "execution_count": 13,
   "metadata": {
    "scrolled": true
   },
   "outputs": [
    {
     "data": {
      "text/html": [
       "<div>\n",
       "<style scoped>\n",
       "    .dataframe tbody tr th:only-of-type {\n",
       "        vertical-align: middle;\n",
       "    }\n",
       "\n",
       "    .dataframe tbody tr th {\n",
       "        vertical-align: top;\n",
       "    }\n",
       "\n",
       "    .dataframe thead th {\n",
       "        text-align: right;\n",
       "    }\n",
       "</style>\n",
       "<table border=\"1\" class=\"dataframe\">\n",
       "  <thead>\n",
       "    <tr style=\"text-align: right;\">\n",
       "      <th></th>\n",
       "      <th>City</th>\n",
       "      <th>Lat</th>\n",
       "      <th>Lng</th>\n",
       "      <th>Max Temp</th>\n",
       "      <th>Humidity</th>\n",
       "      <th>Cloudiness</th>\n",
       "      <th>Wind Speed</th>\n",
       "      <th>Country</th>\n",
       "      <th>Date</th>\n",
       "    </tr>\n",
       "  </thead>\n",
       "  <tbody>\n",
       "    <tr>\n",
       "      <th>0</th>\n",
       "      <td>Vaini</td>\n",
       "      <td>-21.20</td>\n",
       "      <td>-175.20</td>\n",
       "      <td>78.80</td>\n",
       "      <td>88</td>\n",
       "      <td>40</td>\n",
       "      <td>9.17</td>\n",
       "      <td>TO</td>\n",
       "      <td>1607284012</td>\n",
       "    </tr>\n",
       "    <tr>\n",
       "      <th>1</th>\n",
       "      <td>Kudahuvadhoo</td>\n",
       "      <td>2.67</td>\n",
       "      <td>72.89</td>\n",
       "      <td>82.51</td>\n",
       "      <td>78</td>\n",
       "      <td>100</td>\n",
       "      <td>14.29</td>\n",
       "      <td>MV</td>\n",
       "      <td>1607284012</td>\n",
       "    </tr>\n",
       "    <tr>\n",
       "      <th>2</th>\n",
       "      <td>Malanje</td>\n",
       "      <td>-9.54</td>\n",
       "      <td>16.34</td>\n",
       "      <td>62.65</td>\n",
       "      <td>95</td>\n",
       "      <td>80</td>\n",
       "      <td>1.57</td>\n",
       "      <td>AO</td>\n",
       "      <td>1607284012</td>\n",
       "    </tr>\n",
       "    <tr>\n",
       "      <th>3</th>\n",
       "      <td>Punta Arenas</td>\n",
       "      <td>-53.15</td>\n",
       "      <td>-70.92</td>\n",
       "      <td>68.00</td>\n",
       "      <td>45</td>\n",
       "      <td>75</td>\n",
       "      <td>26.40</td>\n",
       "      <td>CL</td>\n",
       "      <td>1607284012</td>\n",
       "    </tr>\n",
       "    <tr>\n",
       "      <th>4</th>\n",
       "      <td>Christchurch</td>\n",
       "      <td>-43.53</td>\n",
       "      <td>172.63</td>\n",
       "      <td>69.80</td>\n",
       "      <td>56</td>\n",
       "      <td>97</td>\n",
       "      <td>9.17</td>\n",
       "      <td>NZ</td>\n",
       "      <td>1607283830</td>\n",
       "    </tr>\n",
       "    <tr>\n",
       "      <th>...</th>\n",
       "      <td>...</td>\n",
       "      <td>...</td>\n",
       "      <td>...</td>\n",
       "      <td>...</td>\n",
       "      <td>...</td>\n",
       "      <td>...</td>\n",
       "      <td>...</td>\n",
       "      <td>...</td>\n",
       "      <td>...</td>\n",
       "    </tr>\n",
       "    <tr>\n",
       "      <th>567</th>\n",
       "      <td>Atambua</td>\n",
       "      <td>-9.11</td>\n",
       "      <td>124.89</td>\n",
       "      <td>74.68</td>\n",
       "      <td>86</td>\n",
       "      <td>100</td>\n",
       "      <td>2.37</td>\n",
       "      <td>ID</td>\n",
       "      <td>1607284046</td>\n",
       "    </tr>\n",
       "    <tr>\n",
       "      <th>568</th>\n",
       "      <td>Tías</td>\n",
       "      <td>28.96</td>\n",
       "      <td>-13.64</td>\n",
       "      <td>62.60</td>\n",
       "      <td>67</td>\n",
       "      <td>20</td>\n",
       "      <td>10.29</td>\n",
       "      <td>ES</td>\n",
       "      <td>1607284046</td>\n",
       "    </tr>\n",
       "    <tr>\n",
       "      <th>569</th>\n",
       "      <td>Nexø</td>\n",
       "      <td>55.06</td>\n",
       "      <td>15.13</td>\n",
       "      <td>46.40</td>\n",
       "      <td>87</td>\n",
       "      <td>6</td>\n",
       "      <td>18.34</td>\n",
       "      <td>DK</td>\n",
       "      <td>1607284046</td>\n",
       "    </tr>\n",
       "    <tr>\n",
       "      <th>570</th>\n",
       "      <td>Brewster</td>\n",
       "      <td>41.40</td>\n",
       "      <td>-73.62</td>\n",
       "      <td>39.99</td>\n",
       "      <td>44</td>\n",
       "      <td>1</td>\n",
       "      <td>11.41</td>\n",
       "      <td>US</td>\n",
       "      <td>1607284046</td>\n",
       "    </tr>\n",
       "    <tr>\n",
       "      <th>571</th>\n",
       "      <td>Balkhash</td>\n",
       "      <td>46.84</td>\n",
       "      <td>74.98</td>\n",
       "      <td>12.69</td>\n",
       "      <td>92</td>\n",
       "      <td>93</td>\n",
       "      <td>11.27</td>\n",
       "      <td>KZ</td>\n",
       "      <td>1607284046</td>\n",
       "    </tr>\n",
       "  </tbody>\n",
       "</table>\n",
       "<p>572 rows × 9 columns</p>\n",
       "</div>"
      ],
      "text/plain": [
       "             City    Lat     Lng  Max Temp  Humidity  Cloudiness  Wind Speed  \\\n",
       "0           Vaini -21.20 -175.20     78.80        88          40        9.17   \n",
       "1    Kudahuvadhoo   2.67   72.89     82.51        78         100       14.29   \n",
       "2         Malanje  -9.54   16.34     62.65        95          80        1.57   \n",
       "3    Punta Arenas -53.15  -70.92     68.00        45          75       26.40   \n",
       "4    Christchurch -43.53  172.63     69.80        56          97        9.17   \n",
       "..            ...    ...     ...       ...       ...         ...         ...   \n",
       "567       Atambua  -9.11  124.89     74.68        86         100        2.37   \n",
       "568          Tías  28.96  -13.64     62.60        67          20       10.29   \n",
       "569          Nexø  55.06   15.13     46.40        87           6       18.34   \n",
       "570      Brewster  41.40  -73.62     39.99        44           1       11.41   \n",
       "571      Balkhash  46.84   74.98     12.69        92          93       11.27   \n",
       "\n",
       "    Country        Date  \n",
       "0        TO  1607284012  \n",
       "1        MV  1607284012  \n",
       "2        AO  1607284012  \n",
       "3        CL  1607284012  \n",
       "4        NZ  1607283830  \n",
       "..      ...         ...  \n",
       "567      ID  1607284046  \n",
       "568      ES  1607284046  \n",
       "569      DK  1607284046  \n",
       "570      US  1607284046  \n",
       "571      KZ  1607284046  \n",
       "\n",
       "[572 rows x 9 columns]"
      ]
     },
     "execution_count": 13,
     "metadata": {},
     "output_type": "execute_result"
    }
   ],
   "source": [
    "#Creating clean city data using loc to make sure\n",
    "under_100 = weather_df.loc[weather_df[\"Humidity\"]<= 100]\n",
    "clean_city_data = under_100\n",
    "clean_city_data"
   ]
  },
  {
   "cell_type": "markdown",
   "metadata": {},
   "source": [
    "## Plotting the Data\n",
    "* Use proper labeling of the plots using plot titles (including date of analysis) and axes labels.\n",
    "* Save the plotted figures as .pngs."
   ]
  },
  {
   "cell_type": "markdown",
   "metadata": {},
   "source": [
    "## Latitude vs. Temperature Plot"
   ]
  },
  {
   "cell_type": "code",
   "execution_count": 14,
   "metadata": {
    "scrolled": true
   },
   "outputs": [
    {
     "data": {
      "image/png": "[encoded data removed]",
      "text/plain": [
       "<Figure size 432x288 with 1 Axes>"
      ]
     },
     "metadata": {
      "needs_background": "light"
     },
     "output_type": "display_data"
    }
   ],
   "source": [
    "latitude = clean_city_data[\"Lat\"]\n",
    "max_temp = clean_city_data[\"Max Temp\"]\n",
    "curr_date = dt.datetime.today().strftime(\"%m/%d/%Y\")\n",
    "plt.scatter(latitude, max_temp, edgecolors = \"black\")\n",
    "plt.xlabel(\"Latitude\")\n",
    "plt.ylabel(\"Max Temperature (F)\")\n",
    "plt.title(f\"City Latitude vs. Max Temperature {curr_date}\")\n",
    "plt.grid(True)\n",
    "plt.savefig(\"City Latidude vs Max Temperature.png\")\n",
    "plt.show()"
   ]
  },
  {
   "cell_type": "markdown",
   "metadata": {},
   "source": [
    "# Describe results\n",
    "The closer you move to the equator (latitude =0), the higher the maximum temperature. The further you move away from the equator, the lower the maximum temperature. "
   ]
  },
  {
   "cell_type": "markdown",
   "metadata": {},
   "source": [
    "## Latitude vs. Humidity Plot"
   ]
  },
  {
   "cell_type": "code",
   "execution_count": 15,
   "metadata": {
    "scrolled": false
   },
   "outputs": [
    {
     "data": {
      "image/png": "[encoded data removed]",
      "text/plain": [
       "<Figure size 432x288 with 1 Axes>"
      ]
     },
     "metadata": {
      "needs_background": "light"
     },
     "output_type": "display_data"
    }
   ],
   "source": [
    "latitude = clean_city_data[\"Lat\"]\n",
    "humidity = clean_city_data[\"Humidity\"]\n",
    "curr_date = dt.datetime.today().strftime(\"%m/%d/%Y\")\n",
    "plt.scatter(latitude, humidity, edgecolors = \"black\")\n",
    "plt.xlabel(\"Latitude\")\n",
    "plt.ylabel(\"Humidity (%)\")\n",
    "plt.title(f\"City Latitude vs. Humidity {curr_date}\")\n",
    "plt.grid(True)\n",
    "plt.savefig(\"City Latidude vs. Humidity.png\")\n",
    "plt.show()"
   ]
  },
  {
   "cell_type": "markdown",
   "metadata": {},
   "source": [
    "# Describe results\n",
    "There seems to be no relationship between the humidity and latitude. There are several cities clustered around a latitude of 40-70 degrees and a humidity of 80 to 100."
   ]
  },
  {
   "cell_type": "markdown",
   "metadata": {},
   "source": [
    "## Latitude vs. Cloudiness Plot"
   ]
  },
  {
   "cell_type": "code",
   "execution_count": 16,
   "metadata": {},
   "outputs": [
    {
     "data": {
      "image/png": "[encoded data removed]",
      "text/plain": [
       "<Figure size 432x288 with 1 Axes>"
      ]
     },
     "metadata": {
      "needs_background": "light"
     },
     "output_type": "display_data"
    }
   ],
   "source": [
    "latitude = clean_city_data[\"Lat\"]\n",
    "cloudiness = clean_city_data[\"Cloudiness\"]\n",
    "curr_date = dt.datetime.today().strftime(\"%m/%d/%Y\")\n",
    "plt.scatter(latitude, cloudiness, edgecolors = \"black\")\n",
    "plt.xlabel(\"Latitude\")\n",
    "plt.ylabel(\"Cloudiness (%)\")\n",
    "plt.title(f\"City Latitude vs. Cloudiness ({curr_date}\")\n",
    "plt.grid(True)\n",
    "plt.savefig(\"City Latidude vs. Cloudiness.png\")\n",
    "plt.show()"
   ]
  },
  {
   "cell_type": "markdown",
   "metadata": {},
   "source": [
    "# Describe results\n",
    "There is no clear relationship between cloudiness and latitude. Although, cities are clustered around each 20% interval of cloudiness across all latitudes."
   ]
  },
  {
   "cell_type": "markdown",
   "metadata": {},
   "source": [
    "## Latitude vs. Wind Speed Plot"
   ]
  },
  {
   "cell_type": "code",
   "execution_count": 17,
   "metadata": {},
   "outputs": [
    {
     "data": {
      "image/png": "[encoded data removed]",
      "text/plain": [
       "<Figure size 432x288 with 1 Axes>"
      ]
     },
     "metadata": {
      "needs_background": "light"
     },
     "output_type": "display_data"
    }
   ],
   "source": [
    "latitude = clean_city_data[\"Lat\"]\n",
    "winds = clean_city_data[\"Wind Speed\"]\n",
    "curr_date = dt.datetime.today().strftime(\"%m/%d/%Y\")\n",
    "plt.scatter(latitude, winds, edgecolors = \"black\")\n",
    "plt.xlabel(\"Latitude\")\n",
    "plt.ylabel(\"Wind Speed (mph)\")\n",
    "plt.title(f\"City Latitude vs. Wind Speed {curr_date}\")\n",
    "plt.grid(True)\n",
    "plt.savefig(\"City Latidude vs. Wind Speed.png\")\n",
    "plt.show()"
   ]
  },
  {
   "cell_type": "markdown",
   "metadata": {},
   "source": [
    "# Describe results\n",
    "The majority of cities have wind speeds less than 6 mph."
   ]
  },
  {
   "cell_type": "markdown",
   "metadata": {},
   "source": [
    "## Linear Regression"
   ]
  },
  {
   "cell_type": "code",
   "execution_count": 18,
   "metadata": {},
   "outputs": [],
   "source": [
    "#Use loc to get data for each hemisphere\n",
    "southern_hemisphere = clean_city_data.loc[clean_city_data[\"Lat\"] < 0]\n",
    "northern_hemisphere = clean_city_data.loc[clean_city_data[\"Lat\"] >= 0]"
   ]
  },
  {
   "cell_type": "markdown",
   "metadata": {},
   "source": [
    "####  Northern Hemisphere - Max Temp vs. Latitude Linear Regression"
   ]
  },
  {
   "cell_type": "code",
   "execution_count": 19,
   "metadata": {},
   "outputs": [
    {
     "name": "stdout",
     "output_type": "stream",
     "text": [
      "The r-value is: 0.736050208169913\n"
     ]
    },
    {
     "data": {
      "image/png": "[encoded data removed]",
      "text/plain": [
       "<Figure size 432x288 with 1 Axes>"
      ]
     },
     "metadata": {
      "needs_background": "light"
     },
     "output_type": "display_data"
    }
   ],
   "source": [
    "north_lat = northern_hemisphere[\"Lat\"]\n",
    "north_max_temp =northern_hemisphere[\"Max Temp\"]\n",
    "plt.scatter(north_lat, north_max_temp)\n",
    "plt.ylabel(\"Max Temperature (F)\")\n",
    "plt.xlabel(\"Latitude\")\n",
    "plt.title(\"Northen Hemisphere: Max Temp vs. Latitude\")\n",
    "\n",
    "# Perform a linear regression on max temp vs. latitude\n",
    "(slope, intercept, rvalue, pvalue, stderr) = stats.linregress(north_lat, north_max_temp)\n",
    "fit = slope * north_lat + intercept\n",
    "# Create line equation string\n",
    "line_eq = \"y = \" + str(round(slope,2)) + \"x +\" + str(round(intercept,2))\n",
    "#Put the line of best fit over the scatter plot and add the equation\n",
    "plt.plot(north_lat, fit,\"r-\", color = \"red\")\n",
    "plt.annotate(line_eq,(0,250), fontsize = 15, color = \"red\")\n",
    "plt.savefig(\"Northen Hemisphere-Max Temp vs. Latitude.png\")\n",
    "print(f\"The r-value is: {rvalue**2}\")\n",
    "#plt.show()"
   ]
  },
  {
   "cell_type": "markdown",
   "metadata": {},
   "source": [
    "# Describe results\n",
    "Since the r value is larger than .7, there is a strong positive relationship between maximum temperature and latitude in cities located in the northern hemisphere."
   ]
  },
  {
   "cell_type": "markdown",
   "metadata": {},
   "source": [
    "####  Southern Hemisphere - Max Temp vs. Latitude Linear Regression"
   ]
  },
  {
   "cell_type": "code",
   "execution_count": 20,
   "metadata": {},
   "outputs": [
    {
     "name": "stdout",
     "output_type": "stream",
     "text": [
      "The r-value is: 0.3741206817424309\n"
     ]
    },
    {
     "data": {
      "image/png": "[encoded data removed]",
      "text/plain": [
       "<Figure size 432x288 with 1 Axes>"
      ]
     },
     "metadata": {
      "needs_background": "light"
     },
     "output_type": "display_data"
    }
   ],
   "source": [
    "south_lat = southern_hemisphere[\"Lat\"]\n",
    "south_max_temp = southern_hemisphere[\"Max Temp\"]\n",
    "plt.scatter(south_lat, south_max_temp)\n",
    "plt.ylabel(\"Max Temperature (F)\")\n",
    "plt.xlabel(\"Latitude\")\n",
    "plt.title(\"Southern Hemisphere: Max Temp vs. Latitude\")\n",
    "# Perform a linear regression on max temp vs. latitude\n",
    "(slope, intercept, rvalue, pvalue, stderr) = stats.linregress(south_lat, south_max_temp)\n",
    "fit = slope * south_lat + intercept\n",
    "# Create line equation string\n",
    "line_eq = \"y = \" + str(round(slope,2)) + \"x +\" + str(round(intercept,2))\n",
    "#Put the line of best fit over the scatter plot and add the equation\n",
    "plt.plot(south_lat, fit,\"r-\", color = \"red\")\n",
    "plt.annotate(line_eq,(-40,280), fontsize = 15, color = \"red\")\n",
    "plt.savefig(\"Southern Hemisphere-Max Temp vs. Latitude.png\")\n",
    "print(f\"The r-value is: {rvalue**2}\")\n",
    "#plt.show()"
   ]
  },
  {
   "cell_type": "markdown",
   "metadata": {},
   "source": [
    "# Describe results\n",
    "Since the r value is between .3 and .5, there is a weak positive relationship between maximum temperature and latitude in cities located in the southern hemisphere."
   ]
  },
  {
   "cell_type": "markdown",
   "metadata": {},
   "source": [
    "####  Northern Hemisphere - Humidity (%) vs. Latitude Linear Regression"
   ]
  },
  {
   "cell_type": "code",
   "execution_count": 21,
   "metadata": {
    "scrolled": true
   },
   "outputs": [
    {
     "name": "stdout",
     "output_type": "stream",
     "text": [
      "The r-value is: 0.18156957076368088\n"
     ]
    },
    {
     "data": {
      "image/png": "[encoded data removed]",
      "text/plain": [
       "<Figure size 432x288 with 1 Axes>"
      ]
     },
     "metadata": {
      "needs_background": "light"
     },
     "output_type": "display_data"
    }
   ],
   "source": [
    "north_lat = northern_hemisphere[\"Lat\"]\n",
    "north_humidity =northern_hemisphere[\"Humidity\"]\n",
    "plt.scatter(north_lat,north_humidity)\n",
    "plt.ylabel(\"Humidity (%)\")\n",
    "plt.xlabel(\"Latitude\")\n",
    "plt.title(\"Northern Hemisphere: Humidity vs. Latitude\")\n",
    "\n",
    "# Perform a linear regression on humidity vs. latitude\n",
    "(slope, intercept, rvalue, pvalue, stderr) = stats.linregress(north_lat, north_humidity)\n",
    "fit = slope * north_lat + intercept\n",
    "# Create line equation string\n",
    "line_eq = \"y = \" + str(round(slope,2)) + \"x +\" + str(round(intercept,2))\n",
    "#Put the line of best fit over the scatter plot and add the equation\n",
    "plt.plot(north_lat, fit,\"r-\", color = \"red\")\n",
    "plt.annotate(line_eq, (48,20), fontsize = 15, color = \"red\")\n",
    "plt.savefig(\"Northern Hemisphere-Humidity vs. Latitude.png\")\n",
    "print(f\"The r-value is: {rvalue**2}\")\n",
    "#plt.show()"
   ]
  },
  {
   "cell_type": "markdown",
   "metadata": {},
   "source": [
    "# Describe the results\n",
    "Since the r value is less than .3,but greater than .1 there is a very weak relationship between humidity and latitude in cities located in the northern hemisphere."
   ]
  },
  {
   "cell_type": "markdown",
   "metadata": {},
   "source": [
    "####  Southern Hemisphere - Humidity (%) vs. Latitude Linear Regression"
   ]
  },
  {
   "cell_type": "code",
   "execution_count": 22,
   "metadata": {},
   "outputs": [
    {
     "name": "stdout",
     "output_type": "stream",
     "text": [
      "The r-value is: 0.03861005601348886\n"
     ]
    },
    {
     "data": {
      "image/png": "[encoded data removed]",
      "text/plain": [
       "<Figure size 432x288 with 1 Axes>"
      ]
     },
     "metadata": {
      "needs_background": "light"
     },
     "output_type": "display_data"
    }
   ],
   "source": [
    "south_lat = southern_hemisphere[\"Lat\"]\n",
    "south_humidity = southern_hemisphere[\"Humidity\"]\n",
    "plt.scatter(south_lat,south_humidity)\n",
    "plt.ylabel(\"Humidity (%)\")\n",
    "plt.xlabel(\"Latitude\")\n",
    "plt.title(\"Southern Hemisphere: Humidity vs. Latitude\")\n",
    "\n",
    "# Perform a linear regression on humidity vs. latitude\n",
    "(slope, intercept, rvalue, pvalue, stderr) = stats.linregress(south_lat, south_humidity)\n",
    "fit = slope * south_lat + intercept\n",
    "# Create line equation string\n",
    "line_eq = \"y = \" + str(round(slope,2)) + \"x +\" + str(round(intercept,2))\n",
    "#Put the line of best fit over the scatter plot and add the equation\n",
    "plt.plot(south_lat, fit,\"r-\", color = \"red\")\n",
    "plt.annotate(line_eq, (-55,40), fontsize = 15, color = \"red\")\n",
    "plt.savefig(\"Southern Hemisphere-Humidity vs. Latitude.png\")\n",
    "print(f\"The r-value is: {rvalue**2}\")\n",
    "#plt.show()"
   ]
  },
  {
   "cell_type": "markdown",
   "metadata": {},
   "source": [
    "# Describe the results\n",
    "Since the r value is less than .3, but greater than .1 there is a very weak positive relationship between humidity and latitude in cities located in the southern hemisphere."
   ]
  },
  {
   "cell_type": "markdown",
   "metadata": {},
   "source": [
    "####  Northern Hemisphere - Cloudiness (%) vs. Latitude Linear Regression"
   ]
  },
  {
   "cell_type": "code",
   "execution_count": 23,
   "metadata": {
    "scrolled": true
   },
   "outputs": [
    {
     "name": "stdout",
     "output_type": "stream",
     "text": [
      "The r-value is: 0.05188970641134004\n"
     ]
    },
    {
     "data": {
      "image/png": "[encoded data removed]",
      "text/plain": [
       "<Figure size 432x288 with 1 Axes>"
      ]
     },
     "metadata": {
      "needs_background": "light"
     },
     "output_type": "display_data"
    }
   ],
   "source": [
    "north_lat = northern_hemisphere[\"Lat\"]\n",
    "north_cloudiness =northern_hemisphere[\"Cloudiness\"]\n",
    "plt.scatter(north_lat,north_cloudiness)\n",
    "plt.ylabel(\"Cloudiness (%)\")\n",
    "plt.xlabel(\"Latitude\")\n",
    "plt.title(\"Northern Hemisphere: Cloudiness vs. Latitude\")\n",
    "\n",
    "# Perform a linear regression on humidity vs. latitude\n",
    "(slope, intercept, rvalue, pvalue, stderr) = stats.linregress(north_lat, north_cloudiness)\n",
    "fit = slope * north_lat + intercept\n",
    "# Create line equation string\n",
    "line_eq = \"y = \" + str(round(slope,2)) + \"x +\" + str(round(intercept,2))\n",
    "#Put the line of best fit over the scatter plot and add the equation\n",
    "plt.plot(north_lat, fit,\"r-\", color = \"red\")\n",
    "plt.annotate(line_eq, (20,50), fontsize = 15, color = \"red\")\n",
    "plt.savefig(\"Northern Hemisphere-Cloudiness vs. Latitude.png\")\n",
    "print(f\"The r-value is: {rvalue**2}\")\n",
    "#plt.show()"
   ]
  },
  {
   "cell_type": "markdown",
   "metadata": {},
   "source": [
    "# Describe the results\n",
    "Since the r value is less than .3, there is no relationship between cloudiness and latitude in cities located in the northern hemisphere."
   ]
  },
  {
   "cell_type": "markdown",
   "metadata": {},
   "source": [
    "####  Southern Hemisphere - Cloudiness (%) vs. Latitude Linear Regression"
   ]
  },
  {
   "cell_type": "code",
   "execution_count": 24,
   "metadata": {},
   "outputs": [
    {
     "name": "stdout",
     "output_type": "stream",
     "text": [
      "The r-value is: 0.06471886989579695\n"
     ]
    },
    {
     "data": {
      "image/png": "[encoded data removed]",
      "text/plain": [
       "<Figure size 432x288 with 1 Axes>"
      ]
     },
     "metadata": {
      "needs_background": "light"
     },
     "output_type": "display_data"
    }
   ],
   "source": [
    "south_lat = southern_hemisphere[\"Lat\"]\n",
    "south_cloudiness = southern_hemisphere[\"Cloudiness\"]\n",
    "plt.scatter(south_lat,south_cloudiness)\n",
    "plt.ylabel(\"Cloudiness (%)\")\n",
    "plt.xlabel(\"Latitude\")\n",
    "plt.title(\"Southern Hemisphere: Cloudiness vs. Latitude\")\n",
    "\n",
    "# Perform a linear regression on humidity vs. latitude\n",
    "(slope, intercept, rvalue, pvalue, stderr) = stats.linregress(south_lat, south_cloudiness)\n",
    "fit = slope * south_lat + intercept\n",
    "# Create line equation string\n",
    "line_eq = \"y = \" + str(round(slope,2)) + \"x +\" + str(round(intercept,2))\n",
    "#Put the line of best fit over the scatter plot and add the equation\n",
    "plt.plot(south_lat, fit,\"r-\", color = \"red\")\n",
    "plt.annotate(line_eq, (-55,50), fontsize = 15, color = \"red\")\n",
    "plt.savefig(\"Southern Hemisphere-Humidity vs. Latitude.png\")\n",
    "print(f\"The r-value is: {rvalue**2}\")\n",
    "#plt.show()"
   ]
  },
  {
   "cell_type": "markdown",
   "metadata": {},
   "source": [
    "# Describe the results\n",
    "Since the r value is less than .3, there is no relationship between cloudiness and latitude in cities located in the southern hemisphere."
   ]
  },
  {
   "cell_type": "markdown",
   "metadata": {},
   "source": [
    "####  Northern Hemisphere - Wind Speed (mph) vs. Latitude Linear Regression"
   ]
  },
  {
   "cell_type": "code",
   "execution_count": 25,
   "metadata": {},
   "outputs": [
    {
     "name": "stdout",
     "output_type": "stream",
     "text": [
      "The r-value is: 0.020083036620091258\n"
     ]
    },
    {
     "data": {
      "image/png": "[encoded data removed]",
      "text/plain": [
       "<Figure size 432x288 with 1 Axes>"
      ]
     },
     "metadata": {
      "needs_background": "light"
     },
     "output_type": "display_data"
    }
   ],
   "source": [
    "north_lat = northern_hemisphere[\"Lat\"]\n",
    "north_winds =northern_hemisphere[\"Wind Speed\"]\n",
    "plt.scatter(north_lat,north_winds)\n",
    "plt.ylabel(\"Wind Speed (mph)\")\n",
    "plt.xlabel(\"Latitude\")\n",
    "plt.title(\"Northern Hemisphere: Wind Speed vs. Latitude\")\n",
    "\n",
    "# Perform a linear regression on humidity vs. latitude\n",
    "(slope, intercept, rvalue, pvalue, stderr) = stats.linregress(north_lat, north_winds)\n",
    "fit = slope * north_lat + intercept\n",
    "# Create line equation string\n",
    "line_eq = \"y = \" + str(round(slope,2)) + \"x +\" + str(round(intercept,2))\n",
    "#Put the line of best fit over the scatter plot and add the equation\n",
    "plt.plot(north_lat, fit,\"r-\", color = \"red\")\n",
    "plt.annotate(line_eq, (10,12), fontsize = 15, color = \"red\")\n",
    "plt.savefig(\"Northern Hemisphere-Wind Speed vs. Latitude.png\")\n",
    "print(f\"The r-value is: {rvalue**2}\")\n",
    "#plt.show()"
   ]
  },
  {
   "cell_type": "markdown",
   "metadata": {},
   "source": [
    "# Describe the results\n",
    "Since the r value is less than .3, there is no relationship between wind speed and latitude in cities located in the northern hemisphere."
   ]
  },
  {
   "cell_type": "markdown",
   "metadata": {},
   "source": [
    "####  Southern Hemisphere - Wind Speed (mph) vs. Latitude Linear Regression"
   ]
  },
  {
   "cell_type": "code",
   "execution_count": 26,
   "metadata": {},
   "outputs": [
    {
     "name": "stdout",
     "output_type": "stream",
     "text": [
      "The r-value is: 0.046510786428148196\n"
     ]
    },
    {
     "data": {
      "image/png": "[encoded data removed]",
      "text/plain": [
       "<Figure size 432x288 with 1 Axes>"
      ]
     },
     "metadata": {
      "needs_background": "light"
     },
     "output_type": "display_data"
    }
   ],
   "source": [
    "south_lat = southern_hemisphere[\"Lat\"]\n",
    "south_winds = southern_hemisphere[\"Wind Speed\"]\n",
    "plt.scatter(south_lat,south_winds)\n",
    "plt.ylabel(\"Wind Speed (mph)\")\n",
    "plt.xlabel(\"Latitude\")\n",
    "plt.title(\"Southern Hemisphere: Wind Speed vs. Latitude\")\n",
    "\n",
    "# Perform a linear regression on humidity vs. latitude\n",
    "(slope, intercept, rvalue, pvalue, stderr) = stats.linregress(south_lat, south_winds)\n",
    "fit = slope * south_lat + intercept\n",
    "# Create line equation string\n",
    "line_eq = \"y = \" + str(round(slope,2)) + \"x +\" + str(round(intercept,2))\n",
    "#Put the line of best fit over the scatter plot and add the equation\n",
    "plt.plot(south_lat, fit,\"r-\", color = \"red\")\n",
    "plt.annotate(line_eq, (-25,10), fontsize = 15, color = \"red\")\n",
    "plt.savefig(\"Southern Hemisphere-Wind Speed vs. Latitude.png\")\n",
    "print(f\"The r-value is: {rvalue**2}\")\n",
    "#plt.show()"
   ]
  },
  {
   "cell_type": "markdown",
   "metadata": {},
   "source": [
    "# Describe the results\n",
    "Since the r value is less than .3, there is no relationship between wind speed and latitude in cities located in the southern hemisphere."
   ]
  }
 ],
 "metadata": {
  "anaconda-cloud": {},
  "kernel_info": {
   "name": "python3"
  },
  "kernelspec": {
   "display_name": "Python 3",
   "language": "python",
   "name": "python3"
  },
  "language_info": {
   "codemirror_mode": {
    "name": "ipython",
    "version": 3
   },
   "file_extension": ".py",
   "mimetype": "text/x-python",
   "name": "python",
   "nbconvert_exporter": "python",
   "pygments_lexer": "ipython3",
   "version": "3.8.3"
  },
  "latex_envs": {
   "LaTeX_envs_menu_present": true,
   "autoclose": false,
   "autocomplete": true,
   "bibliofile": "biblio.bib",
   "cite_by": "apalike",
   "current_citInitial": 1,
   "eqLabelWithNumbers": true,
   "eqNumInitial": 1,
   "hotkeys": {
    "equation": "Ctrl-E",
    "itemize": "Ctrl-I"
   },
   "labels_anchors": false,
   "latex_user_defs": false,
   "report_style_numbering": false,
   "user_envs_cfg": false
  },
  "nteract": {
   "version": "0.12.3"
  }
 },
 "nbformat": 4,
 "nbformat_minor": 2
}
